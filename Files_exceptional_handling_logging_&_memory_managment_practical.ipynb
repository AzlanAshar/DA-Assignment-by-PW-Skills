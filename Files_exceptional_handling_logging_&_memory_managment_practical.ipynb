{
  "nbformat": 4,
  "nbformat_minor": 0,
  "metadata": {
    "colab": {
      "provenance": [],
      "authorship_tag": "ABX9TyPGRQbP9waAh/Ar48bNWQ6K",
      "include_colab_link": true
    },
    "kernelspec": {
      "name": "python3",
      "display_name": "Python 3"
    },
    "language_info": {
      "name": "python"
    }
  },
  "cells": [
    {
      "cell_type": "markdown",
      "metadata": {
        "id": "view-in-github",
        "colab_type": "text"
      },
      "source": [
        "<a href=\"https://colab.research.google.com/github/AzlanAshar/DA-Assignment-by-PW-Skills/blob/main/Files_exceptional_handling_logging_%26_memory_managment_practical.ipynb\" target=\"_parent\"><img src=\"https://colab.research.google.com/assets/colab-badge.svg\" alt=\"Open In Colab\"/></a>"
      ]
    },
    {
      "cell_type": "markdown",
      "source": [
        "# **Files, exceptional handling, logging and memory management Questions - Practical**"
      ],
      "metadata": {
        "id": "5Ro24aa_dHQT"
      }
    },
    {
      "cell_type": "markdown",
      "source": [
        "### **1. How can you open a file for writing in Python and write a string to it ?**"
      ],
      "metadata": {
        "id": "Out7PjrWGlDL"
      }
    },
    {
      "cell_type": "markdown",
      "source": [
        "Opening a file for writing in Python is easy. Here's how you can do it step-by-step:\n",
        "\n",
        "1. **Use the 'open()' function**: This function helps you open a file. You need to specify the name of the file and the mode in which you want to open it.\n",
        "   - Use \"w\" (write mode) to open the file for writing. If the file doesn’t exist, it will be created. If it exists, it will overwrite the file.\n",
        "\n",
        "2. **Write to the file using the 'write()' method**: This method allows you to add text to the file.\n",
        "\n",
        "3. **Close the file using the 'close()' method**: Always close the file after you’re done to save changes and free up system resources.\n",
        "\n",
        "Here’s an example:"
      ],
      "metadata": {
        "id": "igh8Jvl7GspJ"
      }
    },
    {
      "cell_type": "code",
      "execution_count": 1,
      "metadata": {
        "id": "oQA7v6vUGhrJ"
      },
      "outputs": [],
      "source": [
        "#Open the file in write mode\n",
        "file = open(\"example.txt\", \"w\")\n",
        "\n",
        "#Write a string to the file\n",
        "file.write(\"Hello, this is a test string!\")\n",
        "\n",
        "#Close the file\n",
        "file.close()"
      ]
    },
    {
      "cell_type": "markdown",
      "source": [
        "#### **What happens here?**\n",
        "1. If \"example.txt\" doesn’t exist, Python creates it.\n",
        "2. The string \"Hello, this is a test string!\" is written to the file.\n",
        "3. The file is closed to save changes and avoid errors.\n",
        "\n",
        "\n",
        "####**Simpler way (optional)**\n",
        "You can use a 'with' statement to handle the file, so you don’t have to explicitly close it:\n",
        "\n",
        "This automatically closes the file when you’re done."
      ],
      "metadata": {
        "id": "INSDQaIUHIbE"
      }
    },
    {
      "cell_type": "code",
      "source": [
        "with open(\"example.txt\", \"w\") as file:\n",
        "    file.write(\"Hello, this is a test string!\")"
      ],
      "metadata": {
        "id": "sOTix5S7G9Y8"
      },
      "execution_count": 2,
      "outputs": []
    },
    {
      "cell_type": "markdown",
      "source": [
        "### **2. Write a Python program to read the contents of a file and print each line.**"
      ],
      "metadata": {
        "id": "ivgwqlkXHX8G"
      }
    },
    {
      "cell_type": "markdown",
      "source": [
        "We'll use the open() function to open the file in read mode and a loop to go through each line.\n",
        "\n",
        "#### **Step-by-Step Explanation:**\n",
        "Open the file using the open() function in \"r\" mode (read mode).\n",
        "Use a for loop to go through each line in the file.\n",
        "Print each line to the screen.\n",
        "Here’s the program with a unique example:\n",
        "\n",
        "**Example Program:**\n",
        "Imagine we have a file called shopping_list.txt that contains the following lines:"
      ],
      "metadata": {
        "id": "RxRy-3g7HgWb"
      }
    },
    {
      "cell_type": "code",
      "source": [
        "#Create and write to the file shopping_list.txt\n",
        "with open(\"shopping_list.txt\", \"w\") as file:\n",
        "    file.write(\"Believe in yourself.\\n\")  #add newline character to separate items\n",
        "    file.write(\"Keep pushing forward.\\n\")\n",
        "    file.write(\"Success is a journey, not a destination.\\n\")\n",
        "\n",
        "#Open the file in read mode\n",
        "with open(\"shopping_list.txt\", \"r\") as file:\n",
        "    #Loop through each line in the file\n",
        "    for line in file:\n",
        "        #Print the line after removing extra spaces or newline characters\n",
        "        print(line.strip())"
      ],
      "metadata": {
        "colab": {
          "base_uri": "https://localhost:8080/"
        },
        "id": "YC4IFmm8HUWq",
        "outputId": "482da661-a920-4737-a6d0-940dc7a001db"
      },
      "execution_count": 3,
      "outputs": [
        {
          "output_type": "stream",
          "name": "stdout",
          "text": [
            "Believe in yourself.\n",
            "Keep pushing forward.\n",
            "Success is a journey, not a destination.\n"
          ]
        }
      ]
    },
    {
      "cell_type": "markdown",
      "source": [
        "#### **Why strip()?**\n",
        "The strip() function removes any unnecessary spaces or \\n (newline characters) from the line, so it looks clean when printed."
      ],
      "metadata": {
        "id": "hsq-mMosH8U7"
      }
    },
    {
      "cell_type": "markdown",
      "source": [
        "### **3. How would you handle a case where the file doesn't exist while trying to open it for reading ?**"
      ],
      "metadata": {
        "id": "2IY4jvdCKdRd"
      }
    },
    {
      "cell_type": "markdown",
      "source": [
        "If a file doesn’t exist and you try to open it in read mode (\"r\"), Python will raise a FileNotFoundError. You can handle this gracefully using a try-except block. Here's how:\n",
        "\n",
        "#### **Step-by-Step Approach:**\n",
        "Use try to attempt opening the file.\n",
        "Catch the FileNotFoundError in the except block.\n",
        "Provide a friendly message or take an alternative action (like creating the file or exiting the program gracefully).\n",
        "#### **Example Program:**\n",
        "Scenario:\n",
        "Imagine we are trying to read a file called daily_tasks.txt that may or may not exist."
      ],
      "metadata": {
        "id": "DtEAz34GKiIz"
      }
    },
    {
      "cell_type": "markdown",
      "source": [
        "#### **First Run (File Missing):**\n"
      ],
      "metadata": {
        "id": "lwV4gFamKooa"
      }
    },
    {
      "cell_type": "code",
      "source": [
        "try:\n",
        "    # Try to open the file\n",
        "    with open(\"funny_quotes.txt\", \"r\") as file:\n",
        "        print(\"Here are your quotes:\")\n",
        "        for line in file:\n",
        "            print(line.strip())\n",
        "except FileNotFoundError:\n",
        "    # If the file doesn't exist, create it with some default content\n",
        "    print(\"File not found. Creating 'funny_quotes.txt' with default quotes...\")\n",
        "    with open(\"funny_quotes.txt\", \"w\") as file:\n",
        "        file.write(\"Life is short. Smile while you still have teeth.\\n\")\n",
        "        file.write(\"Why don’t skeletons fight each other? They don’t have the guts.\\n\")\n",
        "    print(\"Default quotes have been added! Run the program again to read them.\")"
      ],
      "metadata": {
        "colab": {
          "base_uri": "https://localhost:8080/"
        },
        "id": "5vURJQeBH3jp",
        "outputId": "2d7a5f9e-a9bf-4e02-e1bd-b12ac932b5cd"
      },
      "execution_count": 4,
      "outputs": [
        {
          "output_type": "stream",
          "name": "stdout",
          "text": [
            "File not found. Creating 'funny_quotes.txt' with default quotes...\n",
            "Default quotes have been added! Run the program again to read them.\n"
          ]
        }
      ]
    },
    {
      "cell_type": "markdown",
      "source": [
        "#### **Second Run (File Exists):**"
      ],
      "metadata": {
        "id": "Y4KEomZaK7do"
      }
    },
    {
      "cell_type": "code",
      "source": [
        "try:\n",
        "    # Try to open the file\n",
        "    with open(\"funny_quotes.txt\", \"r\") as file:\n",
        "        print(\"Here are your quotes:\")\n",
        "        for line in file:\n",
        "            print(line.strip())\n",
        "except FileNotFoundError:\n",
        "    # If the file doesn't exist, create it with some default content\n",
        "    print(\"File not found. Creating 'funny_quotes.txt' with default quotes...\")\n",
        "    with open(\"funny_quotes.txt\", \"w\") as file:\n",
        "        file.write(\"Life is short. Smile while you still have teeth.\\n\")\n",
        "        file.write(\"Why don’t skeletons fight each other? They don’t have the guts.\\n\")\n",
        "    print(\"Default quotes have been added! Run the program again to read them.\")"
      ],
      "metadata": {
        "colab": {
          "base_uri": "https://localhost:8080/"
        },
        "id": "PRJub_I9KyYQ",
        "outputId": "4790ecb5-c3fb-4c79-8947-850f959dc696"
      },
      "execution_count": 5,
      "outputs": [
        {
          "output_type": "stream",
          "name": "stdout",
          "text": [
            "Here are your quotes:\n",
            "Life is short. Smile while you still have teeth.\n",
            "Why don’t skeletons fight each other? They don’t have the guts.\n"
          ]
        }
      ]
    },
    {
      "cell_type": "markdown",
      "source": [
        "### **4. Write a Python script that reads from one file and writes its content to another file.**"
      ],
      "metadata": {
        "id": "vUyB71YALHbe"
      }
    },
    {
      "cell_type": "markdown",
      "source": [
        "#### **Example Scenario:**\n",
        "Imagine we have a file called quotes.txt that contains motivational quotes. We want to copy its content into a new file called backup_quotes.txt.\n",
        "\n",
        "#### **Step-by-Step Script:**\n",
        "Open the source file (quotes.txt) in read mode.\n",
        "Open the destination file (backup_quotes.txt) in write mode.\n",
        "Read the content from the source file.\n",
        "Write the content to the destination file."
      ],
      "metadata": {
        "id": "IVtmI1HNLMCF"
      }
    },
    {
      "cell_type": "markdown",
      "source": [
        "#### **Step 1: Create a File**"
      ],
      "metadata": {
        "id": "UF9FOeeXLSjr"
      }
    },
    {
      "cell_type": "code",
      "source": [
        "#Create a source file named \"quotes.txt\" for demonstration\n",
        "with open(\"quotes.txt\", \"w\") as file:\n",
        "    file.write(\"\"\"Success is not final, failure is not fatal: It is the courage to continue that counts.\n",
        "Do not watch the clock. Do what it does. Keep going.\n",
        "Act as if what you do makes a difference. It does.\n",
        "\"\"\")\n",
        "print(\"File 'quotes.txt' has been created with some sample content.\")"
      ],
      "metadata": {
        "colab": {
          "base_uri": "https://localhost:8080/"
        },
        "id": "-oYiITJNLDEb",
        "outputId": "f44dbd79-d9b5-436a-9085-7cebf9e2e80a"
      },
      "execution_count": 6,
      "outputs": [
        {
          "output_type": "stream",
          "name": "stdout",
          "text": [
            "File 'quotes.txt' has been created with some sample content.\n"
          ]
        }
      ]
    },
    {
      "cell_type": "markdown",
      "source": [
        "#### **Step 2: Copy Content from quotes.txt to backup_quotes.txt**\n"
      ],
      "metadata": {
        "id": "dcFurid7LdIY"
      }
    },
    {
      "cell_type": "code",
      "source": [
        "#Copy content from quotes.txt to backup_quotes.txt\n",
        "try:\n",
        "    #Open the source file to read its content\n",
        "    with open(\"quotes.txt\", \"r\") as source_file:\n",
        "        content = source_file.read()  #Read all content from the file\n",
        "\n",
        "    #Open the destination file in write mode to write the content\n",
        "    with open(\"backup_quotes.txt\", \"w\") as destination_file:\n",
        "        destination_file.write(content)  #Write content to the new file\n",
        "\n",
        "    print(\"Content has been successfully copied to 'backup_quotes.txt'.\")\n",
        "except FileNotFoundError:\n",
        "    print(\"The file 'quotes.txt' does not exist. Please create it first.\")\n"
      ],
      "metadata": {
        "colab": {
          "base_uri": "https://localhost:8080/"
        },
        "id": "8XkHd21hLY9g",
        "outputId": "ceec9255-bfe5-4d19-eebc-0a4e285bc86b"
      },
      "execution_count": 7,
      "outputs": [
        {
          "output_type": "stream",
          "name": "stdout",
          "text": [
            "Content has been successfully copied to 'backup_quotes.txt'.\n"
          ]
        }
      ]
    },
    {
      "cell_type": "markdown",
      "source": [
        "#### **Step 3: Verify the Content of Both Files**"
      ],
      "metadata": {
        "id": "c-OUWF3DLrjW"
      }
    },
    {
      "cell_type": "code",
      "source": [
        "#Function to read and display content of a file\n",
        "def display_file_content(file_name):\n",
        "    try:\n",
        "        with open(file_name, \"r\") as file:\n",
        "            print(f\"Contents of '{file_name}':\")\n",
        "            print(file.read())\n",
        "    except FileNotFoundError:\n",
        "        print(f\"The file '{file_name}' does not exist.\")\n",
        "\n",
        "#Display contents of the original and backup files\n",
        "display_file_content(\"quotes.txt\")\n",
        "display_file_content(\"backup_quotes.txt\")"
      ],
      "metadata": {
        "colab": {
          "base_uri": "https://localhost:8080/"
        },
        "id": "EqBrBlaLLoCG",
        "outputId": "39754f6e-21e6-4697-e260-9d1a39fd3d39"
      },
      "execution_count": 8,
      "outputs": [
        {
          "output_type": "stream",
          "name": "stdout",
          "text": [
            "Contents of 'quotes.txt':\n",
            "Success is not final, failure is not fatal: It is the courage to continue that counts.\n",
            "Do not watch the clock. Do what it does. Keep going.\n",
            "Act as if what you do makes a difference. It does.\n",
            "\n",
            "Contents of 'backup_quotes.txt':\n",
            "Success is not final, failure is not fatal: It is the courage to continue that counts.\n",
            "Do not watch the clock. Do what it does. Keep going.\n",
            "Act as if what you do makes a difference. It does.\n",
            "\n"
          ]
        }
      ]
    },
    {
      "cell_type": "markdown",
      "source": [
        "#### **Explanation:**\n",
        "**Step 1:** Creates the file quotes.txt with sample content to simulate a source file.\n",
        "\n",
        "**Step 2:** Reads the content of quotes.txt and writes it to backup_quotes.txt.\n",
        "\n",
        "**Step 3:** Reads and prints the contents of both files to confirm the operation worked correctly.\n"
      ],
      "metadata": {
        "id": "RfhBd4BAL5b6"
      }
    },
    {
      "cell_type": "markdown",
      "source": [
        "### **5. How would you catch and handle division by zero error in Python ?**"
      ],
      "metadata": {
        "id": "w4xA1vQbMBHN"
      }
    },
    {
      "cell_type": "markdown",
      "source": [
        "In Python, you can catch and handle a division by zero error using a try-except block. The specific exception for division by zero is ZeroDivisionError.\n",
        "\n",
        "#### **Example 1: Basic Division Operation**"
      ],
      "metadata": {
        "id": "WBUn3b-yMUpN"
      }
    },
    {
      "cell_type": "code",
      "source": [
        "try:\n",
        "    # Perform division\n",
        "    numerator = 10\n",
        "    denominator = 0\n",
        "    result = numerator / denominator\n",
        "    print(f\"The result is: {result}\")\n",
        "except ZeroDivisionError:\n",
        "    print(\"Error: Division by zero is not allowed!\")"
      ],
      "metadata": {
        "colab": {
          "base_uri": "https://localhost:8080/"
        },
        "id": "7UH2MQX9LygN",
        "outputId": "af0a0fa0-535a-4ef6-add6-639787c20b9a"
      },
      "execution_count": 9,
      "outputs": [
        {
          "output_type": "stream",
          "name": "stdout",
          "text": [
            "Error: Division by zero is not allowed!\n"
          ]
        }
      ]
    },
    {
      "cell_type": "markdown",
      "source": [
        "#### **Example 2: User Input for Division**\n",
        "Let’s ask the user for input (via input()) and handle division by zero:"
      ],
      "metadata": {
        "id": "A3K7_1xQMic-"
      }
    },
    {
      "cell_type": "code",
      "source": [
        "#Taking input from the user for demonstration\n",
        "numerator = float(input(\"Enter the numerator: \"))\n",
        "denominator = float(input(\"Enter the denominator: \"))\n",
        "\n",
        "try:\n",
        "    #Attempt the division\n",
        "    result = numerator / denominator\n",
        "    print(f\"The result of the division is: {result}\")\n",
        "except ZeroDivisionError:\n",
        "    print(\"Error: You cannot divide by zero. Please enter a valid denominator.\")"
      ],
      "metadata": {
        "colab": {
          "base_uri": "https://localhost:8080/"
        },
        "id": "NlOYsxJxMY_p",
        "outputId": "f5e7b9e8-96ec-4eb4-9087-c785d00c7ebf"
      },
      "execution_count": 11,
      "outputs": [
        {
          "output_type": "stream",
          "name": "stdout",
          "text": [
            "Enter the numerator: 18\n",
            "Enter the denominator: 3\n",
            "The result of the division is: 6.0\n"
          ]
        }
      ]
    },
    {
      "cell_type": "markdown",
      "source": [
        "#### **Example 3: Handling Division in a Function**\n",
        "Create a function that performs division and gracefully handles a zero denominator:"
      ],
      "metadata": {
        "id": "Ef_wdMDYNBpz"
      }
    },
    {
      "cell_type": "code",
      "source": [
        "def safe_division(numerator, denominator):\n",
        "    try:\n",
        "        return numerator / denominator\n",
        "    except ZeroDivisionError:\n",
        "        return \"Division by zero is undefined!\"\n",
        "\n",
        "#Test the function\n",
        "num = 15\n",
        "denom = 0  #Change this to non-zero to test normal behavior\n",
        "print(f\"Result: {safe_division(num, denom)}\")"
      ],
      "metadata": {
        "colab": {
          "base_uri": "https://localhost:8080/"
        },
        "id": "uPJxr1WoMmPb",
        "outputId": "5916dd15-e2f2-4e66-d332-2e29ee577791"
      },
      "execution_count": 12,
      "outputs": [
        {
          "output_type": "stream",
          "name": "stdout",
          "text": [
            "Result: Division by zero is undefined!\n"
          ]
        }
      ]
    },
    {
      "cell_type": "markdown",
      "source": [
        "#### **Example 4: Logging the Error (Advanced Example for Debugging)**\n",
        "If you want to log the error for debugging purposes:"
      ],
      "metadata": {
        "id": "ht0V2zecNLQc"
      }
    },
    {
      "cell_type": "code",
      "source": [
        "import logging\n",
        "\n",
        "logging.basicConfig(level=logging.ERROR)\n",
        "\n",
        "try:\n",
        "    numerator = 42\n",
        "    denominator = 0\n",
        "    result = numerator / denominator\n",
        "    print(f\"The result is: {result}\")\n",
        "except ZeroDivisionError as e:\n",
        "    logging.error(f\"An error occurred: {e}\")\n",
        "    print(\"Oops! You attempted to divide by zero.\")"
      ],
      "metadata": {
        "colab": {
          "base_uri": "https://localhost:8080/"
        },
        "id": "Dvkf7RteNG3F",
        "outputId": "f8fa3a67-deb8-4169-c48e-a2be31b382d9"
      },
      "execution_count": 13,
      "outputs": [
        {
          "output_type": "stream",
          "name": "stderr",
          "text": [
            "ERROR:root:An error occurred: division by zero\n"
          ]
        },
        {
          "output_type": "stream",
          "name": "stdout",
          "text": [
            "Oops! You attempted to divide by zero.\n"
          ]
        }
      ]
    },
    {
      "cell_type": "markdown",
      "source": [
        "#### **Explanation of Approaches:**\n",
        "**1. Basic Example:** Shows simple handling for division by zero.\n",
        "\n",
        "**2. User Input Example:** Demonstrates how to work interactively in Colab.\n",
        "\n",
        "**3. Function-Based Example:** Reusable for multiple calculations.\n",
        "\n",
        "**4. Logging Example:** Useful for debugging or monitoring in production systems."
      ],
      "metadata": {
        "id": "Z54iL9dKNix1"
      }
    },
    {
      "cell_type": "markdown",
      "source": [
        "### **6. Write a Python program that logs an error message to a log file when a division by zero exception occurs**"
      ],
      "metadata": {
        "id": "Mas_bH8_NoVc"
      }
    },
    {
      "cell_type": "markdown",
      "source": [
        "#### How It Works:\n",
        "\n",
        "**1. Logging Setup:**\n",
        "\n",
        "The logging.basicConfig() function sets up logging to write error messages to a file named error_log.log.\n",
        "\n",
        "**The log message includes:**\n",
        "\n",
        "* Timestamp (%(asctime)s)\n",
        "* Log Level (%(levelname)s)\n",
        "* Message (%(message)s).\n",
        "\n",
        "\n",
        "**2. Safe Division:**\n",
        "\n",
        "The divide_numbers function tries to perform the division.\n",
        "If a ZeroDivisionError occurs, the program logs the error and provides a user-friendly message.\n",
        "\n",
        "\n",
        "**3. Log File:**\n",
        "\n",
        "If you run this program in Google Colab, the error_log.log file will be created in the Colab environment."
      ],
      "metadata": {
        "id": "iq9BQ5E-NuJU"
      }
    },
    {
      "cell_type": "code",
      "source": [
        "import logging\n",
        "\n",
        "#Configure logging\n",
        "logging.basicConfig(\n",
        "    filename=\"error_log.log\",  #Log file name\n",
        "    level=logging.ERROR,       #Log only error messages\n",
        "    format=\"%(asctime)s - %(levelname)s - %(message)s\"  #Log message format\n",
        ")\n",
        "\n",
        "#Function to perform safe division\n",
        "def divide_numbers(numerator, denominator):\n",
        "    try:\n",
        "        result = numerator / denominator\n",
        "        print(f\"The result is: {result}\")\n",
        "    except ZeroDivisionError as e:\n",
        "        #Log the error to the log file\n",
        "        logging.error(f\"Attempted to divide {numerator} by zero. Exception: {e}\")\n",
        "        print(\"Error: Division by zero is not allowed. Check 'error_log.log' for details.\")\n",
        "\n",
        "#Example usage\n",
        "divide_numbers(10, 0)  #Example with division by zero\n",
        "divide_numbers(20, 5)  #Example with valid division"
      ],
      "metadata": {
        "colab": {
          "base_uri": "https://localhost:8080/"
        },
        "id": "A9iOitI7Nb_v",
        "outputId": "c8f2e009-d5a5-4988-e87c-417258418c7b"
      },
      "execution_count": 14,
      "outputs": [
        {
          "output_type": "stream",
          "name": "stderr",
          "text": [
            "ERROR:root:Attempted to divide 10 by zero. Exception: division by zero\n"
          ]
        },
        {
          "output_type": "stream",
          "name": "stdout",
          "text": [
            "Error: Division by zero is not allowed. Check 'error_log.log' for details.\n",
            "The result is: 4.0\n"
          ]
        }
      ]
    },
    {
      "cell_type": "markdown",
      "source": [
        "### **7. How do you log information at different levels (INFO, ERROR, WARNING) in Python using the logging module ?**"
      ],
      "metadata": {
        "id": "Pnn2OUeEPFiF"
      }
    },
    {
      "cell_type": "markdown",
      "source": [
        "The Python logging module allows you to log messages at different severity levels. Each level represents the importance of the event being logged.\n",
        "\n",
        "#### **Logging Levels in Python:**\n",
        "1. **DEBUG:** Detailed information for debugging (lowest level).\n",
        "\n",
        "2. **INFO:** Confirmation that things are working as expected.\n",
        "\n",
        "3. **WARNING:** An indication that something unexpected happened or could cause problems.\n",
        "\n",
        "4. **ERROR:** A serious problem; the program can still continue running.\n",
        "\n",
        "5. **CRITICAL:** A severe error; the program may not be able to continue running (highest level).\n",
        "\n",
        "#### **Setting Up Logging**\n",
        "You can configure the logging system using logging.basicConfig().\n",
        "\n",
        "#### **Example Program: Logging at Different Levels**"
      ],
      "metadata": {
        "id": "lL6d9fnhPJ74"
      }
    },
    {
      "cell_type": "code",
      "source": [
        "import logging\n",
        "\n",
        "#Configure logging to log all levels to both a file and the console\n",
        "logger = logging.getLogger()  #Get the root logger\n",
        "logger.setLevel(logging.DEBUG)  #Set the overall logging level to DEBUG\n",
        "\n",
        "#Create a file handler\n",
        "file_handler = logging.FileHandler(\"application.log\")\n",
        "file_handler.setLevel(logging.DEBUG)  #File handler logs everything from DEBUG upwards\n",
        "\n",
        "#Create a console (stream) handler\n",
        "console_handler = logging.StreamHandler()\n",
        "console_handler.setLevel(logging.DEBUG)  #Console handler logs everything from DEBUG upwards\n",
        "\n",
        "#Define a log message format\n",
        "formatter = logging.Formatter(\"%(asctime)s - %(levelname)s - %(message)s\")\n",
        "file_handler.setFormatter(formatter)\n",
        "console_handler.setFormatter(formatter)\n",
        "\n",
        "#Add the handlers to the root logger\n",
        "logger.addHandler(file_handler)\n",
        "logger.addHandler(console_handler)\n",
        "\n",
        "#Log messages at different levels\n",
        "logger.debug(\"This is a debug message for troubleshooting.\")\n",
        "logger.info(\"This is an info message for regular updates.\")\n",
        "logger.warning(\"This is a warning about something unexpected.\")\n",
        "logger.error(\"This is an error message for a serious problem.\")\n",
        "logger.critical(\"This is a critical message indicating a severe problem.\")\n"
      ],
      "metadata": {
        "colab": {
          "base_uri": "https://localhost:8080/"
        },
        "id": "w5mYS19uN701",
        "outputId": "f17b8910-8add-4b87-f762-2dcaa1a9d9c8"
      },
      "execution_count": 17,
      "outputs": [
        {
          "output_type": "stream",
          "name": "stderr",
          "text": [
            "DEBUG:root:This is a debug message for troubleshooting.\n",
            "2024-12-08 07:50:12,776 - DEBUG - This is a debug message for troubleshooting.\n",
            "2024-12-08 07:50:12,776 - DEBUG - This is a debug message for troubleshooting.\n",
            "INFO:root:This is an info message for regular updates.\n",
            "2024-12-08 07:50:12,782 - INFO - This is an info message for regular updates.\n",
            "2024-12-08 07:50:12,782 - INFO - This is an info message for regular updates.\n",
            "WARNING:root:This is a warning about something unexpected.\n",
            "2024-12-08 07:50:12,789 - WARNING - This is a warning about something unexpected.\n",
            "2024-12-08 07:50:12,789 - WARNING - This is a warning about something unexpected.\n",
            "ERROR:root:This is an error message for a serious problem.\n",
            "2024-12-08 07:50:12,793 - ERROR - This is an error message for a serious problem.\n",
            "2024-12-08 07:50:12,793 - ERROR - This is an error message for a serious problem.\n",
            "CRITICAL:root:This is a critical message indicating a severe problem.\n",
            "2024-12-08 07:50:12,796 - CRITICAL - This is a critical message indicating a severe problem.\n",
            "2024-12-08 07:50:12,796 - CRITICAL - This is a critical message indicating a severe problem.\n"
          ]
        }
      ]
    },
    {
      "cell_type": "markdown",
      "source": [
        "In Google Colab, the default logging behavior may filter out lower-level logs **(like DEBUG and INFO)** because the root logger defaults to a higher threshold, often WARNING. To ensure that all levels of logs **(DEBUG, INFO, etc.)** are displayed, we need to explicitly configure the logging level for the root logger and each handler.\n",
        "\n",
        "**Explanation:**\n",
        "1. basicConfig **Parameters**:\n",
        "\n",
        "* filename: Specifies the name of the log file.\n",
        "\n",
        "* level: Specifies the minimum severity of messages to log. Here, DEBUG logs everything from DEBUG to CRITICAL\n",
        ".\n",
        "* format: Customizes how each log message appears.\n",
        "  * %(asctime)s: Adds a timestamp.\n",
        "  * %(levelname)s: Includes the log   level (e.g., INFO, ERROR).\n",
        "  * %(message)s: The actual log message.\n",
        "Log Messages:\n",
        "\n",
        "Each logging.<level>() method logs a message at its specified level."
      ],
      "metadata": {
        "id": "wevPwoP2PUFJ"
      }
    },
    {
      "cell_type": "markdown",
      "source": [
        "### **8. Write a program to handle a file opening error using exception handling.**"
      ],
      "metadata": {
        "id": "bu1Pe3SHPZeY"
      }
    },
    {
      "cell_type": "markdown",
      "source": [
        "#### **How It Works:**\n",
        "1. **'try' Block**:\n",
        "   - Attempts to open and read the file.\n",
        "   - If successful, prints the file's content.\n",
        "   \n",
        "\n",
        "2. **'except' Blocks**:\n",
        "   - 'FileNotFoundError': Handles cases where the file doesn’t exist.\n",
        "   - 'PermissionError': Catches errors related to insufficient permissions.\n",
        "   - General 'Exception': Catches any other unforeseen exceptions and prints the error message.\n",
        "\n",
        "\n",
        "3. **Flexible Testing**:\n",
        "   - Includes examples of successful file reading, a missing file, and a restricted file (if permissions can be manipulated)."
      ],
      "metadata": {
        "id": "O3EgqBUgPeF-"
      }
    },
    {
      "cell_type": "code",
      "source": [
        "def read_file(file_name):\n",
        "    try:\n",
        "        with open(file_name, \"r\") as file:\n",
        "            content = file.read()\n",
        "            print(\"File content successfully read:\")\n",
        "            print(content)\n",
        "    except FileNotFoundError:\n",
        "        print(f\"Error: The file '{file_name}' does not exist. Please check the file name and path.\")\n",
        "    except PermissionError:\n",
        "        print(f\"Error: You don't have permission to access the file '{file_name}'.\")\n",
        "    except Exception as e:\n",
        "        print(f\"An unexpected error occurred: {e}\")\n",
        "\n",
        "#Test cases\n",
        "print(\"Case 1: File exists\")\n",
        "read_file(\"example.txt\")  #This should be an existing file for a successful case.\n",
        "\n",
        "print(\"\\nCase 2: File does not exist\")\n",
        "read_file(\"nonexistent_file.txt\")  #This will trigger a FileNotFoundError.\n",
        "\n",
        "print(\"\\nCase 3: No permission to access file (demonstration only)\")\n",
        "read_file(\"/root/secret.txt\")  #This will trigger a PermissionError.\n",
        "#Uncomment the line below if you can create a file with restricted permissions.\n"
      ],
      "metadata": {
        "colab": {
          "base_uri": "https://localhost:8080/"
        },
        "id": "zEcjdLM2PQ7d",
        "outputId": "9d5166e0-8f1c-4f15-d3d2-4db275ce3c62"
      },
      "execution_count": 18,
      "outputs": [
        {
          "output_type": "stream",
          "name": "stdout",
          "text": [
            "Case 1: File exists\n",
            "File content successfully read:\n",
            "Hello, this is a test string!\n",
            "\n",
            "Case 2: File does not exist\n",
            "Error: The file 'nonexistent_file.txt' does not exist. Please check the file name and path.\n",
            "\n",
            "Case 3: No permission to access file (demonstration only)\n",
            "Error: The file '/root/secret.txt' does not exist. Please check the file name and path.\n"
          ]
        }
      ]
    },
    {
      "cell_type": "markdown",
      "source": [
        "### **9. How can you read a file line by line and store its content in a list in Python ?**"
      ],
      "metadata": {
        "id": "pHzUFkAuQA3I"
      }
    },
    {
      "cell_type": "markdown",
      "source": [
        "#### **Explanation**:\n",
        "\n",
        "1. **`readlines()`**:\n",
        "   - Reads all lines into a list at once.\n",
        "   - Use `strip()` to remove trailing whitespace or newline characters.\n",
        "\n",
        "2. **`for` Loop**:\n",
        "   - Processes one line at a time, appending each to a list.\n",
        "   - More efficient for large files since it doesn’t load the entire file into memory at once.\n",
        "\n",
        "3. **Error Handling**:\n",
        "   - The `try`-`except` block ensures that if the file doesn’t exist, a meaningful error message is shown.\n",
        "\n",
        "   \n",
        "\n",
        "#### **Method 1: Using readlines()**"
      ],
      "metadata": {
        "id": "IHVPoBHcQFqa"
      }
    },
    {
      "cell_type": "code",
      "source": [
        "def read_file_to_list(file_name):\n",
        "    try:\n",
        "        with open(file_name, \"r\") as file:\n",
        "            lines = file.readlines()  #Reads all lines and stores them in a list\n",
        "        return [line.strip() for line in lines]  #Strip removes extra whitespace/newlines\n",
        "    except FileNotFoundError:\n",
        "        print(f\"Error: The file '{file_name}' does not exist.\")\n",
        "        return []\n",
        "\n",
        "#Example usage\n",
        "file_name = \"example.txt\"\n",
        "#Creating a sample file for demonstration\n",
        "with open(file_name, \"w\") as file:\n",
        "    file.write(\"Line 1\\nLine 2\\nLine 3\")\n",
        "\n",
        "lines_list = read_file_to_list(file_name)\n",
        "print(\"List of lines from the file:\")\n",
        "print(lines_list)"
      ],
      "metadata": {
        "colab": {
          "base_uri": "https://localhost:8080/"
        },
        "id": "W2DU61OAPr84",
        "outputId": "5d117741-1cb0-43c9-f8f8-6ec4c084cca4"
      },
      "execution_count": 19,
      "outputs": [
        {
          "output_type": "stream",
          "name": "stdout",
          "text": [
            "List of lines from the file:\n",
            "['Line 1', 'Line 2', 'Line 3']\n"
          ]
        }
      ]
    },
    {
      "cell_type": "markdown",
      "source": [
        "#### **Method 2: Using a for Loop**\n",
        "This method is more memory-efficient, especially for large files, as it doesn't load all lines at once.\n",
        "\n"
      ],
      "metadata": {
        "id": "9KZpMH-HQRGh"
      }
    },
    {
      "cell_type": "code",
      "source": [
        "def read_file_to_list_iterative(file_name):\n",
        "    try:\n",
        "        lines = []\n",
        "        with open(file_name, \"r\") as file:\n",
        "            for line in file:  # Iterate over each line\n",
        "                lines.append(line.strip())  # Add to list, stripping extra whitespace/newlines\n",
        "        return lines\n",
        "    except FileNotFoundError:\n",
        "        print(f\"Error: The file '{file_name}' does not exist.\")\n",
        "        return []\n",
        "\n",
        "# Example usage\n",
        "file_name = \"example.txt\"\n",
        "lines_list = read_file_to_list_iterative(file_name)\n",
        "print(\"List of lines from the file:\")\n",
        "print(lines_list)"
      ],
      "metadata": {
        "colab": {
          "base_uri": "https://localhost:8080/"
        },
        "id": "huqj70GkQOLy",
        "outputId": "69f06e08-a96e-4677-e23b-3c73ffd1bac9"
      },
      "execution_count": 20,
      "outputs": [
        {
          "output_type": "stream",
          "name": "stdout",
          "text": [
            "List of lines from the file:\n",
            "['Line 1', 'Line 2', 'Line 3']\n"
          ]
        }
      ]
    },
    {
      "cell_type": "markdown",
      "source": [
        "### **10. How can you append data to an existing file in Python ?**\n"
      ],
      "metadata": {
        "id": "jkHbmhZdQX8E"
      }
    },
    {
      "cell_type": "markdown",
      "source": [
        "You can append data to an existing file in Python by opening the file in append mode (\"a\"). In this mode, any new content is added to the end of the file without overwriting the existing content.\n",
        "\n",
        "#### **Explanation:**\n",
        "\n",
        "1. **\"a\" Mode:**\n",
        "\n",
        "* Opens the file in append mode.\n",
        "* If the file doesn’t exist, it creates a new file.\n",
        "* Adds new content to the end of the file without modifying the existing content.\n",
        "\n",
        "2. **Using with Statement:**\n",
        "\n",
        "* Automatically closes the file after appending, even if an error occurs.\n",
        "\n",
        "3. **Appending New Lines:**\n",
        "\n",
        "* The \"\\n\" ensures each new piece of data starts on a new line."
      ],
      "metadata": {
        "id": "zWV81BGuQd2T"
      }
    },
    {
      "cell_type": "code",
      "source": [
        "def append_to_file(file_name, data):\n",
        "    try:\n",
        "        with open(file_name, \"a\") as file:  #Open in append mode\n",
        "            file.write(data + \"\\n\")  #Append the data with a newline\n",
        "        print(f\"Data appended successfully to '{file_name}'.\")\n",
        "    except Exception as e:\n",
        "        print(f\"An error occurred while appending to the file: {e}\")\n",
        "\n",
        "#Example usage\n",
        "file_name = \"example.txt\"\n",
        "\n",
        "#Create the file with some initial content\n",
        "with open(file_name, \"w\") as file:\n",
        "    file.write(\"Line 1\\nLine 2\\n\")\n",
        "\n",
        "#Append new data\n",
        "append_to_file(file_name, \"Line 3\")\n",
        "append_to_file(file_name, \"Line 4\")\n",
        "\n",
        "#Display the updated file content\n",
        "with open(file_name, \"r\") as file:\n",
        "    print(\"\\nUpdated file content:\")\n",
        "    print(file.read())"
      ],
      "metadata": {
        "colab": {
          "base_uri": "https://localhost:8080/"
        },
        "id": "h76ppIWeQUF8",
        "outputId": "b1689ef3-7b2c-4812-95fc-3fe9e800eb09"
      },
      "execution_count": 21,
      "outputs": [
        {
          "output_type": "stream",
          "name": "stdout",
          "text": [
            "Data appended successfully to 'example.txt'.\n",
            "Data appended successfully to 'example.txt'.\n",
            "\n",
            "Updated file content:\n",
            "Line 1\n",
            "Line 2\n",
            "Line 3\n",
            "Line 4\n",
            "\n"
          ]
        }
      ]
    },
    {
      "cell_type": "markdown",
      "source": [
        "#### **Notes:**\n",
        "- **File Creation**: If 'example.txt' doesn’t exist, the program will create it and add the new data.\n",
        "- **Appending Multiple Lines**: You can loop through a list of strings to append multiple lines:\n",
        "\n",
        "- **Error Handling**: The 'try'-'except' block ensures that any issues (e.g., permission errors) are caught gracefully."
      ],
      "metadata": {
        "id": "gUEJ_QJ9QtDy"
      }
    },
    {
      "cell_type": "code",
      "source": [
        "lines_to_append = [\"Line 5\", \"Line 6\"]\n",
        "for line in lines_to_append:\n",
        "    append_to_file(file_name, line)"
      ],
      "metadata": {
        "colab": {
          "base_uri": "https://localhost:8080/"
        },
        "id": "EH6agJsLQo2O",
        "outputId": "43fa0713-0733-4300-e444-4138bce0edb1"
      },
      "execution_count": 22,
      "outputs": [
        {
          "output_type": "stream",
          "name": "stdout",
          "text": [
            "Data appended successfully to 'example.txt'.\n",
            "Data appended successfully to 'example.txt'.\n"
          ]
        }
      ]
    },
    {
      "cell_type": "markdown",
      "source": [
        "### **11. Write a Python program that uses a try-except block to handle an error when attempting to access a dictionary key that doesn't exist.**"
      ],
      "metadata": {
        "id": "Aj7suXGdQ8Bi"
      }
    },
    {
      "cell_type": "markdown",
      "source": [
        "**Explanation:**\n",
        "\n",
        "**1. Dictionary Access:**\n",
        "\n",
        "Attempt to access a key in the dictionary using my_dict[key].\n",
        "If the key exists, it retrieves the corresponding value.\n",
        "\n",
        "**2. KeyError Exception:**\n",
        "\n",
        "If the key doesn’t exist, a KeyError is raised.\n",
        "The except KeyError block catches this error and provides a custom error message.\n",
        "\n",
        "#### **Program: Handling Missing Dictionary Keys**"
      ],
      "metadata": {
        "id": "LVlS28OFRCIl"
      }
    },
    {
      "cell_type": "code",
      "source": [
        "def access_dictionary_key(my_dict, key):\n",
        "    try:\n",
        "        value = my_dict[key]\n",
        "        print(f\"The value for key '{key}' is: {value}\")\n",
        "    except KeyError:\n",
        "        print(f\"Error: The key '{key}' does not exist in the dictionary.\")\n",
        "\n",
        "#Example usage\n",
        "sample_dict = {\"name\": \"Alex\", \"age\": 28, \"city\": \"New York\"}\n",
        "\n",
        "#Access existing keys\n",
        "access_dictionary_key(sample_dict, \"name\")  #Should print the value for 'name'\n",
        "\n",
        "#Attempt to access a non-existent key\n",
        "access_dictionary_key(sample_dict, \"country\")  #Should handle the KeyError"
      ],
      "metadata": {
        "colab": {
          "base_uri": "https://localhost:8080/"
        },
        "id": "3zZhuYSVQ5Hf",
        "outputId": "53ed69f7-157b-42db-9d0c-ccb1ca7b9756"
      },
      "execution_count": 23,
      "outputs": [
        {
          "output_type": "stream",
          "name": "stdout",
          "text": [
            "The value for key 'name' is: Alex\n",
            "Error: The key 'country' does not exist in the dictionary.\n"
          ]
        }
      ]
    },
    {
      "cell_type": "markdown",
      "source": [
        "### **12. Write a program that demonstrates using multiple except blocks to handle different types of exceptions ?**"
      ],
      "metadata": {
        "id": "zW6aFY_mRYNa"
      }
    },
    {
      "cell_type": "markdown",
      "source": [
        "#### **Explanation:**\n",
        "1. **'try' Block**: The code inside the 'try' block can raise various exceptions.\n",
        "   - **Division by Zero**: Dividing 'num1' by 'num2', where 'num2 = 0', will raise a 'ZeroDivisionError'.\n",
        "   - **Index Error**: Accessing an index in 'my_list' that doesn't exist ('my_list[5]' when the list has only 3 elements) raises an 'IndexError'.\n",
        "   - **File Not Found**: Trying to open a file that doesn't exist triggers a 'FileNotFoundError'.\n",
        "\n",
        "2. **Multiple 'except' Blocks**:\n",
        "   - **'ZeroDivisionError'**: Catches division by zero errors.\n",
        "   - **'IndexError'**: Catches index errors when trying to access an invalid index in a list.\n",
        "   - **'FileNotFoundError'**: Catches errors when trying to open a file that doesn't exist.\n",
        "   - **'Exception'**: A general exception handler that catches any unforeseen errors.\n",
        "\n",
        "3. **Order of 'except' Blocks**:\n",
        "   - The most specific exceptions (like 'ZeroDivisionError') should come first.\n",
        "   - The general 'Exception' block should be placed at the end to catch any errors that are not explicitly handled by the previous 'except' blocks."
      ],
      "metadata": {
        "id": "SXGBhdXERc-E"
      }
    },
    {
      "cell_type": "code",
      "source": [
        "def handle_multiple_exceptions():\n",
        "    try:\n",
        "        #Example 1: Division by zero\n",
        "        num1 = 10\n",
        "        num2 = 0\n",
        "        result = num1 / num2  #This will raise ZeroDivisionError\n",
        "\n",
        "        #Example 2: List index out of range\n",
        "        my_list = [1, 2, 3]\n",
        "        print(my_list[5])  #This will raise IndexError\n",
        "\n",
        "        #Example 3: File not found\n",
        "        with open(\"non_existent_file.txt\", \"r\") as file:  #This will raise FileNotFoundError\n",
        "            content = file.read()\n",
        "\n",
        "    except ZeroDivisionError:\n",
        "        print(\"Error: Cannot divide by zero.\")\n",
        "    except IndexError:\n",
        "        print(\"Error: List index is out of range.\")\n",
        "    except FileNotFoundError:\n",
        "        print(\"Error: The file was not found.\")\n",
        "    except Exception as e:\n",
        "        print(f\"An unexpected error occurred: {e}\")\n",
        "\n",
        "#Call the function to see how different exceptions are handled\n",
        "handle_multiple_exceptions()"
      ],
      "metadata": {
        "colab": {
          "base_uri": "https://localhost:8080/"
        },
        "id": "vnEIAth8RRRn",
        "outputId": "1479ee9a-02c9-4b61-e8c7-b780b91516a7"
      },
      "execution_count": 24,
      "outputs": [
        {
          "output_type": "stream",
          "name": "stdout",
          "text": [
            "Error: Cannot divide by zero.\n"
          ]
        }
      ]
    },
    {
      "cell_type": "markdown",
      "source": [
        "### **13. How would you check if a file exists before attempting to read it in Python ?**"
      ],
      "metadata": {
        "id": "idcECkDTSRvh"
      }
    },
    {
      "cell_type": "markdown",
      "source": [
        "You can check if a file exists in Python before attempting to read it using the 'os.path.exists()' method or the 'pathlib.Path.exists()' method. These methods allow you to verify the existence of a file, helping to avoid errors like 'FileNotFoundError'.\n",
        "\n",
        "#### **Explanation**:\n",
        "1. **Using 'os.path.exists()'**:\n",
        "   - The 'os.path.exists()' method returns 'True' if the file exists and 'False' otherwise.\n",
        "   - If the file exists, the program proceeds to read the file and print its content.\n",
        "   - If the file doesn't exist, it prints an error message.\n",
        "\n",
        "2. **Using 'pathlib.Path.exists()'**:\n",
        "   - The 'pathlib.Path.exists()' method works similarly to 'os.path.exists()', but 'pathlib' is a more modern and object-oriented approach to file system paths.\n",
        "   - This approach can be more convenient if you are working with path manipulations and is recommended for newer Python code.\n",
        "\n",
        "#### **Method 1: Using 'os.path.exists()'**\n"
      ],
      "metadata": {
        "id": "Y6UMIQI_Sl5U"
      }
    },
    {
      "cell_type": "code",
      "source": [
        "import os\n",
        "\n",
        "def read_file_if_exists(file_name):\n",
        "    if os.path.exists(file_name):\n",
        "        with open(file_name, \"r\") as file:\n",
        "            content = file.read()\n",
        "            print(\"File content:\")\n",
        "            print(content)\n",
        "    else:\n",
        "        print(f\"Error: The file '{file_name}' does not exist.\")\n",
        "\n",
        "#Example usage\n",
        "file_name = \"example.txt\"\n",
        "read_file_if_exists(file_name)"
      ],
      "metadata": {
        "colab": {
          "base_uri": "https://localhost:8080/"
        },
        "id": "4k6vCBpOSORr",
        "outputId": "1be961c7-b6aa-4f6c-eb48-2fa4eb41e805"
      },
      "execution_count": 25,
      "outputs": [
        {
          "output_type": "stream",
          "name": "stdout",
          "text": [
            "File content:\n",
            "Line 1\n",
            "Line 2\n",
            "Line 3\n",
            "Line 4\n",
            "Line 5\n",
            "Line 6\n",
            "\n"
          ]
        }
      ]
    },
    {
      "cell_type": "markdown",
      "source": [
        "#### **Method 2: Using pathlib.Path.exists()**"
      ],
      "metadata": {
        "id": "5mO2LjstTH7c"
      }
    },
    {
      "cell_type": "code",
      "source": [
        "from pathlib import Path\n",
        "\n",
        "def read_file_if_exists(file_name):\n",
        "    file_path = Path(file_name)\n",
        "    if file_path.exists():\n",
        "        with open(file_name, \"r\") as file:\n",
        "            content = file.read()\n",
        "            print(\"File content:\")\n",
        "            print(content)\n",
        "    else:\n",
        "        print(f\"Error: The file '{file_name}' does not exist.\")\n",
        "\n",
        "#Example usage\n",
        "file_name = \"example.txt\"\n",
        "read_file_if_exists(file_name)"
      ],
      "metadata": {
        "colab": {
          "base_uri": "https://localhost:8080/"
        },
        "id": "sTA3wtAuTE25",
        "outputId": "a15cb488-73cb-48cd-baa7-019e21a9df82"
      },
      "execution_count": 26,
      "outputs": [
        {
          "output_type": "stream",
          "name": "stdout",
          "text": [
            "File content:\n",
            "Line 1\n",
            "Line 2\n",
            "Line 3\n",
            "Line 4\n",
            "Line 5\n",
            "Line 6\n",
            "\n"
          ]
        }
      ]
    },
    {
      "cell_type": "markdown",
      "source": [
        "#### **Notes**:\n",
        "- **Permissions**: If you have the correct permissions but the file is a directory, both methods will return 'False'. To check if it's a file specifically, you can use 'os.path.isfile()' or 'Path.is_file()'.\n"
      ],
      "metadata": {
        "id": "f_eJDYZyTPjC"
      }
    },
    {
      "cell_type": "markdown",
      "source": [
        "### **14. Write a program that uses the logging module to log both informational and error messages.**"
      ],
      "metadata": {
        "id": "9_-mornTTYqn"
      }
    },
    {
      "cell_type": "markdown",
      "source": [
        "#### **Explanation**:\n",
        "1. **Logging Configuration**:\n",
        "   - 'logging.basicConfig()': This function configures the logging system. Here, it sets the logging level to 'DEBUG', meaning all messages at the 'DEBUG' level or higher will be recorded.\n",
        "   - The 'format' argument specifies the format of the log messages. It includes the timestamp, log level (INFO, ERROR), and the log message itself.\n",
        "\n",
        "2. **Informational Log ('logging.info()')**:\n",
        "   - Used to log messages that provide useful information about the progress of the program, like when the data processing starts and when it completes successfully.\n",
        "\n",
        "3. **Error Logs ('logging.error()')**:\n",
        "   - These log errors when something goes wrong (e.g., division by zero or invalid data input).\n",
        "   - The 'try-except' block captures specific errors and logs them accordingly.\n",
        "\n",
        "4. **Different Types of Exceptions**:\n",
        "   - 'ValueError': If the data is zero, which is invalid for the intended operation.\n",
        "   - 'ZeroDivisionError': Catches division by zero errors.\n",
        "   - 'Exception': Catches any other unexpected errors."
      ],
      "metadata": {
        "id": "TplHVgGPTdKa"
      }
    },
    {
      "cell_type": "code",
      "source": [
        "import logging\n",
        "\n",
        "#Configure logging settings\n",
        "logging.basicConfig(level=logging.DEBUG, format='%(asctime)s - %(levelname)s - %(message)s')\n",
        "\n",
        "def process_data(data):\n",
        "    try:\n",
        "        logging.info(\"Starting data processing.\")  #Log informational message\n",
        "        if data == 0:\n",
        "            raise ValueError(\"Data cannot be zero.\")  #Raise error if data is zero\n",
        "        result = 10 / data  #Some processing\n",
        "        logging.info(f\"Data processed successfully. Result: {result}\")\n",
        "    except ValueError as e:\n",
        "        logging.error(f\"ValueError occurred: {e}\")  #Log error message\n",
        "    except ZeroDivisionError as e:\n",
        "        logging.error(f\"ZeroDivisionError occurred: {e}\")  #Log error message\n",
        "    except Exception as e:\n",
        "        logging.error(f\"An unexpected error occurred: {e}\")  #Log unexpected errors\n",
        "\n",
        "#Example usage\n",
        "process_data(5)  #Valid case\n",
        "process_data(0)  #Error case: division by zero\n",
        "process_data(\"string\")  #Error case: invalid data type"
      ],
      "metadata": {
        "colab": {
          "base_uri": "https://localhost:8080/"
        },
        "id": "Y5LOwWuVTMhw",
        "outputId": "af20227a-533e-4409-d793-ffd9d53727ca"
      },
      "execution_count": 27,
      "outputs": [
        {
          "output_type": "stream",
          "name": "stderr",
          "text": [
            "INFO:root:Starting data processing.\n",
            "2024-12-08 08:08:10,275 - INFO - Starting data processing.\n",
            "2024-12-08 08:08:10,275 - INFO - Starting data processing.\n",
            "INFO:root:Data processed successfully. Result: 2.0\n",
            "2024-12-08 08:08:10,292 - INFO - Data processed successfully. Result: 2.0\n",
            "2024-12-08 08:08:10,292 - INFO - Data processed successfully. Result: 2.0\n",
            "INFO:root:Starting data processing.\n",
            "2024-12-08 08:08:10,306 - INFO - Starting data processing.\n",
            "2024-12-08 08:08:10,306 - INFO - Starting data processing.\n",
            "ERROR:root:ValueError occurred: Data cannot be zero.\n",
            "2024-12-08 08:08:10,318 - ERROR - ValueError occurred: Data cannot be zero.\n",
            "2024-12-08 08:08:10,318 - ERROR - ValueError occurred: Data cannot be zero.\n",
            "INFO:root:Starting data processing.\n",
            "2024-12-08 08:08:10,332 - INFO - Starting data processing.\n",
            "2024-12-08 08:08:10,332 - INFO - Starting data processing.\n",
            "ERROR:root:An unexpected error occurred: unsupported operand type(s) for /: 'int' and 'str'\n",
            "2024-12-08 08:08:10,344 - ERROR - An unexpected error occurred: unsupported operand type(s) for /: 'int' and 'str'\n",
            "2024-12-08 08:08:10,344 - ERROR - An unexpected error occurred: unsupported operand type(s) for /: 'int' and 'str'\n"
          ]
        }
      ]
    },
    {
      "cell_type": "markdown",
      "source": [
        "### **Notes**:\n",
        "- The 'logging' module allows you to log at different levels: 'DEBUG', 'INFO', 'WARNING', 'ERROR', and 'CRITICAL'. Here, we used 'INFO' for normal process messages and 'ERROR' for exception messages.\n",
        "- The 'logging' module also allows you to log messages to a file, or even both the console and a file simultaneously, by adjusting the logging configuration."
      ],
      "metadata": {
        "id": "E1lNDqKiUBMZ"
      }
    },
    {
      "cell_type": "markdown",
      "source": [
        "### **15. Write a Python program that prints the content of a file and handles the case when the file is empty.**"
      ],
      "metadata": {
        "id": "YLgkGYTuUS3u"
      }
    },
    {
      "cell_type": "markdown",
      "source": [
        "#### **Explanation**:\n",
        "1. **Opening the File**:\n",
        "   - The file is opened using the 'with open(file_name, \"r\")` statement, which ensures the file is automatically closed after the block executes.\n",
        "   \n",
        "2. **Reading File Content**:\n",
        "   - The 'read()' method is used to read the entire content of the file into the 'content' variable.\n",
        "\n",
        "3. **Checking if the File is Empty**:\n",
        "   - If the 'content' is an empty string (i.e., the file is empty), the program prints \"The file is empty.\".\n",
        "   - If the file contains content, it prints the content.\n",
        "\n",
        "4. **Error Handling**:\n",
        "   - **FileNotFoundError**: If the file doesn’t exist, it catches the error and prints an appropriate message.\n",
        "   - **Generic Exception**: Catches other unforeseen errors and prints the error message."
      ],
      "metadata": {
        "id": "t5oSahsAUYQH"
      }
    },
    {
      "cell_type": "code",
      "source": [
        "def read_file(file_name):\n",
        "    try:\n",
        "        with open(file_name, \"r\") as file:\n",
        "            content = file.read()\n",
        "            if not content:  #Check if the file is empty\n",
        "                print(\"The file is empty.\")\n",
        "            else:\n",
        "                print(\"File content:\")\n",
        "                print(content)\n",
        "    except FileNotFoundError:\n",
        "        print(f\"Error: The file '{file_name}' does not exist.\")\n",
        "    except Exception as e:\n",
        "        print(f\"An unexpected error occurred: {e}\")\n",
        "\n",
        "#Example usage\n",
        "file_name = \"example.txt\"\n",
        "read_file(file_name)"
      ],
      "metadata": {
        "colab": {
          "base_uri": "https://localhost:8080/"
        },
        "id": "QGRLV4-qT8i4",
        "outputId": "2da7ac0c-e9c4-48a8-c461-adefeb83ee4c"
      },
      "execution_count": 28,
      "outputs": [
        {
          "output_type": "stream",
          "name": "stdout",
          "text": [
            "File content:\n",
            "Line 1\n",
            "Line 2\n",
            "Line 3\n",
            "Line 4\n",
            "Line 5\n",
            "Line 6\n",
            "\n"
          ]
        }
      ]
    },
    {
      "cell_type": "markdown",
      "source": [
        "#### **Notes :**\n",
        "- The 'if not content' check efficiently handles the case when the file is empty.\n",
        "- The program is robust enough to catch errors such as a non-existent file or other issues while reading the file."
      ],
      "metadata": {
        "id": "iV7jrtsEUxIp"
      }
    },
    {
      "cell_type": "markdown",
      "source": [
        "### **16. Demonstrate how to use memory profiling to check the memory usage of a small program.**"
      ],
      "metadata": {
        "id": "lan9RGygU5mB"
      }
    },
    {
      "cell_type": "markdown",
      "source": [
        "To monitor and profile memory usage in Python, you can use the memory_profiler module. This module provides a way to track memory usage of a Python program during execution, specifically for functions.\n",
        "\n",
        "#### **Step 1: Install the memory_profiler package**\n",
        "If you haven't already installed the memory_profiler package, you can install it using pip:"
      ],
      "metadata": {
        "id": "BZvnVJEzVAxR"
      }
    },
    {
      "cell_type": "code",
      "source": [
        "!pip install memory-profiler"
      ],
      "metadata": {
        "colab": {
          "base_uri": "https://localhost:8080/"
        },
        "id": "s-3E-p0aUq9r",
        "outputId": "83ca4478-c3c4-414c-afd2-c8871f38e76a"
      },
      "execution_count": 29,
      "outputs": [
        {
          "output_type": "stream",
          "name": "stdout",
          "text": [
            "Collecting memory-profiler\n",
            "  Downloading memory_profiler-0.61.0-py3-none-any.whl.metadata (20 kB)\n",
            "Requirement already satisfied: psutil in /usr/local/lib/python3.10/dist-packages (from memory-profiler) (5.9.5)\n",
            "Downloading memory_profiler-0.61.0-py3-none-any.whl (31 kB)\n",
            "Installing collected packages: memory-profiler\n",
            "Successfully installed memory-profiler-0.61.0\n"
          ]
        }
      ]
    },
    {
      "cell_type": "markdown",
      "source": [
        "#### **Step 2: Write a Python program and use memory profiling**\n",
        "\n",
        "Here is an example Python program that demonstrates how to use memory profiling to check the memory usage of a simple function:"
      ],
      "metadata": {
        "id": "_MPsM8KNVKoW"
      }
    },
    {
      "cell_type": "code",
      "source": [
        "from memory_profiler import profile\n",
        "\n",
        "@profile\n",
        "def my_function():\n",
        "    a = [1] * (10**6)  #Create a large list of 1 million elements\n",
        "    b = [2] * (2 * 10**7)  #Create a larger list of 20 million elements\n",
        "    del b  #Delete b to free memory\n",
        "    return a\n",
        "\n",
        "if __name__ == \"__main__\":\n",
        "    my_function()"
      ],
      "metadata": {
        "colab": {
          "base_uri": "https://localhost:8080/"
        },
        "id": "PgjKlYcoVE7n",
        "outputId": "0757415e-45a2-462b-9b8a-f0aa08457edd"
      },
      "execution_count": 30,
      "outputs": [
        {
          "output_type": "stream",
          "name": "stderr",
          "text": [
            "\n",
            "PYDEV DEBUGGER WARNING:\n",
            "sys.settrace() should not be used when the debugger is being used.\n",
            "This may cause the debugger to stop working correctly.\n",
            "If this is needed, please check: \n",
            "http://pydev.blogspot.com/2007/06/why-cant-pydev-debugger-work-with.html\n",
            "to see how to restore the debug tracing back correctly.\n",
            "Call Location:\n",
            "  File \"/usr/local/lib/python3.10/dist-packages/memory_profiler.py\", line 847, in enable\n",
            "    sys.settrace(self.trace_memory_usage)\n",
            "\n"
          ]
        },
        {
          "output_type": "stream",
          "name": "stdout",
          "text": [
            "ERROR: Could not find file <ipython-input-30-8d8dece45397>\n",
            "NOTE: %mprun can only be used on functions defined in physical files, and not in the IPython environment.\n"
          ]
        },
        {
          "output_type": "stream",
          "name": "stderr",
          "text": [
            "\n",
            "PYDEV DEBUGGER WARNING:\n",
            "sys.settrace() should not be used when the debugger is being used.\n",
            "This may cause the debugger to stop working correctly.\n",
            "If this is needed, please check: \n",
            "http://pydev.blogspot.com/2007/06/why-cant-pydev-debugger-work-with.html\n",
            "to see how to restore the debug tracing back correctly.\n",
            "Call Location:\n",
            "  File \"/usr/local/lib/python3.10/dist-packages/memory_profiler.py\", line 850, in disable\n",
            "    sys.settrace(self._original_trace_function)\n",
            "\n"
          ]
        }
      ]
    },
    {
      "cell_type": "markdown",
      "source": [
        "\n",
        "\n",
        "### **Explanation**:\n",
        "1. **'@profile' Decorator**:\n",
        "   - The '@profile' decorator is used to mark the function that you want to profile for memory usage.\n",
        "   - It will track the memory usage during the execution of 'my_function()'.\n",
        "   \n",
        "2. **Memory-Heavy Operations**:\n",
        "   - The function 'my_function' creates two large lists ('a' and 'b') and then deletes 'b' to free up memory.\n",
        "   \n",
        "3. **Profiling Memory Usage**:\n",
        "   - When the program runs, the memory usage of the function is tracked, and detailed memory statistics are printed, showing how the memory usage changes during execution.\n",
        "\n",
        "  "
      ],
      "metadata": {
        "id": "XBaSwhc-VXLO"
      }
    },
    {
      "cell_type": "markdown",
      "source": [
        "### **17. Write a Python program to create and write a list of numbers to a file, one number per line.**"
      ],
      "metadata": {
        "id": "S8wPFEQIVtjV"
      }
    },
    {
      "cell_type": "markdown",
      "source": [
        "#### **Explanation**:\n",
        "1. **Opening the File**:\n",
        "   - The 'open(file_name, \"w\")' function opens the file in write mode (\"w\"). If the file does not exist, it will be created. If the file already exists, its contents will be overwritten.\n",
        "   \n",
        "2. **Writing Each Number**:\n",
        "   - The program iterates through the 'numbers' list, and for each number, it writes the number to the file followed by a newline ('\\n') to ensure each number is on a separate line.\n",
        "\n",
        "3. **Error Handling**:\n",
        "   - A 'try-except' block is used to handle any potential errors, such as file access issues.\n",
        "\n",
        "4. **Confirmation**:\n",
        "   - After successfully writing the numbers to the file, a message is printed confirming the operation."
      ],
      "metadata": {
        "id": "cpUsVPHkVxqd"
      }
    },
    {
      "cell_type": "code",
      "source": [
        "def write_numbers_to_file(file_name, numbers):\n",
        "    try:\n",
        "        with open(file_name, \"w\") as file:\n",
        "            for number in numbers:\n",
        "                file.write(f\"{number}\\n\")  #Write each number on a new line\n",
        "        print(f\"Numbers have been written to '{file_name}'.\")\n",
        "    except Exception as e:\n",
        "        print(f\"An error occurred: {e}\")\n",
        "\n",
        "#Example usage\n",
        "numbers = [1, 2, 3, 4, 5, 6, 7, 8, 9, 10]  #List of numbers\n",
        "file_name = \"numbers.txt\"  #Name of the file where numbers will be written\n",
        "write_numbers_to_file(file_name, numbers)\n",
        "read_file(file_name)"
      ],
      "metadata": {
        "colab": {
          "base_uri": "https://localhost:8080/"
        },
        "id": "JKmbHVCUVS24",
        "outputId": "ffb2b996-e680-4cd5-d9b5-a31e7aeb98db"
      },
      "execution_count": 31,
      "outputs": [
        {
          "output_type": "stream",
          "name": "stdout",
          "text": [
            "Numbers have been written to 'numbers.txt'.\n",
            "File content:\n",
            "1\n",
            "2\n",
            "3\n",
            "4\n",
            "5\n",
            "6\n",
            "7\n",
            "8\n",
            "9\n",
            "10\n",
            "\n"
          ]
        }
      ]
    },
    {
      "cell_type": "markdown",
      "source": [
        "#### **Notes**:\n",
        "- **File Mode**: The \"w\" mode is used here to write to the file. If you want to append the data to the file without overwriting, you can use \"a\" mode instead.\n",
        "- **Error Handling**: The program ensures that if there is an error (e.g., the file cannot be opened), an appropriate error message will be printed."
      ],
      "metadata": {
        "id": "qVSa_qQHWIbF"
      }
    },
    {
      "cell_type": "markdown",
      "source": [
        "### **18. How would you implement a basic logging setup that logs to a file with rotation after 1MB ?**"
      ],
      "metadata": {
        "id": "p_h6K_qKWP0O"
      }
    },
    {
      "cell_type": "markdown",
      "source": [
        "To implement basic logging in Python with log file rotation after the file reaches 1MB, you can use the 'logging' module along with 'RotatingFileHandler'. The 'RotatingFileHandler' will automatically rotate the log file when it exceeds the specified size.\n",
        "\n",
        "#### **Python Program: Logging with Rotation after 1MB**"
      ],
      "metadata": {
        "id": "N33l-cYBWUkf"
      }
    },
    {
      "cell_type": "code",
      "source": [
        "import logging\n",
        "from logging.handlers import RotatingFileHandler\n",
        "\n",
        "#Set up the logger\n",
        "logger = logging.getLogger(\"MyLogger\")\n",
        "logger.setLevel(logging.DEBUG)  #Set the log level to DEBUG\n",
        "\n",
        "#Create a rotating file handler that will create a new log file after the size exceeds 1MB\n",
        "handler = RotatingFileHandler(\"my_log.log\", maxBytes=1e6, backupCount=3)  #maxBytes=1MB, backupCount=3\n",
        "\n",
        "#Create a formatter and set it for the handler\n",
        "formatter = logging.Formatter('%(asctime)s - %(levelname)s - %(message)s')\n",
        "handler.setFormatter(formatter)\n",
        "\n",
        "#Add the handler to the logger\n",
        "logger.addHandler(handler)\n",
        "\n",
        "#Example usage: logging messages\n",
        "logger.debug(\"This is a debug message.\")\n",
        "logger.info(\"This is an info message.\")\n",
        "logger.warning(\"This is a warning message.\")\n",
        "logger.error(\"This is an error message.\")\n",
        "logger.critical(\"This is a critical message.\")"
      ],
      "metadata": {
        "colab": {
          "base_uri": "https://localhost:8080/"
        },
        "id": "Ir2sKk08WFtW",
        "outputId": "9bce0816-fae5-43c8-d581-bcfdb37ce4be"
      },
      "execution_count": 32,
      "outputs": [
        {
          "output_type": "stream",
          "name": "stderr",
          "text": [
            "DEBUG:MyLogger:This is a debug message.\n",
            "2024-12-08 08:19:40,008 - DEBUG - This is a debug message.\n",
            "2024-12-08 08:19:40,008 - DEBUG - This is a debug message.\n",
            "INFO:MyLogger:This is an info message.\n",
            "2024-12-08 08:19:40,023 - INFO - This is an info message.\n",
            "2024-12-08 08:19:40,023 - INFO - This is an info message.\n",
            "WARNING:MyLogger:This is a warning message.\n",
            "2024-12-08 08:19:40,033 - WARNING - This is a warning message.\n",
            "2024-12-08 08:19:40,033 - WARNING - This is a warning message.\n",
            "ERROR:MyLogger:This is an error message.\n",
            "2024-12-08 08:19:40,046 - ERROR - This is an error message.\n",
            "2024-12-08 08:19:40,046 - ERROR - This is an error message.\n",
            "CRITICAL:MyLogger:This is a critical message.\n",
            "2024-12-08 08:19:40,059 - CRITICAL - This is a critical message.\n",
            "2024-12-08 08:19:40,059 - CRITICAL - This is a critical message.\n"
          ]
        }
      ]
    },
    {
      "cell_type": "markdown",
      "source": [
        "#### **Explanation**:\n",
        "1. **Logger Setup**:\n",
        "   - 'logger = logging.getLogger(\"MyLogger\")': This initializes a logger object named \"MyLogger\".\n",
        "   - 'logger.setLevel(logging.DEBUG)': This sets the logging level to 'DEBUG', so all messages at 'DEBUG' level or higher will be logged.\n",
        "\n",
        "2. **RotatingFileHandler**:\n",
        "   - 'RotatingFileHandler(\"my_log.log\", maxBytes=1e6, backupCount=3)': This handler writes log messages to a file named \"my_log.log\". The 'maxBytes' parameter specifies that the log file should be rotated after it reaches 1MB (1e6 bytes).\n",
        "   - 'backupCount=3': This keeps a maximum of 3 backup log files. Older log files will be deleted once the limit is reached.\n",
        "\n",
        "3. **Formatter**:\n",
        "   - 'formatter = logging.Formatter('%(asctime)s - %(levelname)s - %(message)s')': This specifies the format of the log messages, including the timestamp, log level, and the message itself.\n",
        "   - 'handler.setFormatter(formatter)': The formatter is applied to the handler.\n",
        "\n",
        "4. **Adding Handler to Logger**:\n",
        "   - 'logger.addHandler(handler)': This adds the rotating file handler to the logger.\n",
        "\n",
        "5. **Logging Messages**:\n",
        "   - The program logs messages at various levels ('debug', 'info', 'warning', 'error', 'critical').\n",
        "\n",
        "#### **Log File Rotation**:\n",
        "- When the log file exceeds 1MB, 'RotatingFileHandler' will create a new log file and append the log messages to it. The older logs will be saved in backup files like 'my_log.log.1', 'my_log.log.2', etc. (based on the 'backupCount' parameter).\n",
        "- Once the backup count is exceeded, the oldest backup file will be deleted.\n",
        "\n",
        "#### **Notes**:\n",
        "- **File Rotation**: The log file ('my_log.log') will automatically rotate when it reaches the specified size ('1MB'), and old logs will be kept in backup files.\n",
        "- **Backup Count**: You can adjust the 'backupCount' to keep more or fewer rotated log files. For example, 'backupCount=5' would keep the last 5 rotated log files.\n"
      ],
      "metadata": {
        "id": "bqzOUdDaWrOX"
      }
    },
    {
      "cell_type": "markdown",
      "source": [
        "### **19. Write a program that handles both IndexError and KeyError using a try-except block.**"
      ],
      "metadata": {
        "id": "GZlwqYqOXlhA"
      }
    },
    {
      "cell_type": "markdown",
      "source": [
        "#### **Explanation**:\n",
        "\n",
        "1. **IndexError Handling**:\n",
        "   - The 'try' block attempts to access an element at index '5' in 'my_list', but since the list only has 3 elements, this will raise an 'IndexError'.\n",
        "   - The 'except IndexError as e' block catches the exception and prints an error message with the exception details.\n",
        "\n",
        "2. **KeyError Handling**:\n",
        "   - The 'try' block attempts to access the key \"address\" in the dictionary 'my_dict', but this key does not exist, raising a 'KeyError'.\n",
        "   - The 'except KeyError as e' block catches the exception and prints an error message with the exception details."
      ],
      "metadata": {
        "id": "AmIJzSUHXqeB"
      }
    },
    {
      "cell_type": "code",
      "source": [
        "def handle_errors():\n",
        "    #example 1: IndexError\n",
        "    try:\n",
        "        my_list = [1, 2, 3]\n",
        "        print(my_list[5])  #This will raise an IndexError\n",
        "    except IndexError as e:\n",
        "        print(f\"IndexError: {e}\")\n",
        "\n",
        "    #example 2: KeyError\n",
        "    try:\n",
        "        my_dict = {\"name\": \"Alex\", \"age\":29}\n",
        "        print(my_dict[\"address\"])  #This will raise a KeyError\n",
        "    except KeyError as e:\n",
        "        print(f\"KeyError: {e}\")\n",
        "\n",
        "#Call the function to demonstrate handling both errors\n",
        "handle_errors()"
      ],
      "metadata": {
        "colab": {
          "base_uri": "https://localhost:8080/"
        },
        "id": "uUuK1OvBWk8J",
        "outputId": "f9d551f3-5d23-420f-b3ce-b5f647161b98"
      },
      "execution_count": 34,
      "outputs": [
        {
          "output_type": "stream",
          "name": "stdout",
          "text": [
            "IndexError: list index out of range\n",
            "KeyError: 'address'\n"
          ]
        }
      ]
    },
    {
      "cell_type": "markdown",
      "source": [
        "#### **Notes**:\n",
        "- The program demonstrates two types of exceptions ('IndexError' and 'KeyError') and handles them with separate 'except' blocks.\n",
        "- You can catch multiple exceptions in one 'try' block by chaining 'except' blocks for different exceptions. If there were more exceptions, you could add additional 'except' blocks to handle them individually."
      ],
      "metadata": {
        "id": "42mKeLU0YYa4"
      }
    },
    {
      "cell_type": "markdown",
      "source": [
        "### **20. How would you open a file and read its contents using a context manager in Python ?**"
      ],
      "metadata": {
        "id": "Hq-i9fUxYlyn"
      }
    },
    {
      "cell_type": "markdown",
      "source": [
        "In Python, you can open a file and read its contents using a context manager ('with' statement). The context manager ensures that the file is properly closed after reading, even if an error occurs during the file operation.\n",
        "\n",
        "#### **Python Program: Reading File with Context Manager**"
      ],
      "metadata": {
        "id": "rdgKtgYxYtrD"
      }
    },
    {
      "cell_type": "code",
      "source": [
        "#Create a sample file to test\n",
        "file_name = '/content/example.txt'  #Colab path\n",
        "\n",
        "#Writing some content to the file\n",
        "with open(file_name, 'w') as file:\n",
        "    file.write(\"Hello, this is a sample text file.\\n\")\n",
        "    file.write(\"It contains multiple lines.\\n\")\n",
        "    file.write(\"This is the third line.\\n\")\n",
        "\n",
        "#Function to read file using context manager\n",
        "def read_file_with_context_manager(file_name):\n",
        "    try:\n",
        "        with open(file_name, 'r') as file:\n",
        "            content = file.read()  #Read the entire content of the file\n",
        "            print(\"File Content:\\n\", content)  #Print the file contents\n",
        "    except FileNotFoundError:\n",
        "        print(f\"Error: The file '{file_name}' does not exist.\")\n",
        "\n",
        "#Read the file and print the content\n",
        "read_file_with_context_manager(file_name)"
      ],
      "metadata": {
        "colab": {
          "base_uri": "https://localhost:8080/"
        },
        "id": "zGJq_QJmYMLC",
        "outputId": "542d588d-0f2d-4735-d6c4-1564fb522114"
      },
      "execution_count": 35,
      "outputs": [
        {
          "output_type": "stream",
          "name": "stdout",
          "text": [
            "File Content:\n",
            " Hello, this is a sample text file.\n",
            "It contains multiple lines.\n",
            "This is the third line.\n",
            "\n"
          ]
        }
      ]
    },
    {
      "cell_type": "markdown",
      "source": [
        "#### **Explanation**:\n",
        "\n",
        "1. **'with open(file_name, 'r') as file'**:\n",
        "   - The 'open()' function is used with the 'with' statement. The 'with' statement automatically handles opening and closing the file.\n",
        "   - 'r' mode is used to open the file for reading.\n",
        "   - The 'file' variable represents the opened file inside the 'with' block.\n",
        "\n",
        "2. **Reading the File**:\n",
        "   - The 'file.read()' method reads the entire content of the file into a string.\n",
        "   - You can also use 'file.readline()' to read one line at a time or 'file.readlines()' to read all lines into a list.\n",
        "\n",
        "3. **Context Manager**:\n",
        "   - The context manager ensures that the file is properly closed once the block is exited, even if an error occurs during reading.\n",
        "   - If the file does not exist, a 'FileNotFoundError' is raised, which is caught by the 'except' block, and a friendly error message is displayed.\n",
        "\n",
        "\n",
        "#### **Notes**:\n",
        "- **Error Handling**: If the file does not exist or there's another issue opening the file, the 'FileNotFoundError' is caught and an error message is printed.\n",
        "- **Context Manager Advantage**: Using a 'with' statement is a good practice because it ensures that the file is closed even if an error occurs, eliminating the need for a 'file.close()' call."
      ],
      "metadata": {
        "id": "9v5GZvzCZC-X"
      }
    },
    {
      "cell_type": "markdown",
      "source": [
        "### **21. Write a Python program that reads a file and prints the number of occurrences of a specific word.**"
      ],
      "metadata": {
        "id": "CY_1MEvqZnWJ"
      }
    },
    {
      "cell_type": "markdown",
      "source": [
        "Here's a Python program that reads a file and counts how many times a specific word appears in it:\n",
        "\n",
        "#### **Python Program: Count Word Occurrences in a File**"
      ],
      "metadata": {
        "id": "QCfksXDVZr-P"
      }
    },
    {
      "cell_type": "code",
      "source": [
        "#Create a sample file to test\n",
        "file_name = '/content/example.txt'  #Colab path\n",
        "\n",
        "#Writing some content to the file\n",
        "with open(file_name, 'w') as file:\n",
        "    file.write(\"Hello, this is a sample text file.\\n\")\n",
        "    file.write(\"It contains multiple sample lines.\\n\")\n",
        "    file.write(\"This is the third sample line.\\n\")\n",
        "\n",
        "def count_word_occurrences(file_name, word_to_count):\n",
        "    try:\n",
        "        with open(file_name, 'r') as file:\n",
        "            content = file.read()  #Read the entire file content\n",
        "            word_count = content.lower().split().count(word_to_count.lower())  #Count the occurrences of the word\n",
        "            print(f\"The word '{word_to_count}' appears {word_count} times in the file.\")\n",
        "    except FileNotFoundError:\n",
        "        print(f\"Error: The file '{file_name}' does not exist.\")\n",
        "    except Exception as e:\n",
        "        print(f\"An error occurred: {e}\")\n",
        "\n",
        "#Example usage\n",
        "file_name = 'example.txt'  #Replace with the actual file path\n",
        "word_to_count = 'sample'  #Word you want to count\n",
        "\n",
        "count_word_occurrences(file_name, word_to_count)"
      ],
      "metadata": {
        "colab": {
          "base_uri": "https://localhost:8080/"
        },
        "id": "ay0H1jmqY-uR",
        "outputId": "a355c2d4-8104-451a-ee65-1b4ac51693aa"
      },
      "execution_count": 36,
      "outputs": [
        {
          "output_type": "stream",
          "name": "stdout",
          "text": [
            "The word 'sample' appears 3 times in the file.\n"
          ]
        }
      ]
    },
    {
      "cell_type": "markdown",
      "source": [
        "#### **Explanation**:\n",
        "1. **Opening the File**:\n",
        "   - 'with open(file_name, 'r') as file': Opens the file in read mode ('r') and automatically handles closing the file after reading.\n",
        "   \n",
        "2. **Reading Content**:\n",
        "   - 'content = file.read()': Reads the entire content of the file as a string.\n",
        "\n",
        "3. **Counting Word Occurrences**:\n",
        "   - 'content.lower().split()': Converts the content to lowercase and splits it into a list of words.\n",
        "   - 'count(word_to_count.lower())': Counts how many times the specified word (also converted to lowercase) appears in the list of words.\n",
        "\n",
        "4. **Error Handling**:\n",
        "   - If the file does not exist, a 'FileNotFoundError' is caught, and an error message is printed.\n",
        "\n",
        "#### **Notes**:\n",
        "- The program handles the case where the word may appear in different cases (like \"Sample\", \"sample\", etc.) by converting the content and the word to lowercase before counting.\n",
        "- **File Path**: Ensure the 'file_name' is correct, especially if you're working in environments like Google Colab, where files are stored in '/content/'."
      ],
      "metadata": {
        "id": "yRcc4nkeZ6g1"
      }
    },
    {
      "cell_type": "markdown",
      "source": [
        "### **22. How can you check if a file is empty before attempting to read its contents?**"
      ],
      "metadata": {
        "id": "ExVChObOaYkJ"
      }
    },
    {
      "cell_type": "markdown",
      "source": [
        "To check if a file is empty before attempting to read its contents, you can use Python's 'os' module or simply check the file size using the 'os.stat()' function, or by reading the first line or checking the content length."
      ],
      "metadata": {
        "id": "6Q-O-5F3acgg"
      }
    },
    {
      "cell_type": "markdown",
      "source": [
        "#### **Method 1: Using 'os.stat()' to Check File Size**\n",
        "- 'os.stat(file_name).st_size': This gives the size of the file in bytes.\n",
        "- If the size is '0', the file is considered empty."
      ],
      "metadata": {
        "id": "q-4CaFiJalRa"
      }
    },
    {
      "cell_type": "code",
      "source": [
        "import os\n",
        "\n",
        "def check_if_file_is_empty(file_name):\n",
        "    try:\n",
        "        #Get the size of the file\n",
        "        file_size = os.stat(file_name).st_size\n",
        "\n",
        "        #Check if the file size is 0 (empty file)\n",
        "        if file_size == 0:\n",
        "            print(f\"The file '{file_name}' is empty.\")\n",
        "        else:\n",
        "            print(f\"The file '{file_name}' is not empty.\")\n",
        "            read_file(file_name)  #Call the function to read the file contents\n",
        "    except FileNotFoundError:\n",
        "        print(f\"Error: The file '{file_name}' does not exist.\")\n",
        "    except Exception as e:\n",
        "        print(f\"An error occurred: {e}\")\n",
        "\n",
        "def read_file(file_name):\n",
        "    try:\n",
        "        with open(file_name, 'r') as file:\n",
        "            content = file.read()\n",
        "            print(\"File content:\")\n",
        "            print(content)\n",
        "    except Exception as e:\n",
        "        print(f\"An error occurred while reading the file: {e}\")\n",
        "\n",
        "#Example usage\n",
        "file_name = 'example.txt'  #Replace with the actual file path\n",
        "check_if_file_is_empty(file_name)"
      ],
      "metadata": {
        "colab": {
          "base_uri": "https://localhost:8080/"
        },
        "id": "sw0r46L-Z2UG",
        "outputId": "8011e2e1-d3a9-4161-a79b-f651955cae25"
      },
      "execution_count": 38,
      "outputs": [
        {
          "output_type": "stream",
          "name": "stdout",
          "text": [
            "The file 'example.txt' is not empty.\n",
            "File content:\n",
            "Hello, this is a sample text file.\n",
            "It contains multiple sample lines.\n",
            "This is the third sample line.\n",
            "\n"
          ]
        }
      ]
    },
    {
      "cell_type": "markdown",
      "source": [
        "#### **Method 2: Using 'with open()' to Check for an Empty File**\n",
        "- 'file.readline()': Reads the first line of the file. If the first line is empty (i.e., 'not first_line'), the file is considered empty.\n",
        "\n",
        "\n",
        "\n",
        "Alternatively, you can check if the first line is empty when opening the file:\n"
      ],
      "metadata": {
        "id": "PQYLD75ya_JS"
      }
    },
    {
      "cell_type": "code",
      "source": [
        "def check_if_file_is_empty(file_name):\n",
        "    try:\n",
        "        with open(file_name, 'r') as file:\n",
        "            #Read the first line to check if the file is empty\n",
        "            first_line = file.readline()\n",
        "\n",
        "            if not first_line:\n",
        "                print(f\"The file '{file_name}' is empty.\")\n",
        "            else:\n",
        "                print(f\"The file '{file_name}' is not empty.\")\n",
        "                read_file(file_name)  #Read the rest of the file contents\n",
        "    except FileNotFoundError:\n",
        "        print(f\"Error: The file '{file_name}' does not exist.\")\n",
        "    except Exception as e:\n",
        "        print(f\"An error occurred: {e}\")\n",
        "\n",
        "def read_file(file_name):\n",
        "    try:\n",
        "        with open(file_name, 'r') as file:\n",
        "            content = file.read()\n",
        "            print(\"File content:\")\n",
        "            print(content)\n",
        "    except Exception as e:\n",
        "        print(f\"An error occurred while reading the file: {e}\")\n",
        "\n",
        "#Example usage\n",
        "file_name = 'example.txt'  #Replace with the actual file path\n",
        "check_if_file_is_empty(file_name)"
      ],
      "metadata": {
        "colab": {
          "base_uri": "https://localhost:8080/"
        },
        "id": "YjdqYcjEa1Ut",
        "outputId": "0c69326e-2392-47a9-c6c8-7f4cb8ab01a7"
      },
      "execution_count": 39,
      "outputs": [
        {
          "output_type": "stream",
          "name": "stdout",
          "text": [
            "The file 'example.txt' is not empty.\n",
            "File content:\n",
            "Hello, this is a sample text file.\n",
            "It contains multiple sample lines.\n",
            "This is the third sample line.\n",
            "\n"
          ]
        }
      ]
    },
    {
      "cell_type": "markdown",
      "source": [
        "#### **Reading the File**:\n",
        "- If the file is not empty, the program proceeds to read the contents of the file using the 'read_file()' function.\n",
        "\n",
        "#### **Notes**:\n",
        "- **File Path**: Ensure that the file path is correct.\n",
        "- **File Handling**: The 'try-except' blocks ensure that the program handles cases where the file does not exist or there is an error during reading.\n"
      ],
      "metadata": {
        "id": "WSaFXTjGbTcH"
      }
    },
    {
      "cell_type": "markdown",
      "source": [
        "### **23. Write a Python program that writes to a log file when an error occurs during file handling.**"
      ],
      "metadata": {
        "id": "K3xdjvhTbeag"
      }
    },
    {
      "cell_type": "markdown",
      "source": [
        "Here's a Python program that writes to a log file when an error occurs during file handling. The program uses the 'logging' module to log error messages.\n",
        "\n",
        "#### **Python Program: Logging Errors During File Handling**"
      ],
      "metadata": {
        "id": "dGbcuFjIbjgf"
      }
    },
    {
      "cell_type": "code",
      "source": [
        "import logging\n",
        "\n",
        "#Set up logging configuration\n",
        "logging.basicConfig(\n",
        "    filename='/content/file_handling_errors.log',  #Log file path (in Colab's file system)\n",
        "    level=logging.ERROR,  #Only log errors and above (ERROR, CRITICAL)\n",
        "    format='%(asctime)s - %(levelname)s - %(message)s'\n",
        ")\n",
        "\n",
        "def read_file(file_name):\n",
        "    try:\n",
        "        with open(file_name, 'r') as file:\n",
        "            content = file.read()\n",
        "            print(content)\n",
        "    except FileNotFoundError as e:\n",
        "        logging.error(f\"FileNotFoundError: {e} - The file '{file_name}' does not exist.\")\n",
        "        print(f\"Error: The file '{file_name}' does not exist.\")\n",
        "    except PermissionError as e:\n",
        "        logging.error(f\"PermissionError: {e} - You do not have permission to access '{file_name}'.\")\n",
        "        print(f\"Error: You do not have permission to access '{file_name}'.\")\n",
        "    except Exception as e:\n",
        "        logging.error(f\"Exception: {e} - An unexpected error occurred while handling the file '{file_name}'.\")\n",
        "        print(\"An unexpected error occurred. Please check the log for details.\")\n",
        "\n",
        "#Example usage with a non-existent file\n",
        "file_name = '/content/example.txt'  #File path in Colab (it doesn't exist, so error will occur)\n",
        "read_file(file_name)\n",
        "\n",
        "#Read and display the log content in the notebook\n",
        "with open('/content/file_handling_errors.log', 'r') as log_file:\n",
        "    log_content = log_file.read()\n",
        "    print(\"\\n--- Log Content ---\")\n",
        "    print(log_content)"
      ],
      "metadata": {
        "colab": {
          "base_uri": "https://localhost:8080/",
          "height": 280
        },
        "id": "FDmWxjqDbOiQ",
        "outputId": "9f9f0a41-ef4a-4f81-c3bb-ce01487413c7"
      },
      "execution_count": 40,
      "outputs": [
        {
          "output_type": "stream",
          "name": "stdout",
          "text": [
            "Hello, this is a sample text file.\n",
            "It contains multiple sample lines.\n",
            "This is the third sample line.\n",
            "\n"
          ]
        },
        {
          "output_type": "error",
          "ename": "FileNotFoundError",
          "evalue": "[Errno 2] No such file or directory: '/content/file_handling_errors.log'",
          "traceback": [
            "\u001b[0;31m---------------------------------------------------------------------------\u001b[0m",
            "\u001b[0;31mFileNotFoundError\u001b[0m                         Traceback (most recent call last)",
            "\u001b[0;32m<ipython-input-40-4f2a1bf64d38>\u001b[0m in \u001b[0;36m<cell line: 30>\u001b[0;34m()\u001b[0m\n\u001b[1;32m     28\u001b[0m \u001b[0;34m\u001b[0m\u001b[0m\n\u001b[1;32m     29\u001b[0m \u001b[0;31m#Read and display the log content in the notebook\u001b[0m\u001b[0;34m\u001b[0m\u001b[0;34m\u001b[0m\u001b[0m\n\u001b[0;32m---> 30\u001b[0;31m \u001b[0;32mwith\u001b[0m \u001b[0mopen\u001b[0m\u001b[0;34m(\u001b[0m\u001b[0;34m'/content/file_handling_errors.log'\u001b[0m\u001b[0;34m,\u001b[0m \u001b[0;34m'r'\u001b[0m\u001b[0;34m)\u001b[0m \u001b[0;32mas\u001b[0m \u001b[0mlog_file\u001b[0m\u001b[0;34m:\u001b[0m\u001b[0;34m\u001b[0m\u001b[0;34m\u001b[0m\u001b[0m\n\u001b[0m\u001b[1;32m     31\u001b[0m     \u001b[0mlog_content\u001b[0m \u001b[0;34m=\u001b[0m \u001b[0mlog_file\u001b[0m\u001b[0;34m.\u001b[0m\u001b[0mread\u001b[0m\u001b[0;34m(\u001b[0m\u001b[0;34m)\u001b[0m\u001b[0;34m\u001b[0m\u001b[0;34m\u001b[0m\u001b[0m\n\u001b[1;32m     32\u001b[0m     \u001b[0mprint\u001b[0m\u001b[0;34m(\u001b[0m\u001b[0;34m\"\\n--- Log Content ---\"\u001b[0m\u001b[0;34m)\u001b[0m\u001b[0;34m\u001b[0m\u001b[0;34m\u001b[0m\u001b[0m\n",
            "\u001b[0;31mFileNotFoundError\u001b[0m: [Errno 2] No such file or directory: '/content/file_handling_errors.log'"
          ]
        }
      ]
    },
    {
      "cell_type": "markdown",
      "source": [
        "#### **Explanation**:\n",
        "\n",
        "1. **Logging Configuration**:\n",
        "   - 'logging.basicConfig()': This sets up the logging configuration.\n",
        "   - 'filename='file_handling_errors.log'': This specifies the name of the log file where the error messages will be written.\n",
        "   - 'level=logging.ERROR': This means only errors ('ERROR' and 'CRITICAL') will be logged. You can change this to 'logging.DEBUG' if you want to log more information.\n",
        "   - 'format='%(asctime)s - %(levelname)s - %(message)s'': This formats the log message to include the timestamp, the log level, and the message.\n",
        "\n",
        "2. **Error Handling in 'read_file()'**:\n",
        "   - 'FileNotFoundError': Logs the error message if the file doesn't exist.\n",
        "   - 'PermissionError': Logs the error if the program doesn't have permission to read the file.\n",
        "   - 'Exception': Catches any other unexpected errors and logs them.\n",
        "\n",
        "3. **Example Usage**:\n",
        "   - The 'read_file()' function is called with a file name (''example.txt''), and if any error occurs, it is logged to ''file_handling_errors.log''.\n",
        "\n",
        "\n",
        "#### **Notes**:\n",
        "- The log file 'file_handling_errors.log' will be created in the current working directory. You can change the path if you want it to be stored in a different directory.\n",
        "- You can also adjust the log level ('logging.DEBUG', 'logging.INFO', etc.) based on the type of information you want to log.\n",
        "- The 'try-except' blocks ensure that specific errors (like file not found or permission issues) are logged with a detailed message."
      ],
      "metadata": {
        "id": "xVg2oBEhb6J5"
      }
    }
  ]
}