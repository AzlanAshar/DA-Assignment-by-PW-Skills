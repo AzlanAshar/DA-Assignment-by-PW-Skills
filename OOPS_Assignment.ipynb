{
  "nbformat": 4,
  "nbformat_minor": 0,
  "metadata": {
    "colab": {
      "provenance": [],
      "authorship_tag": "ABX9TyPbjbZD5p0YU0CvGU7iqGAr",
      "include_colab_link": true
    },
    "kernelspec": {
      "name": "python3",
      "display_name": "Python 3"
    },
    "language_info": {
      "name": "python"
    }
  },
  "cells": [
    {
      "cell_type": "markdown",
      "metadata": {
        "id": "view-in-github",
        "colab_type": "text"
      },
      "source": [
        "<a href=\"https://colab.research.google.com/github/AzlanAshar/DA-Assignment-by-PW-Skills/blob/main/OOPS_Assignment.ipynb\" target=\"_parent\"><img src=\"https://colab.research.google.com/assets/colab-badge.svg\" alt=\"Open In Colab\"/></a>"
      ]
    },
    {
      "cell_type": "markdown",
      "source": [
        "# **OOPS_Assignment_by_PWSkills**"
      ],
      "metadata": {
        "id": "smlaDFhda667"
      }
    },
    {
      "cell_type": "markdown",
      "source": [
        "### **Question 1. What are the five key concepts of Object-Oriented Programming (OOP)?**"
      ],
      "metadata": {
        "id": "5svLFh3bHkTN"
      }
    },
    {
      "cell_type": "markdown",
      "source": [
        "Here are the five key concepts of Object-Oriented Programming (OOP) explained:\n",
        "\n",
        "**Encapsulation:** This means keeping the data (variables) and the code (methods) that works on the data together in one unit called a class. It also involves controlling access to the data so that it’s protected from being changed directly, usually through functions or methods. Think of it like putting important documents in a secure folder, only allowing access to them through a safe process.\n",
        "\n",
        "**Abstraction:** This is about hiding the complex details and showing only the essential features to the user. It's like using a remote control – you don’t need to know how the TV works internally, you just press buttons to get it to do what you want.\n",
        "\n",
        "**Inheritance:** Inheritance allows one class (the child) to inherit properties and behaviors from another class (the parent). It's like a child inheriting traits from their parents – they get things like hair color or height, but they can also add their own unique traits.\n",
        "\n",
        "**Polymorphism:** This means that a single method can work in different ways depending on the object it’s being used with. It’s like a person being able to drive different types of vehicles – a car, a motorcycle, or a truck – but the action \"driving\" remains the same even though the vehicle is different.\n",
        "\n",
        "**Classes and Objects:** A class is like a blueprint, and an object is an actual instance of that blueprint. It’s like a blueprint for a house – the class is the plan, and the object is the actual house built from that plan.\n",
        "\n",
        "These concepts together help make code more organized, reusable, and easier to manage."
      ],
      "metadata": {
        "id": "S7k-tj8iHt5a"
      }
    },
    {
      "cell_type": "markdown",
      "source": [
        "### **Question 2. Write a Python class for a `Car` with attributes for `make`, `model`, and `year`. Include a method to display the car's information.**"
      ],
      "metadata": {
        "id": "DNLe31VcIXKU"
      }
    },
    {
      "cell_type": "code",
      "source": [
        "class Car:\n",
        "    #The __init__ method is called when we create a new car object\n",
        "    def __init__(self, make, model, year):\n",
        "        self.make = make   #Setting the make of the car\n",
        "        self.model = model #Setting the model of the car\n",
        "        self.year = year   #Setting the year of the car\n",
        "\n",
        "    #A method to display the car's information\n",
        "    def display_info(self):\n",
        "        print(f\"Car Information: {self.year} {self.make} {self.model}\")\n",
        "\n",
        "#Creating a car object with the details for GMC Hummer 2007\n",
        "my_car = Car(\"GMC\", \"HUMMER\", 2007)\n",
        "\n",
        "#Calling the method to display the car's information\n",
        "my_car.display_info()"
      ],
      "metadata": {
        "colab": {
          "base_uri": "https://localhost:8080/"
        },
        "id": "SPXBGdbhI7KR",
        "outputId": "321aa206-863a-487f-fc68-6ce2c59fa943"
      },
      "execution_count": 1,
      "outputs": [
        {
          "output_type": "stream",
          "name": "stdout",
          "text": [
            "Car Information: 2007 GMC HUMMER\n"
          ]
        }
      ]
    },
    {
      "cell_type": "markdown",
      "source": [
        "### **Question 3. Explain the difference between instance methods and class methods. Provide an example of each.**"
      ],
      "metadata": {
        "id": "sYom07cpJXn2"
      }
    },
    {
      "cell_type": "markdown",
      "source": [
        "**1. Instance Methods:**\n",
        "What are they?: Instance methods are functions that belong to an instance (or object) of a class. They can access and modify the instance's attributes (the properties of that specific object).\n",
        "\n",
        "When do you use them?: You use instance methods when you need to perform actions on a specific object, like changing its data or displaying its information.\n",
        "\n",
        "Example of an Instance Method: Let's imagine a class for a Book where we can get and update the details of a specific book."
      ],
      "metadata": {
        "id": "dHfP5q6SJqXB"
      }
    },
    {
      "cell_type": "code",
      "execution_count": 2,
      "metadata": {
        "colab": {
          "base_uri": "https://localhost:8080/"
        },
        "id": "STQPqzMGD84u",
        "outputId": "76c19ed2-6bf3-40b7-8184-4003f316443e"
      },
      "outputs": [
        {
          "output_type": "stream",
          "name": "stdout",
          "text": [
            "Book: Richtad & poor dad, Author: Robert kayosaki, Year: 2002\n"
          ]
        }
      ],
      "source": [
        "class Book:\n",
        "    def __init__(self, title, author, year):\n",
        "        self.title = title  #Title of the book\n",
        "        self.author = author  #Author of the book\n",
        "        self.year = year  #Year the book was published\n",
        "\n",
        "    #Instance method to display book details\n",
        "    def display_info(self):\n",
        "        print(f\"Book: {self.title}, Author: {self.author}, Year: {self.year}\")\n",
        "\n",
        "#Creating a Book object\n",
        "my_book = Book(\"Richtad & poor dad\", \"Robert kayosaki\", 2002)\n",
        "\n",
        "#Calling the instance method\n",
        "my_book.display_info()  #This will print the details of my_book"
      ]
    },
    {
      "cell_type": "markdown",
      "source": [
        "**2. Class Methods:** Class methods are functions that belong to the class itself, not to an individual object. They can’t access or modify instance-specific data, but they can access and modify class-level data (which is shared across all instances of the class).\n",
        "\n",
        "When do you use them?: You use class methods when you want to perform actions that affect the whole class, not just a single object. They are often used for creating factory methods or setting class-wide values.\n",
        "\n",
        "Example of a Class Method: Let’s imagine a class for Car, and we want to keep track of the number of cars produced by the company."
      ],
      "metadata": {
        "id": "wdHeJ8YmKcxX"
      }
    },
    {
      "cell_type": "code",
      "source": [
        "class Car:\n",
        "    total_cars = 0  #Class variable to keep track of total cars\n",
        "\n",
        "    def __init__(self, make, model):\n",
        "        self.make = make\n",
        "        self.model = model\n",
        "        Car.total_cars += 1  #Increment the total number of cars when a new car is created\n",
        "\n",
        "    #Class method to display the total number of cars\n",
        "    @classmethod\n",
        "    def display_total_cars(cls):\n",
        "        print(f\"Total number of cars produced: {cls.total_cars}\")\n",
        "\n",
        "#Creating car objects\n",
        "car1 = Car(\"Toyota\", \"Innova\")\n",
        "car2 = Car(\"Honda\", \"Civic\")\n",
        "car3 = Car(\"TATA\", \"Curvv\")\n",
        "\n",
        "#Calling the class method\n",
        "Car.display_total_cars()  #This will print the total number of cars produced"
      ],
      "metadata": {
        "colab": {
          "base_uri": "https://localhost:8080/"
        },
        "id": "T3JJC8D1KN4s",
        "outputId": "dd07ac7c-8307-4952-e85d-ea687d855cc7"
      },
      "execution_count": 4,
      "outputs": [
        {
          "output_type": "stream",
          "name": "stdout",
          "text": [
            "Total number of cars produced: 3\n"
          ]
        }
      ]
    },
    {
      "cell_type": "markdown",
      "source": [
        "In Differences:\n",
        "\n",
        "**Instance methods:** They belong to specific objects. They can access and modify the object's attributes.\n",
        "\n",
        "**Class methods:** They belong to the class itself. They can access and modify class-level data that is shared by all objects of the class."
      ],
      "metadata": {
        "id": "VfhCQ74QLHZJ"
      }
    },
    {
      "cell_type": "markdown",
      "source": [
        "### **Question 4. How does Python implement method overloading? Give an example.**"
      ],
      "metadata": {
        "id": "qS8daMtDLm9S"
      }
    },
    {
      "cell_type": "markdown",
      "source": [
        "In Python, method overloading is a little different from some other languages like Java or C++. Python doesn't support method overloading in the traditional sense (i.e., defining multiple methods with the same name but different arguments). However, Python allows you to achieve similar functionality by using default arguments or variable-length arguments.\n",
        "\n",
        "\n",
        "#### **How Python Implements Method Overloading:**\n",
        "\n",
        "\n",
        "**Default Arguments:** You can set default values for method parameters, so the method can be called with or without certain arguments.\n",
        "Variable-Length Arguments (*args and **kwargs): You can use *args to accept any number of positional arguments, or **kwargs to accept any number of keyword arguments. This allows you to handle different numbers of inputs in the same method.\n",
        "\n",
        "**Example 1:** Using Default Arguments (Simulating Method Overloading)\n",
        "We can create a method that behaves differently depending on the number of arguments passed."
      ],
      "metadata": {
        "id": "GsItlPzLL0AE"
      }
    },
    {
      "cell_type": "code",
      "source": [
        "class Calculator:\n",
        "    def add(self, a, b=0, c=0):\n",
        "        return a + b + c\n",
        "\n",
        "#Creating a Calculator object\n",
        "calc = Calculator()\n",
        "\n",
        "#Calling the method with 2 arguments\n",
        "result1 = calc.add(5, 3)\n",
        "print(result1)  #Output: 8\n",
        "\n",
        "#Calling the method with 1 argument\n",
        "result2 = calc.add(5)\n",
        "print(result2)  #Output: 5 (since b and c default to 0)\n",
        "\n",
        "#Calling the method with 3 arguments\n",
        "result3 = calc.add(5, 3, 2)\n",
        "print(result3)"
      ],
      "metadata": {
        "colab": {
          "base_uri": "https://localhost:8080/"
        },
        "id": "if9rHnTVK7OF",
        "outputId": "6d2d3799-3aa9-4b17-df2d-3e9adcfc1eb8"
      },
      "execution_count": 6,
      "outputs": [
        {
          "output_type": "stream",
          "name": "stdout",
          "text": [
            "8\n",
            "5\n",
            "10\n"
          ]
        }
      ]
    },
    {
      "cell_type": "markdown",
      "source": [
        "**Explanation:**\n",
        "\n",
        "In this example, the add method behaves differently depending on how many arguments you pass. If you only pass one argument, the method uses the default values for b and c (which are 0). This simulates method overloading by allowing different numbers of arguments.\n",
        "\n",
        "\n",
        "**Example 2:**\n",
        "\n",
        "Using *args (Variable-Length Positional Arguments)\n",
        "You can also use *args to accept any number of arguments."
      ],
      "metadata": {
        "id": "dZgBrXf8Mw42"
      }
    },
    {
      "cell_type": "code",
      "source": [
        "class Printer:\n",
        "    def print_details(self, *args):\n",
        "        for arg in args:\n",
        "            print(arg)\n",
        "\n",
        "#Creating a Printer object\n",
        "printer = Printer()\n",
        "\n",
        "#Calling the method with different numbers of arguments\n",
        "printer.print_details(\"Namaste\")\n",
        "printer.print_details(\"Namaste\", \"India\")\n",
        "printer.print_details(\"Alive\", \"is\", \"awesome\")"
      ],
      "metadata": {
        "colab": {
          "base_uri": "https://localhost:8080/"
        },
        "id": "77krxK-gMdUX",
        "outputId": "47b28702-79fc-4ada-c67f-df09b602bf53"
      },
      "execution_count": 9,
      "outputs": [
        {
          "output_type": "stream",
          "name": "stdout",
          "text": [
            "Namaste\n",
            "Namaste\n",
            "India\n",
            "Alive\n",
            "is\n",
            "awesome\n"
          ]
        }
      ]
    },
    {
      "cell_type": "markdown",
      "source": [
        "**Explanation:**\n",
        "\n",
        "In this example, print_details can accept any number of arguments, thanks to *args. No matter how many strings you pass, the method will print each one.\n",
        "\n",
        "**Example 3:**\n",
        "\n",
        "Using *kwargs (Variable-Length Keyword Arguments) You can also use *kwargs to accept any number of keyword arguments, which are passed as a dictionary."
      ],
      "metadata": {
        "id": "x6kxU6SDNBQr"
      }
    },
    {
      "cell_type": "code",
      "source": [
        "class Student:\n",
        "    def __init__(self, name, **kwargs):\n",
        "        self.name = name\n",
        "        self.details = kwargs\n",
        "\n",
        "    def display_info(self):\n",
        "        print(f\"Name: {self.name}\")\n",
        "        for key, value in self.details.items():\n",
        "            print(f\"{key}: {value}\")\n",
        "\n",
        "#Creating a Student object with name \"Azlan\"\n",
        "student = Student(\"Azlan Ashar\", age=27, grade=\"A\", major=\"Data Analyst\")\n",
        "student.display_info() #Calling the method to display info"
      ],
      "metadata": {
        "colab": {
          "base_uri": "https://localhost:8080/"
        },
        "id": "BVOJk99iM5KK",
        "outputId": "97aaa90a-feb9-4f30-8985-1362d3f9e04c"
      },
      "execution_count": 11,
      "outputs": [
        {
          "output_type": "stream",
          "name": "stdout",
          "text": [
            "Name: Azlan Ashar\n",
            "age: 27\n",
            "grade: A\n",
            "major: Data Analyst\n"
          ]
        }
      ]
    },
    {
      "cell_type": "markdown",
      "source": [
        "**Explanation:**\n",
        "\n",
        "In this case, we created a Student object with the name Parmeet.\n",
        "Additional details like age, grade, and major are passed using **kwargs as keyword arguments.\n",
        "\n",
        "The display_info method prints out the name and all the details associated with the student.\n",
        "\n",
        "This shows how you can easily manage and display dynamic information about an object using **kwargs."
      ],
      "metadata": {
        "id": "4uUPrU12OHAG"
      }
    },
    {
      "cell_type": "markdown",
      "source": [
        "### **Question 5. What are the three types of access modifiers in Python? How are they denoted?**"
      ],
      "metadata": {
        "id": "h_GQLZrYOWZG"
      }
    },
    {
      "cell_type": "markdown",
      "source": [
        "**1. Public Access Modifier**\n",
        "Public attributes and methods can be accessed anywhere.\n",
        "\n",
        "**Example:** Let's create a class for a BankAccount where the balance can be directly accessed or modified."
      ],
      "metadata": {
        "id": "wil1WHKhOaxr"
      }
    },
    {
      "cell_type": "code",
      "source": [
        "class BankAccount:\n",
        "    def __init__(self, account_holder, balance):\n",
        "        self.account_holder = account_holder  #Public attribute\n",
        "        self.balance = balance  #Public attribute\n",
        "\n",
        "    def deposit(self, amount):  #Public method\n",
        "        self.balance += amount\n",
        "        print(f\"Deposited {amount}. New balance: {self.balance}\")\n",
        "\n",
        "#Creating a BankAccount object\n",
        "account = BankAccount(\"Azlan Ashar\", 7000)\n",
        "\n",
        "#Accessing and modifying public attributes directly\n",
        "print(account.account_holder)  #Accessing public attribute\n",
        "print(account.balance)  #Accessing public attribute\n",
        "\n",
        "account.deposit(500)  #Calling public method"
      ],
      "metadata": {
        "colab": {
          "base_uri": "https://localhost:8080/"
        },
        "id": "emahiFg1N7OC",
        "outputId": "4c7bae80-e9f9-4f68-eb4e-3982bfa65892"
      },
      "execution_count": 12,
      "outputs": [
        {
          "output_type": "stream",
          "name": "stdout",
          "text": [
            "Azlan Ashar\n",
            "7000\n",
            "Deposited 500. New balance: 7500\n"
          ]
        }
      ]
    },
    {
      "cell_type": "markdown",
      "source": [
        "**2. Protected Access Modifier**\n",
        "Protected attributes and methods are intended to be used within the class or its subclasses. Though still accessible outside the class, it's generally not recommended.\n",
        "\n",
        "**Example:** Let's create a Employee class with a protected method that calculates the salary bonus."
      ],
      "metadata": {
        "id": "xKBixmsgPIjM"
      }
    },
    {
      "cell_type": "code",
      "source": [
        "class Employee:\n",
        "    def __init__(self, name, base_salary):\n",
        "        self.name = name  #Public attribute\n",
        "        self._base_salary = base_salary  #Protected attribute\n",
        "\n",
        "    def _calculate_bonus(self):  #Protected method\n",
        "        return self._base_salary * 0.1  #10% bonus\n",
        "\n",
        "    def display_salary(self):\n",
        "        bonus = self._calculate_bonus()  #Using the protected method\n",
        "        print(f\"{self.name}'s salary: {self._base_salary + bonus}\")\n",
        "\n",
        "#Creating an Employee object\n",
        "emp = Employee(\"Azlan\", 7000)\n",
        "\n",
        "#Accessing protected attribute and method directly (not recommended)\n",
        "print(emp._base_salary)  #Accessing protected attribute\n",
        "emp._calculate_bonus()  #Calling protected method"
      ],
      "metadata": {
        "colab": {
          "base_uri": "https://localhost:8080/"
        },
        "id": "KNlDHRSXPD0T",
        "outputId": "6c271fc2-93e4-4c5c-afad-5628ea67e8ef"
      },
      "execution_count": 13,
      "outputs": [
        {
          "output_type": "stream",
          "name": "stdout",
          "text": [
            "7000\n"
          ]
        },
        {
          "output_type": "execute_result",
          "data": {
            "text/plain": [
              "700.0"
            ]
          },
          "metadata": {},
          "execution_count": 13
        }
      ]
    },
    {
      "cell_type": "markdown",
      "source": [
        "**3. Private Access Modifier**\n",
        "Private attributes and methods are meant to be used only within the class. They cannot be accessed directly from outside the class.\n",
        "\n",
        "**Example:** Let's create a Car class where we prevent direct access to the fuel_level attribute by making it private."
      ],
      "metadata": {
        "id": "G6HN2FPiPgiy"
      }
    },
    {
      "cell_type": "code",
      "source": [
        "class Car:\n",
        "    def __init__(self, model, fuel_level):\n",
        "        self.model = model  #Public attribute\n",
        "        self.__fuel_level = fuel_level  #Private attribute\n",
        "\n",
        "    def __refuel(self, amount):  #Private method\n",
        "        self.__fuel_level += amount\n",
        "        print(f\"Refueled {amount}. New fuel level: {self.__fuel_level}\")\n",
        "\n",
        "    def drive(self):\n",
        "        print(f\"{self.model} is driving.\")\n",
        "        self.__refuel(10)  #Private method used inside the class\n",
        "\n",
        "#Creating a Car object\n",
        "my_car = Car(\"TATA Curvv\", 50)\n",
        "\n",
        "#Attempting to access private attribute or method (will cause an error)\n",
        "#print(my_car.__fuel_level)  #This will cause an error!\n",
        "#my_car.__refuel(20)  #This will also cause an error!\n",
        "\n",
        "#Calling a public method that uses private attributes\n",
        "my_car.drive()"
      ],
      "metadata": {
        "colab": {
          "base_uri": "https://localhost:8080/"
        },
        "id": "H9TeNHc6PaKj",
        "outputId": "fbaa5cc2-4a22-4ed1-aada-4faa15b93efe"
      },
      "execution_count": 15,
      "outputs": [
        {
          "output_type": "stream",
          "name": "stdout",
          "text": [
            "TATA Curvv is driving.\n",
            "Refueled 10. New fuel level: 60\n"
          ]
        }
      ]
    },
    {
      "cell_type": "markdown",
      "source": [
        "**Summary:**\n",
        "\n",
        "**Public Access:** No underscore (model, balance) – accessible from anywhere.\n",
        "\n",
        "**Protected Access:** Single underscore (_base_salary) – meant to be used within the class or subclasses, but still accessible outside.\n",
        "\n",
        "**Private Access:** Double underscore (__fuel_level) – cannot be accessed directly from outside the class.\n",
        "In Python, these access modifiers are not strict enforcements but are more about conventions. However, using them properly helps to make your code cleaner and prevents accidental misuse of internal class details."
      ],
      "metadata": {
        "id": "VTgHbZQNQMiN"
      }
    },
    {
      "cell_type": "markdown",
      "source": [
        "### **6. Describe the five types of inheritance in Python. Provide a simple example of multiple inheritance.**"
      ],
      "metadata": {
        "id": "DWW8001fQSu5"
      }
    },
    {
      "cell_type": "markdown",
      "source": [
        "Types of Inheritance in Python\n",
        "\n",
        "1. **Single Inheritance**  \n",
        "   - Involves a single parent class and a single child class. The child class inherits the properties and behaviors of the parent class.\n",
        "\n",
        "2. **Multiple Inheritance**  \n",
        "   - A child class inherits from more than one parent class, combining functionalities from all parent classes.\n",
        "\n",
        "3. **Multilevel Inheritance**  \n",
        "   - Involves a chain of inheritance where a class inherits from a parent class, and another class inherits from this derived class.\n",
        "\n",
        "4. **Hierarchical Inheritance**  \n",
        "   - Multiple child classes inherit from a single parent class, allowing shared functionality across different derived classes.\n",
        "\n",
        "5. **Hybrid Inheritance**  \n",
        "   - A combination of two or more types of inheritance, forming a complex structure that may involve single, multiple, or hierarchical inheritance."
      ],
      "metadata": {
        "id": "MyKDi_-WQZf_"
      }
    },
    {
      "cell_type": "markdown",
      "source": [
        "**Example of multiple Inheritance:**\n",
        "\n"
      ],
      "metadata": {
        "id": "azl0p2P_QmSL"
      }
    },
    {
      "cell_type": "code",
      "source": [
        "class Parent1:\n",
        "    def function1(self):\n",
        "        print(\"Functionality from Parent1\")\n",
        "\n",
        "class Parent2:\n",
        "    def function2(self):\n",
        "        print(\"Functionality from Parent2\")\n",
        "\n",
        "class Child(Parent1, Parent2):\n",
        "    def function3(self):\n",
        "        print(\"Functionality from Child\")\n",
        "\n",
        "#Demonstration\n",
        "obj = Child()\n",
        "obj.function1()\n",
        "obj.function2()\n",
        "obj.function3()"
      ],
      "metadata": {
        "colab": {
          "base_uri": "https://localhost:8080/"
        },
        "id": "BP_sLOXlPxe4",
        "outputId": "d916da84-94db-45cd-fb43-bc67fde117d3"
      },
      "execution_count": 17,
      "outputs": [
        {
          "output_type": "stream",
          "name": "stdout",
          "text": [
            "Functionality from Parent1\n",
            "Functionality from Parent2\n",
            "Functionality from Child\n"
          ]
        }
      ]
    },
    {
      "cell_type": "markdown",
      "source": [
        "### **Question 7. What is the Method Resolution Order (MRO) in Python? How can you retrieve it programmatically?**\n"
      ],
      "metadata": {
        "id": "QArkk9q1RADq"
      }
    },
    {
      "cell_type": "markdown",
      "source": [
        "The **Method Resolution Order (MRO)** is the order in which Python looks for a method or attribute in a class hierarchy. It determines the sequence in which classes are checked when a method is called on an object.\n",
        "\n",
        "- MRO is especially important in cases of **multiple inheritance** to avoid confusion and ensure the correct method is used.  \n",
        "- Python uses the **C3 Linearization** algorithm to calculate the MRO, ensuring consistency and predictability.\n",
        "\n",
        "\n",
        "\n",
        "**How to Retrieve MRO Programmatically?**\n",
        "\n",
        "You can retrieve the MRO for a class in two ways:\n",
        "\n",
        "**1. Using the __mro__ attribute:**"
      ],
      "metadata": {
        "id": "o4KgCFGrSW27"
      }
    },
    {
      "cell_type": "code",
      "source": [
        "ClassName = Child\n",
        "ClassName.__mro__"
      ],
      "metadata": {
        "colab": {
          "base_uri": "https://localhost:8080/"
        },
        "id": "J5ERIk5eQs4e",
        "outputId": "663f6124-c8b5-40ee-8c1c-88e48578cb06"
      },
      "execution_count": 18,
      "outputs": [
        {
          "output_type": "execute_result",
          "data": {
            "text/plain": [
              "(__main__.Child, __main__.Parent1, __main__.Parent2, object)"
            ]
          },
          "metadata": {},
          "execution_count": 18
        }
      ]
    },
    {
      "cell_type": "markdown",
      "source": [
        "**2. Using the mro() method:**"
      ],
      "metadata": {
        "id": "W6bZpVUFSiFA"
      }
    },
    {
      "cell_type": "code",
      "source": [
        "ClassName = type('ClassName', (), {})\n",
        "ClassName.mro()"
      ],
      "metadata": {
        "colab": {
          "base_uri": "https://localhost:8080/"
        },
        "id": "mYfVyzCKSdaG",
        "outputId": "f8ed6981-f259-4a61-eab1-3372470f38f8"
      },
      "execution_count": 19,
      "outputs": [
        {
          "output_type": "execute_result",
          "data": {
            "text/plain": [
              "[__main__.ClassName, object]"
            ]
          },
          "metadata": {},
          "execution_count": 19
        }
      ]
    },
    {
      "cell_type": "markdown",
      "source": [
        "Both will return a list (or tuple) showing the order of classes Python will follow to resolve methods."
      ],
      "metadata": {
        "id": "H5MJpoNkSqXL"
      }
    },
    {
      "cell_type": "markdown",
      "source": [
        "### **Question 8. Create an abstract base class 'Shape' with an abstract method 'area()'. Then create two subclasses 'Circle' and 'Rectange' that implement the 'area()' method.**"
      ],
      "metadata": {
        "id": "B1pW5gXxS5Qi"
      }
    },
    {
      "cell_type": "markdown",
      "source": [
        "**Explanation in Simple Terms:**\n",
        "\n",
        "1. **Abstract Base Class (ABC)**:\n",
        "   - A class that cannot be directly instantiated (you cannot create objects of it).\n",
        "   - Contains at least one abstract method (a method with no implementation, just a declaration).\n",
        "   - We use the 'abc' module to define an abstract class.\n",
        "\n",
        "2. **Subclasses**:\n",
        "   - Subclasses inherit from the abstract class.\n",
        "   - They must provide an implementation for all abstract methods of the parent class.\n",
        "\n",
        "\n",
        "##How It Works:\n",
        "1. The 'Shape' class is an abstract class with an abstract method 'area()'.\n",
        "2. The 'circle' and 'Rectangle' subclasses inherit from 'shape' and provide their own implementation of the 'area()' method.\n",
        "3. When you create objects of 'Circle' or 'Rectange', you can call their 'area()' methods to get the area."
      ],
      "metadata": {
        "id": "KEN6FcnNTttI"
      }
    },
    {
      "cell_type": "code",
      "source": [
        "from abc import ABC, abstractmethod\n",
        "\n",
        "#Abstract Base Class\n",
        "class Shape(ABC):\n",
        "    @abstractmethod\n",
        "    def area(self):\n",
        "        pass  #Abstract method, no implementation\n",
        "\n",
        "#Subclass 1: Circle\n",
        "class Circle(Shape):\n",
        "    def __init__(self, radius):\n",
        "        self.radius = radius\n",
        "\n",
        "    def area(self):\n",
        "        return 3.14 * self.radius * self.radius\n",
        "\n",
        "#Subclass 2: Rectangle\n",
        "class Rectangle(Shape):\n",
        "    def __init__(self, width, height):\n",
        "        self.width = width\n",
        "        self.height = height\n",
        "\n",
        "    def area(self):\n",
        "        return self.width * self.height\n",
        "\n",
        "#Example usage\n",
        "circle = Circle(radius=5)\n",
        "print(\"Circle Area:\", circle.area())\n",
        "\n",
        "rectangle = Rectangle(width=4, height=6)\n",
        "print(\"Rectangle Area:\", rectangle.area())"
      ],
      "metadata": {
        "colab": {
          "base_uri": "https://localhost:8080/"
        },
        "id": "8BfYQPtgSm7P",
        "outputId": "12710d03-4e78-4458-88f8-43d689597db3"
      },
      "execution_count": 20,
      "outputs": [
        {
          "output_type": "stream",
          "name": "stdout",
          "text": [
            "Circle Area: 78.5\n",
            "Rectangle Area: 24\n"
          ]
        }
      ]
    },
    {
      "cell_type": "markdown",
      "source": [
        "### **9. Demonstrate polymorphism by creating a function that can work with different shape objects to calculate and print their areas.**"
      ],
      "metadata": {
        "id": "ZchOjVBGU8l7"
      }
    },
    {
      "cell_type": "markdown",
      "source": [
        "**Polymorphism** means using a single function or method to work with objects of different types. In this example, we’ll create a function that works with any shape object (like a Circle or Rectangle) to calculate and print its area."
      ],
      "metadata": {
        "id": "SngPTx4HVCIO"
      }
    },
    {
      "cell_type": "code",
      "source": [
        "from abc import ABC, abstractmethod\n",
        "\n",
        "#Abstract Base Class\n",
        "class Shape(ABC):\n",
        "    @abstractmethod\n",
        "    def area(self):\n",
        "        pass\n",
        "\n",
        "#Subclass 1: Circle\n",
        "class Circle(Shape):\n",
        "    def __init__(self, radius):\n",
        "        self.radius = radius\n",
        "\n",
        "    def area(self):\n",
        "        return 3.14 * self.radius * self.radius\n",
        "\n",
        "#Subclass 2: Rectangle\n",
        "class Rectangle(Shape):\n",
        "    def __init__(self, width, height):\n",
        "        self.width = width\n",
        "        self.height = height\n",
        "\n",
        "    def area(self):\n",
        "        return self.width * self.height\n",
        "\n",
        "#Polymorphic Function\n",
        "def print_area(shape):\n",
        "    print(\"The area is:\", shape.area())\n",
        "\n",
        "#Example usage\n",
        "circle = Circle(radius=5)\n",
        "rectangle = Rectangle(width=4, height=6)\n",
        "\n",
        "#Calling the function with different shape objects\n",
        "print_area(circle)       #Works with Circle\n",
        "print_area(rectangle)    #Works with Rectangle"
      ],
      "metadata": {
        "colab": {
          "base_uri": "https://localhost:8080/"
        },
        "id": "PIUMd-MzUzTS",
        "outputId": "8a749f3e-98e7-4387-ef11-d6778fafd6c1"
      },
      "execution_count": 21,
      "outputs": [
        {
          "output_type": "stream",
          "name": "stdout",
          "text": [
            "The area is: 78.5\n",
            "The area is: 24\n"
          ]
        }
      ]
    },
    {
      "cell_type": "markdown",
      "source": [
        "**How It Works:**\n",
        "\n",
        "The Shape class defines the abstract method area(), ensuring all shapes implement it.\n",
        "\n",
        "Circle and Rectangle are subclasses of Shape and provide their own area() method.\n",
        "\n",
        "The print_area() function takes any Shape object and calls its area() method.\n",
        "\n",
        "When passed a Circle, it calculates the circle's area.\n",
        "\n",
        "When passed a Rectangle, it calculates the rectangle's area.\n",
        "\n",
        "This is polymorphism in action: the same function works with different object types seamlessly!"
      ],
      "metadata": {
        "id": "C33oh6UzVWhX"
      }
    },
    {
      "cell_type": "markdown",
      "source": [
        "### **Question 10. Implement encapsulation in a Bank Account class with private attributes for balance and account number`. Include methods for deposit, withdrawal, and balance inquiry.**"
      ],
      "metadata": {
        "id": "CSgKHZoHViOF"
      }
    },
    {
      "cell_type": "markdown",
      "source": [
        "**Encapsulation** is the concept of hiding the internal details of a class and controlling access to its data through methods. In Python, you can make attributes private by adding a double underscore (__) before their names.\n",
        "\n",
        "\n",
        "Here’s how to implement encapsulation in a BankAccount class:"
      ],
      "metadata": {
        "id": "1vEjFiF4V8hA"
      }
    },
    {
      "cell_type": "code",
      "source": [
        "class BankAccount:\n",
        "    def __init__(self, account_number, initial_balance=0):\n",
        "        self.__account_number = account_number  #Private attribute\n",
        "        self.__balance = initial_balance       #Private attribute\n",
        "\n",
        "    def deposit(self, amount):\n",
        "        if amount > 0:\n",
        "            self.__balance += amount\n",
        "            print(f\"Deposited: {amount}\")\n",
        "        else:\n",
        "            print(\"Invalid deposit amount\")\n",
        "\n",
        "    def withdraw(self, amount):\n",
        "        if 0 < amount <= self.__balance:\n",
        "            self.__balance -= amount\n",
        "            print(f\"Withdrawn: {amount}\")\n",
        "        else:\n",
        "            print(\"Insufficient balance or invalid amount\")\n",
        "\n",
        "    def check_balance(self):\n",
        "        print(f\"Account Number: {self.__account_number}\")\n",
        "        print(f\"Balance: {self.__balance}\")\n",
        "\n",
        "#Example\n",
        "account = BankAccount(account_number=\"1107854989\", initial_balance=3000)\n",
        "\n",
        "account.check_balance()  #Check initial balance\n",
        "account.deposit(2000)    #Deposit money\n",
        "account.withdraw(1000)   #Withdraw money\n",
        "account.check_balance()  #Check updated balance"
      ],
      "metadata": {
        "colab": {
          "base_uri": "https://localhost:8080/"
        },
        "id": "1RIF9b6NVSDF",
        "outputId": "0df67645-2971-44c0-8637-fdbf52d90c4f"
      },
      "execution_count": 23,
      "outputs": [
        {
          "output_type": "stream",
          "name": "stdout",
          "text": [
            "Account Number: 1107854989\n",
            "Balance: 3000\n",
            "Deposited: 2000\n",
            "Withdrawn: 1000\n",
            "Account Number: 1107854989\n",
            "Balance: 4000\n"
          ]
        }
      ]
    },
    {
      "cell_type": "markdown",
      "source": [
        "### **How It Works:**\n",
        "\n",
        "**Private Attributes:**\n",
        "\n",
        "__account_number and __balance are private, meaning they can only be accessed within the class.\n",
        "\n",
        "**Controlled Access:**\n",
        "\n",
        "Methods like deposit(), withdraw(), and check_balance() provide controlled ways to interact with private attributes.\n",
        "\n",
        "**Encapsulation in Action:**\n",
        "\n",
        "You cannot directly modify __balance or __account_number from outside the class.\n",
        "This protects the data and ensures only valid operations are performed."
      ],
      "metadata": {
        "id": "f_2QjuADWYAS"
      }
    },
    {
      "cell_type": "markdown",
      "source": [
        "### **Question 11. Write a class that overrides the __str__ and __add__ magic methods. What will these methods allow you to do?**"
      ],
      "metadata": {
        "id": "MJ4iATRWWccx"
      }
    },
    {
      "cell_type": "markdown",
      "source": [
        "In Python, magic methods (also called dunder methods) let you define special behavior for your class. By overriding these methods, you can customize how objects of your class behave.\n",
        "\n",
        "**__str__ Method:**\n",
        "\n",
        "Controls what gets printed when you use print() or str() on an object.\n",
        "You can make objects display meaningful information instead of the default memory address.\n",
        "\n",
        "**__add__ Method:**\n",
        "\n",
        "Allows you to define how the + operator works between objects of your class.\n",
        "You can customize addition for your objects."
      ],
      "metadata": {
        "id": "N9STZXweWmds"
      }
    },
    {
      "cell_type": "code",
      "source": [
        "class CustomNumber:\n",
        "    def __init__(self, value):\n",
        "        self.value = value\n",
        "\n",
        "    #Override __str__ to customize string representation\n",
        "    def __str__(self):\n",
        "        return f\"CustomNumber({self.value})\"\n",
        "\n",
        "    #Override __add__ to define custom addition\n",
        "    def __add__(self, other):\n",
        "        if isinstance(other, CustomNumber):\n",
        "            return CustomNumber(self.value + other.value)\n",
        "        return NotImplemented\n",
        "\n",
        "#Example usage\n",
        "num1 = CustomNumber(10)\n",
        "num2 = CustomNumber(20)\n",
        "\n",
        "print(num1)  #Calls __str__, prints: CustomNumber(10)\n",
        "print(num2)  #Calls __str__, prints: CustomNumber(20)\n",
        "\n",
        "#Adding objects\n",
        "result = num1 + num2  #Calls __add__\n",
        "print(result)         #Prints: CustomNumber(30)"
      ],
      "metadata": {
        "colab": {
          "base_uri": "https://localhost:8080/"
        },
        "id": "BOGQBV6XWE_8",
        "outputId": "698e6fc5-f7ea-4c4a-f58a-4f98022333b6"
      },
      "execution_count": 24,
      "outputs": [
        {
          "output_type": "stream",
          "name": "stdout",
          "text": [
            "CustomNumber(10)\n",
            "CustomNumber(20)\n",
            "CustomNumber(30)\n"
          ]
        }
      ]
    },
    {
      "cell_type": "markdown",
      "source": [
        "**What These Methods Allow You to Do:**\n",
        "\n",
        "__str__:\n",
        "\n",
        "Makes your objects more readable and user-friendly when printed.\n",
        "Instead of <__main__.CustomNumber object at 0x...>, you see something meaningful like CustomNumber(10).\n",
        "\n",
        "__add__:\n",
        "\n",
        "Lets you use the + operator with objects of your class.\n",
        "For example, adding two CustomNumber objects directly combines their values into a new object."
      ],
      "metadata": {
        "id": "uLKNI96sW25R"
      }
    },
    {
      "cell_type": "markdown",
      "source": [
        "### **Question 12. Create a decorator that measures and prints the execution time of a function.**"
      ],
      "metadata": {
        "id": "Qd8LR3xPW8oK"
      }
    },
    {
      "cell_type": "markdown",
      "source": [
        "A **decorator** is a special function that you can use to add extra functionality to another function, without changing the original function. Here, we'll create a decorator to measure how long a function takes to run."
      ],
      "metadata": {
        "id": "yHUq1Ek3XCfm"
      }
    },
    {
      "cell_type": "code",
      "source": [
        "import time\n",
        "\n",
        "#The decorator\n",
        "def measure_execution_time(func):\n",
        "    def wrapper(*args, **kwargs):\n",
        "        start_time = time.time()  #Record start time\n",
        "        result = func(*args, **kwargs)  #Call the original function\n",
        "        end_time = time.time()  #Record end time\n",
        "        execution_time = end_time - start_time\n",
        "        print(f\"Function '{func.__name__}' executed in {execution_time:.4f} seconds\")\n",
        "        return result  #Return the result of the original function\n",
        "    return wrapper\n",
        "\n",
        "#Using the decorator\n",
        "@measure_execution_time\n",
        "def sample_function():\n",
        "    time.sleep(2)  #Simulate a delay\n",
        "    print(\"Function is running\")\n",
        "\n",
        "#Example usage\n",
        "sample_function()"
      ],
      "metadata": {
        "colab": {
          "base_uri": "https://localhost:8080/"
        },
        "id": "OMWZXPzrWxO9",
        "outputId": "9d25df08-054c-4e87-be0a-b23b76dfc0a6"
      },
      "execution_count": 25,
      "outputs": [
        {
          "output_type": "stream",
          "name": "stdout",
          "text": [
            "Function is running\n",
            "Function 'sample_function' executed in 2.0018 seconds\n"
          ]
        }
      ]
    },
    {
      "cell_type": "markdown",
      "source": [
        "**How It Works:**\n",
        "\n",
        "**The Decorator Function:**\n",
        "\n",
        "measure_execution_time is a decorator that takes a function as input.\n",
        "Inside, it defines a wrapper function that measures the time before and after the original function runs.\n",
        "\n",
        "**Using the Decorator:**\n",
        "\n",
        "The @measure_execution_time line applies the decorator to sample_function.\n",
        "\n",
        "**What Happens:**\n",
        "\n",
        "When sample_function() is called, the decorator measures how long it takes to run and prints the time."
      ],
      "metadata": {
        "id": "IYMkcu_2XUTC"
      }
    },
    {
      "cell_type": "markdown",
      "source": [
        "### **13. Explain the concept of the Diamond Problem in multiple inheritance. How does Python resolve it ?**"
      ],
      "metadata": {
        "id": "WmGaBt6HXfaA"
      }
    },
    {
      "cell_type": "markdown",
      "source": [
        "The **Diamond Problem** happens in multiple inheritance when a class inherits from two parent classes that have a common ancestor. This creates a \"diamond-shaped\" inheritance structure. The issue is which method or attribute should the child class use if the same method or attribute exists in the common ancestor.\n",
        "\n",
        "**Diamond Problem Example:**\n",
        "Imagine this structure:\n",
        "\n",
        "ClassA is the top (common) ancestor.\n",
        "ClassB and ClassC inherit from ClassA.\n",
        "ClassD inherits from both ClassB and ClassC.\n",
        "The question:\n",
        "If ClassD calls a method that exists in ClassA, should it use the method from ClassB, ClassC, or directly from ClassA?\n",
        "\n",
        "**How Python Resolves It:**\n",
        "\n",
        "Python resolves the Diamond Problem using Method Resolution Order (MRO) and the C3 Linearization Algorithm:\n",
        "\n",
        "1. MRO creates a consistent order in which Python looks for methods in the inheritance hierarchy.\n",
        "\n",
        "2. he child class (ClassD) will first check:\n",
        "Its own methods.\n",
        "Then the methods of ClassB.\n",
        "Then the methods of ClassC.\n",
        "Finally, the methods of ClassA.\n",
        "\n",
        "\n",
        "###**Example in Python:**"
      ],
      "metadata": {
        "id": "-IWPCXc4Xngo"
      }
    },
    {
      "cell_type": "code",
      "source": [
        "class A:\n",
        "    def show(self):\n",
        "        print(\"Method from ClassA\")\n",
        "\n",
        "class B(A):\n",
        "    def show(self):\n",
        "        print(\"Method from ClassB\")\n",
        "\n",
        "class C(A):\n",
        "    def show(self):\n",
        "        print(\"Method from ClassC\")\n",
        "\n",
        "class D(B, C):  #Multiple inheritance\n",
        "    pass\n",
        "\n",
        "#Example usage\n",
        "obj = D()\n",
        "obj.show()  #Resolves based on MRO\n",
        "print(D.mro())  #Prints the method resolution order"
      ],
      "metadata": {
        "colab": {
          "base_uri": "https://localhost:8080/"
        },
        "id": "F9wGle8fXPfu",
        "outputId": "f53d45be-b08c-4ab3-c24c-1ab14ee4b3ab"
      },
      "execution_count": 26,
      "outputs": [
        {
          "output_type": "stream",
          "name": "stdout",
          "text": [
            "Method from ClassB\n",
            "[<class '__main__.D'>, <class '__main__.B'>, <class '__main__.C'>, <class '__main__.A'>, <class 'object'>]\n"
          ]
        }
      ]
    },
    {
      "cell_type": "markdown",
      "source": [
        "### **14. Write a class method that keeps track of the number of instances created from a class.**"
      ],
      "metadata": {
        "id": "Xo61w80zX9-S"
      }
    },
    {
      "cell_type": "markdown",
      "source": [
        "**Explanation in Simple Terms:**\n",
        "\n",
        "A **class method** works with the class itself, not individual objects (instances). You can use it to keep track of how many objects have been created from a class.\n",
        "\n",
        "### **How It Works:**\n",
        "\n",
        "**1. Class Variable**:\n",
        "   - 'instance_count' is a class variable shared by all objects of the class.\n",
        "   - It starts at '0'.\n",
        "\n",
        "**2. Incrementing Count**:\n",
        "   - The`__init__` method runs whenever a new object is created.\n",
        "   - Each time, it increases 'instance_count' by '1'.\n",
        "\n",
        "**3. Class Method**:\n",
        "   - The 'get_intance_count' method is a class method.\n",
        "   - It uses '@classmethod' and takes 'cls' (the class itself) as a parameter.\n",
        "   - It returns the current value of 'instance_count'.\n",
        "\n",
        "**4. Usage**:\n",
        "   - Every time you create a new object, the count goes up.\n",
        "   - You can check the total count by calling 'get_instance_count'."
      ],
      "metadata": {
        "id": "Vax2BsQ5YLhW"
      }
    },
    {
      "cell_type": "code",
      "source": [
        "class MyClass:\n",
        "    instance_count = 0  #Class-level variable to track instances\n",
        "\n",
        "    def __init__(self):\n",
        "        MyClass.instance_count += 1  #Increase count whenever an object is created\n",
        "\n",
        "    @classmethod\n",
        "    def get_instance_count(cls):\n",
        "        return cls.instance_count  #Access the class variable\n",
        "\n",
        "#Example usage\n",
        "obj1 = MyClass()  #First instance\n",
        "obj2 = MyClass()  #Second instance\n",
        "obj3 = MyClass()  #Third instance\n",
        "\n",
        "print(MyClass.get_instance_count())"
      ],
      "metadata": {
        "colab": {
          "base_uri": "https://localhost:8080/"
        },
        "id": "ZgA44gwEXveW",
        "outputId": "562cf897-b1e6-4bab-a7a0-17bf74cef5be"
      },
      "execution_count": 27,
      "outputs": [
        {
          "output_type": "stream",
          "name": "stdout",
          "text": [
            "3\n"
          ]
        }
      ]
    },
    {
      "cell_type": "markdown",
      "source": [
        "### **Question 15. Implement a static method in a class that checks if a given year is a leap year.**"
      ],
      "metadata": {
        "id": "5e-gVr2lZtCM"
      }
    },
    {
      "cell_type": "markdown",
      "source": [
        "A **static method** is a method that doesn’t depend on the class or its objects. It doesn’t use 'self' (for objects) or 'cls' (for the class). You can call it directly from the class without creating an object.\n",
        "\n",
        "Here, we’ll create a static method to check if a given year is a leap year.\n",
        "\n",
        "### **How It Works:**\n",
        "\n",
        "1. **Static Method**:\n",
        "   - '@staticmethod' is used to define the method.\n",
        "   - It doesn’t use 'self' or 'cls' because it works independently of the class or its instances.\n",
        "\n",
        "2. **Leap Year Logic**:\n",
        "   - A year is a leap year if:\n",
        "     - It is divisible by 4 **and** not divisible by 100.  \n",
        "     - Or, it is divisible by 400.\n",
        "\n",
        "3. **Usage**:\n",
        "   - You can call 'is_leap_year' directly from the class without creating an object.\n",
        "\n",
        "4. **Output**:\n",
        "   - For 2024: 'True' because it’s a leap year.\n",
        "   - For 2023: 'False' because it’s not a leap year."
      ],
      "metadata": {
        "id": "4L0kBJw1Z09g"
      }
    },
    {
      "cell_type": "code",
      "source": [
        "class YearChecker:\n",
        "    @staticmethod\n",
        "    def is_leap_year(year):\n",
        "        if (year % 4 == 0 and year % 100 != 0) or (year % 400 == 0):\n",
        "            return True\n",
        "        return False\n",
        "\n",
        "# Example usage\n",
        "print(YearChecker.is_leap_year(2024))\n",
        "print(YearChecker.is_leap_year(2023))"
      ],
      "metadata": {
        "colab": {
          "base_uri": "https://localhost:8080/"
        },
        "id": "SWrDaw7nZpL4",
        "outputId": "43b69215-3e5b-4c2a-bdc2-a1829aca04ac"
      },
      "execution_count": 28,
      "outputs": [
        {
          "output_type": "stream",
          "name": "stdout",
          "text": [
            "True\n",
            "False\n"
          ]
        }
      ]
    }
  ]
}