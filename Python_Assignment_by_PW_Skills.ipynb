{
  "nbformat": 4,
  "nbformat_minor": 0,
  "metadata": {
    "colab": {
      "provenance": []
    },
    "kernelspec": {
      "name": "python3",
      "display_name": "Python 3"
    },
    "language_info": {
      "name": "python"
    }
  },
  "cells": [
    {
      "cell_type": "markdown",
      "source": [
        "# **PYTHON_BASICS_ASSIGNMENT**"
      ],
      "metadata": {
        "id": "WW1ooQn7-oxM"
      }
    },
    {
      "cell_type": "markdown",
      "source": [
        "#Q1. Explain the key features of Python that make it a popular choice for programming.\n",
        "**Answer:** Python is popular because it is ideal for beginners and experts alike and lets you do a lot with simple, readable code and works well for a wide variety of tasks.\n",
        "There are several key reasons that makes python a popular choice for programing:\n",
        "\n",
        "**Easy to read & write:** Python has a clear and straight forward  syntax which means it is easy to read and understand even for the beginners, also it uses less code which means we can do a lot with fewest lines of code that can help writing and maintaining programs faster and simpler.\n",
        "\n",
        "**Big library:** Python has a large set of inbuilt tools that help with many common tasks, like working with files, data manipulation or connecting to the internet. Which means we don't need to write everything from scratch.\n",
        "\n",
        "**Dynamic typing:** we don’t have to tell Python what type of data we are using (integers, syntax, float, etc.). Python figures it out on its own, which makes coding faster and easier.\n",
        "\n",
        "**Interpreted language:** Python is an interpreted language, which means it runs code line-by-line. This makes it easier to test small pieces of code and fix mistakes right away.\n",
        "\n",
        "**Supports Different Programming Styles:** Python lets us use different programming approaches. We can write code in object-oriented means working with objects and classes or functional (using functions and expressions) styles, depending on what fits best for our task.\n",
        "\n",
        "**Huge Community and Lots of Resources:** Python has a large, active community that creates and shares libraries (collections of reusable code) and helps each other out. There are also many tutorials, forums, and resources available online. Python also includes tools that help developers find and fix bugs in their code, making it easier to write reliable programs.\n",
        "\n",
        "**Versatility:** Python is used for a variety of tasks like web development, data analysis and machine learning, automation, game development and many more."
      ],
      "metadata": {
        "id": "fIHX0fsEqADn"
      }
    },
    {
      "cell_type": "markdown",
      "source": [
        "#Q2. Describe the role of predefined keywords in Python and   provide examples of how they are used in a program.\n",
        "**Answer:** In python the words that hold a special meaning which are used for a specific purpose and cannot be used as variable names, function names, or identifiers in your codes are simply said as predefined keywords.\n",
        "\n",
        "Role of keywords is to serve as the building blocks of the language's syntax. Each keyword has a specific role that helps structure the flow of the program, manage data, handle errors, and organise code in a way that Python can execute correctly.\n"
      ],
      "metadata": {
        "id": "wmG4kHDIr6tt"
      }
    },
    {
      "cell_type": "code",
      "source": [
        "#example 1\n",
        "name = \"travis\"\n",
        "print(name)"
      ],
      "metadata": {
        "colab": {
          "base_uri": "https://localhost:8080/"
        },
        "id": "ePiirgvUsUZR",
        "outputId": "fccde63b-969f-4183-d2fe-334b29ae3acc"
      },
      "execution_count": 1,
      "outputs": [
        {
          "output_type": "stream",
          "name": "stdout",
          "text": [
            "travis\n"
          ]
        }
      ]
    },
    {
      "cell_type": "code",
      "source": [
        "#example 2\n",
        "age = 27\n",
        "print(age)"
      ],
      "metadata": {
        "colab": {
          "base_uri": "https://localhost:8080/"
        },
        "id": "8L2RGU_ssXoq",
        "outputId": "4575006c-310a-4027-9520-45640e75fe71"
      },
      "execution_count": 2,
      "outputs": [
        {
          "output_type": "stream",
          "name": "stdout",
          "text": [
            "27\n"
          ]
        }
      ]
    },
    {
      "cell_type": "markdown",
      "source": [
        "#Q3. Compare and contrast mutable and immutable objects in Python with examples.\n",
        "**Answer:** In Python, objects are classified into two categories “mutable and immutable objects” based on whether their values can be modified after creation or not.\n",
        "\n",
        "**Mutable objects:** Mutable objects are those whose value can be modified after they are created. Which means we can change the contents of the object without creating a new one.\n",
        "Common Mutable Types are Lists, Dictionaries, Sets.\n"
      ],
      "metadata": {
        "id": "32WIOGm_tkkR"
      }
    },
    {
      "cell_type": "code",
      "source": [
        "#example_1\n",
        "#list\n",
        "list = [1, 2, 3, 4, 5]\n",
        "list[2]= 'n'\n",
        "list\n"
      ],
      "metadata": {
        "colab": {
          "base_uri": "https://localhost:8080/"
        },
        "id": "dI52s6hfuC4_",
        "outputId": "6389b345-0fe9-4ba5-8293-007c1fc389bb"
      },
      "execution_count": 5,
      "outputs": [
        {
          "output_type": "execute_result",
          "data": {
            "text/plain": [
              "[1, 2, 'n', 4, 5]"
            ]
          },
          "metadata": {},
          "execution_count": 5
        }
      ]
    },
    {
      "cell_type": "code",
      "source": [
        "#example_2\n",
        "#dictionary\n",
        "dict = {\"name\" : \"ashar\", \"age\" : 27, \"city\" : \"patna\"}\n",
        "dict[\"city\"] = \"delhi\"\n",
        "dict"
      ],
      "metadata": {
        "colab": {
          "base_uri": "https://localhost:8080/"
        },
        "id": "q0pQ5_yTuJuw",
        "outputId": "a4cd8bdc-0f4f-4c48-a6b3-261091acf05e"
      },
      "execution_count": 8,
      "outputs": [
        {
          "output_type": "execute_result",
          "data": {
            "text/plain": [
              "{'name': 'ashar', 'age': 27, 'city': 'delhi'}"
            ]
          },
          "metadata": {},
          "execution_count": 8
        }
      ]
    },
    {
      "cell_type": "code",
      "source": [
        "#example_3\n",
        "#set\n",
        "set = {\"a\", \"b\", \"c\"}\n",
        "set.add(\"d\")\n",
        "set\n"
      ],
      "metadata": {
        "colab": {
          "base_uri": "https://localhost:8080/"
        },
        "id": "oOb39m6_ukCV",
        "outputId": "96d8946b-d17e-453e-b3ea-3b76b6c1f4b1"
      },
      "execution_count": 9,
      "outputs": [
        {
          "output_type": "execute_result",
          "data": {
            "text/plain": [
              "{'a', 'b', 'c', 'd'}"
            ]
          },
          "metadata": {},
          "execution_count": 9
        }
      ]
    },
    {
      "cell_type": "markdown",
      "source": [
        "**Immutable objects:** Immutable objects are those whose value cannot be changed after they are created. We cannot modify the value of an immutable object directly after it's created. Even if we try to change it, a new object will be created instead.\n",
        "\n",
        "Common immutable objects: Tuples, Strings, Integers, Floats, Frozensets.\n"
      ],
      "metadata": {
        "id": "jZV0IH3mvU1D"
      }
    },
    {
      "cell_type": "code",
      "source": [
        "x = \"data analytics\" #string\n",
        "x[3] = 'z' #it _will_show_an_error\n",
        "x"
      ],
      "metadata": {
        "colab": {
          "base_uri": "https://localhost:8080/",
          "height": 176
        },
        "id": "Nlmt-cm5wCQH",
        "outputId": "6153f61e-7a50-410e-e494-a005b45ef055"
      },
      "execution_count": 10,
      "outputs": [
        {
          "output_type": "error",
          "ename": "TypeError",
          "evalue": "'str' object does not support item assignment",
          "traceback": [
            "\u001b[0;31m---------------------------------------------------------------------------\u001b[0m",
            "\u001b[0;31mTypeError\u001b[0m                                 Traceback (most recent call last)",
            "\u001b[0;32m<ipython-input-10-04f1912fe0d1>\u001b[0m in \u001b[0;36m<cell line: 2>\u001b[0;34m()\u001b[0m\n\u001b[1;32m      1\u001b[0m \u001b[0mx\u001b[0m \u001b[0;34m=\u001b[0m \u001b[0;34m\"data analytics\"\u001b[0m\u001b[0;34m\u001b[0m\u001b[0;34m\u001b[0m\u001b[0m\n\u001b[0;32m----> 2\u001b[0;31m \u001b[0mx\u001b[0m\u001b[0;34m[\u001b[0m\u001b[0;36m3\u001b[0m\u001b[0;34m]\u001b[0m \u001b[0;34m=\u001b[0m \u001b[0;34m'z'\u001b[0m\u001b[0;34m\u001b[0m\u001b[0;34m\u001b[0m\u001b[0m\n\u001b[0m\u001b[1;32m      3\u001b[0m \u001b[0mx\u001b[0m\u001b[0;34m\u001b[0m\u001b[0;34m\u001b[0m\u001b[0m\n",
            "\u001b[0;31mTypeError\u001b[0m: 'str' object does not support item assignment"
          ]
        }
      ]
    },
    {
      "cell_type": "markdown",
      "source": [
        "#Q4. Discuss the different types of operators in Python and provide examples of how they are used.\n",
        "**Answer:** Python operators are symbols that perform operations on variables and values. Python has a rich set of operators for different tasks like arithmetic, comparison, logical, assignment, membership, identity, and  bitwise operators.\n",
        "\n",
        "**1. Arithmetic operators** are used to perform basic mathematical operations like\n",
        "addition, subtraction, multiplication, etc."
      ],
      "metadata": {
        "id": "xjhqbsJmw922"
      }
    },
    {
      "cell_type": "code",
      "source": [
        "#example of Python Arithmetic Operators\n",
        "a = 5\n",
        "b = 3\n",
        "# Addition\n",
        "print(a + b)"
      ],
      "metadata": {
        "colab": {
          "base_uri": "https://localhost:8080/"
        },
        "id": "Z-4Z4oHpxXfj",
        "outputId": "bdb26f38-636d-454e-e9de-ba862dc785f5"
      },
      "execution_count": 16,
      "outputs": [
        {
          "output_type": "stream",
          "name": "stdout",
          "text": [
            "8\n"
          ]
        }
      ]
    },
    {
      "cell_type": "code",
      "source": [
        "# Subtraction\n",
        "print(a - b)"
      ],
      "metadata": {
        "colab": {
          "base_uri": "https://localhost:8080/"
        },
        "id": "f8mFvsKsxfK1",
        "outputId": "74b8c696-33f7-4169-bb0d-57d18bc6d0ea"
      },
      "execution_count": 14,
      "outputs": [
        {
          "output_type": "stream",
          "name": "stdout",
          "text": [
            "2\n"
          ]
        }
      ]
    },
    {
      "cell_type": "code",
      "source": [
        "\n",
        "# Multiplication\n",
        "print(a * b)"
      ],
      "metadata": {
        "colab": {
          "base_uri": "https://localhost:8080/"
        },
        "id": "CrJzYeNgxjW6",
        "outputId": "b262ad07-82f6-4e01-dcc4-a260018bc400"
      },
      "execution_count": 15,
      "outputs": [
        {
          "output_type": "stream",
          "name": "stdout",
          "text": [
            "15\n"
          ]
        }
      ]
    },
    {
      "cell_type": "markdown",
      "source": [
        "**2. Comparison operators** are used to compare two values. They return \"True and False” based on whether the comparison is true or not."
      ],
      "metadata": {
        "id": "LFlsmK35x2Cd"
      }
    },
    {
      "cell_type": "code",
      "source": [
        "#example\n",
        "a = 5\n",
        "b = 3\n",
        "\n",
        "\n",
        "#(Equal to)\n",
        "print(a == b)"
      ],
      "metadata": {
        "colab": {
          "base_uri": "https://localhost:8080/"
        },
        "id": "-0lD3WvxzAtj",
        "outputId": "26da730a-4d0f-4e94-e597-47bea189eec2"
      },
      "execution_count": 18,
      "outputs": [
        {
          "output_type": "stream",
          "name": "stdout",
          "text": [
            "False\n"
          ]
        }
      ]
    },
    {
      "cell_type": "code",
      "source": [
        "#(Not equal to)\n",
        "print(a != b)\n",
        "# True\n"
      ],
      "metadata": {
        "colab": {
          "base_uri": "https://localhost:8080/"
        },
        "id": "-_NuffINzGLp",
        "outputId": "4b0dee35-e243-48d7-cbad-3e8b6c1dd62b"
      },
      "execution_count": 19,
      "outputs": [
        {
          "output_type": "stream",
          "name": "stdout",
          "text": [
            "True\n"
          ]
        }
      ]
    },
    {
      "cell_type": "code",
      "source": [
        "#(Greater than)\n",
        "print(a > b)"
      ],
      "metadata": {
        "colab": {
          "base_uri": "https://localhost:8080/"
        },
        "id": "GCvGSBJ4zWIh",
        "outputId": "2fb81381-6a79-445c-9925-2a52baf7283f"
      },
      "execution_count": 20,
      "outputs": [
        {
          "output_type": "stream",
          "name": "stdout",
          "text": [
            "True\n"
          ]
        }
      ]
    },
    {
      "cell_type": "code",
      "source": [
        "#(Less than)\n",
        "print(a < b)"
      ],
      "metadata": {
        "colab": {
          "base_uri": "https://localhost:8080/"
        },
        "id": "l4OxuyktzcHu",
        "outputId": "7df1078a-7645-460f-ee25-bed1cd9e5a71"
      },
      "execution_count": 21,
      "outputs": [
        {
          "output_type": "stream",
          "name": "stdout",
          "text": [
            "False\n"
          ]
        }
      ]
    },
    {
      "cell_type": "code",
      "source": [
        "#(Greater than or equal to)\n",
        "print(a >= b)\n"
      ],
      "metadata": {
        "colab": {
          "base_uri": "https://localhost:8080/"
        },
        "id": "DDLV-QHLzkJI",
        "outputId": "855bc07b-3e81-46f1-997f-0541a81e9ac1"
      },
      "execution_count": 22,
      "outputs": [
        {
          "output_type": "stream",
          "name": "stdout",
          "text": [
            "True\n"
          ]
        }
      ]
    },
    {
      "cell_type": "code",
      "source": [
        "#(Less than or equal to)\n",
        "print(a <= b)"
      ],
      "metadata": {
        "colab": {
          "base_uri": "https://localhost:8080/"
        },
        "id": "kmwkOHVjztSE",
        "outputId": "c19e7aec-5f77-4de9-ec79-451288e0f56d"
      },
      "execution_count": 23,
      "outputs": [
        {
          "output_type": "stream",
          "name": "stdout",
          "text": [
            "False\n"
          ]
        }
      ]
    },
    {
      "cell_type": "markdown",
      "source": [
        "**3. Logical operators** are used to combine conditional statements. They allow you to make decisions based on multiple conditions by using the (and, or, not) operator.\n",
        "     \n",
        " **And (Returns true if both statements are true)**\n"
      ],
      "metadata": {
        "id": "KXPFTsEf0Ho6"
      }
    },
    {
      "cell_type": "code",
      "source": [
        "#example\n",
        "x = 5\n",
        "y = 10\n",
        "if x > 3 and y < 15:\n",
        "  print(\"Both x and y are within the specified range\")"
      ],
      "metadata": {
        "colab": {
          "base_uri": "https://localhost:8080/"
        },
        "id": "7-dBX1440lxr",
        "outputId": "8749b9f5-bd18-4bcd-9159-44d6f790202c"
      },
      "execution_count": 24,
      "outputs": [
        {
          "output_type": "stream",
          "name": "stdout",
          "text": [
            "Both x and y are within the specified range\n"
          ]
        }
      ]
    },
    {
      "cell_type": "markdown",
      "source": [
        "**Or (Returns True if one of the statements is true)**"
      ],
      "metadata": {
        "id": "w2wu5Pi00uv5"
      }
    },
    {
      "cell_type": "code",
      "source": [
        "#example\n",
        "a = 5\n",
        "b = 10\n",
        "if a > 3 or b < 5:\n",
        "    print(\"At least one condition is True\")\n",
        "else:\n",
        "    print(\"Both conditions are False\")"
      ],
      "metadata": {
        "colab": {
          "base_uri": "https://localhost:8080/"
        },
        "id": "jnCOsd0102Hp",
        "outputId": "285f06dc-4cff-442f-a0ab-de28a43d88de"
      },
      "execution_count": 25,
      "outputs": [
        {
          "output_type": "stream",
          "name": "stdout",
          "text": [
            "At least one condition is True\n"
          ]
        }
      ]
    },
    {
      "cell_type": "markdown",
      "source": [
        "**Not (reverse the result, return false if the result is true)**"
      ],
      "metadata": {
        "id": "oIbxUVCY0-lF"
      }
    },
    {
      "cell_type": "code",
      "source": [
        "#example\n",
        "raining = False\n",
        "if not raining:\n",
        "    print(\"It's not raining. You can go outside\")\n",
        "else:\n",
        "    print(\"It is raining. Stay inside\")"
      ],
      "metadata": {
        "colab": {
          "base_uri": "https://localhost:8080/"
        },
        "id": "lerQKCxU1FRT",
        "outputId": "3d5b1449-37b4-4ea0-c75f-a9f064d4479e"
      },
      "execution_count": 26,
      "outputs": [
        {
          "output_type": "stream",
          "name": "stdout",
          "text": [
            "It's not raining. You can go outside\n"
          ]
        }
      ]
    },
    {
      "cell_type": "markdown",
      "source": [
        "**4. Assignment operators are used to assign values to variables, They combine the assignment operation (=) with another operation.**"
      ],
      "metadata": {
        "id": "FULcsZLR1w7Y"
      }
    },
    {
      "cell_type": "code",
      "source": [
        "#example\n",
        "x = 15\n",
        "print(x)"
      ],
      "metadata": {
        "colab": {
          "base_uri": "https://localhost:8080/"
        },
        "id": "0CIf9XqM16-Y",
        "outputId": "48c51177-40de-46f6-e2ef-6fcae63f70de"
      },
      "execution_count": 27,
      "outputs": [
        {
          "output_type": "stream",
          "name": "stdout",
          "text": [
            "15\n"
          ]
        }
      ]
    },
    {
      "cell_type": "markdown",
      "source": [
        "**5. Membership operators are used to test if a sequence is presented in an object like a list, tuple, string, or dictionary.**"
      ],
      "metadata": {
        "id": "2VALCdj-2I-z"
      }
    },
    {
      "cell_type": "code",
      "source": [
        "#example\n",
        "name_list = ['ashar', 'kumar', 'singh', 'khan']\n",
        "if 'khan' in name_list:\n",
        "    print(\"khan is in the list.\")\n",
        "else:\n",
        "    print(\"khan is not in the list.\")"
      ],
      "metadata": {
        "colab": {
          "base_uri": "https://localhost:8080/"
        },
        "id": "Ry47vvoo2Sca",
        "outputId": "888f77c5-42f0-4849-ea7f-368860d121cb"
      },
      "execution_count": 28,
      "outputs": [
        {
          "output_type": "stream",
          "name": "stdout",
          "text": [
            "khan is in the list.\n"
          ]
        }
      ]
    },
    {
      "cell_type": "markdown",
      "source": [
        "**6. Identity operators are used to compare the location of two objects or variables by using (is, is not).**"
      ],
      "metadata": {
        "id": "rsLr_mg32irK"
      }
    },
    {
      "cell_type": "code",
      "source": [
        "#example\n",
        "#using is\n",
        "a = [10, 20, 30]\n",
        "z = a\n",
        "if a is z:\n",
        "    print(\"a and z refer to the same object.\")\n",
        "else:\n",
        "  print(\"a and z refer to different object.\")"
      ],
      "metadata": {
        "colab": {
          "base_uri": "https://localhost:8080/"
        },
        "id": "vK21HEvp20HG",
        "outputId": "a42dd38b-be49-4dd4-a79e-b18a5c6438da"
      },
      "execution_count": 32,
      "outputs": [
        {
          "output_type": "stream",
          "name": "stdout",
          "text": [
            "a and z refer to the same object.\n"
          ]
        }
      ]
    },
    {
      "cell_type": "code",
      "source": [
        "#using is not\n",
        "a = [10, 20, 30]\n",
        "z = a\n",
        "if a is not z:\n",
        "    print(\"a and z refer to the same object.\")\n",
        "else:\n",
        "    print(\"a and z refer to different objects.\")"
      ],
      "metadata": {
        "colab": {
          "base_uri": "https://localhost:8080/"
        },
        "id": "56ihb4Oh26Fd",
        "outputId": "bad8a3d2-5a7c-44bc-dc98-01cf8e522ca0"
      },
      "execution_count": 33,
      "outputs": [
        {
          "output_type": "stream",
          "name": "stdout",
          "text": [
            "a and z refer to different objects.\n"
          ]
        }
      ]
    },
    {
      "cell_type": "markdown",
      "source": [
        "**7. Bitwise operators do operation at bit level by manipulating individual bits within integers. It is used to compare binary numbers by  using the main bitwise operators in Python which are: AND (&), OR (|), XOR (^), NOT (~), Left Shift (<<), Right Shift (>>).**"
      ],
      "metadata": {
        "id": "q1YOVh7J4HI6"
      }
    },
    {
      "cell_type": "code",
      "source": [
        "#Python Bitwise Operators\n",
        "#Bitwise AND ( & )\n",
        "a = 40 #binary of 40 = 101000\n",
        "b = 11 #binary of 11 = 001011\n",
        "result = a & b\n",
        "print(result)"
      ],
      "metadata": {
        "colab": {
          "base_uri": "https://localhost:8080/"
        },
        "id": "7XfAoZiq4QSN",
        "outputId": "387e902e-93ae-4549-d61a-a39271096fc9"
      },
      "execution_count": 34,
      "outputs": [
        {
          "output_type": "stream",
          "name": "stdout",
          "text": [
            "8\n"
          ]
        }
      ]
    },
    {
      "cell_type": "code",
      "source": [
        "#Bitwise OR ( | )\n",
        "a = 40 #binary of 40 = 101000\n",
        "b = 11 #binary of 11 = 001011\n",
        "result = a | b\n",
        "print(result)"
      ],
      "metadata": {
        "colab": {
          "base_uri": "https://localhost:8080/"
        },
        "id": "fqW2Mwc84TPz",
        "outputId": "319e7783-0b2c-466f-8c31-951475530a54"
      },
      "execution_count": 35,
      "outputs": [
        {
          "output_type": "stream",
          "name": "stdout",
          "text": [
            "43\n"
          ]
        }
      ]
    },
    {
      "cell_type": "code",
      "source": [
        "#Bitwise XOR (^)\n",
        "a = 40 #binary of 40 = 101000\n",
        "b = 11 #binary of 11 = 001011\n",
        "result = a ^ b\n",
        "print(result)\n"
      ],
      "metadata": {
        "colab": {
          "base_uri": "https://localhost:8080/"
        },
        "id": "vMx5mD1-4zDi",
        "outputId": "730c4f8d-5ea2-4f4f-bcb3-8af4f97df2af"
      },
      "execution_count": 36,
      "outputs": [
        {
          "output_type": "stream",
          "name": "stdout",
          "text": [
            "35\n"
          ]
        }
      ]
    },
    {
      "cell_type": "code",
      "source": [
        "#Bitwise NOT (~)\n",
        "a = 40 #binary of 40 = 101000\n",
        "result = ~a\n",
        "print(result)"
      ],
      "metadata": {
        "colab": {
          "base_uri": "https://localhost:8080/"
        },
        "id": "OcbonY-j41g4",
        "outputId": "3a04969f-1377-4a79-be0b-cb0ccb3b6ab5"
      },
      "execution_count": 37,
      "outputs": [
        {
          "output_type": "stream",
          "name": "stdout",
          "text": [
            "-41\n"
          ]
        }
      ]
    },
    {
      "cell_type": "code",
      "source": [
        "#Bitwise LEFT SHIFT (<<)\n",
        "a = 40 #binary of 40 = 101000\n",
        "result = a << 3\n",
        "print(result)"
      ],
      "metadata": {
        "colab": {
          "base_uri": "https://localhost:8080/"
        },
        "id": "ztwS9YSL44__",
        "outputId": "49ee9c86-18e3-4891-f267-947acef69be5"
      },
      "execution_count": 38,
      "outputs": [
        {
          "output_type": "stream",
          "name": "stdout",
          "text": [
            "320\n"
          ]
        }
      ]
    },
    {
      "cell_type": "code",
      "source": [
        "#Bitwise RIGHT SHIFT (>>)\n",
        "a = 40 #binary of 40 = 101000\n",
        "result = a >> 3\n",
        "print(result)"
      ],
      "metadata": {
        "colab": {
          "base_uri": "https://localhost:8080/"
        },
        "id": "xqsB9Y_w48K9",
        "outputId": "cc458374-4dea-466c-d1df-cc1b65e36e2d"
      },
      "execution_count": 39,
      "outputs": [
        {
          "output_type": "stream",
          "name": "stdout",
          "text": [
            "5\n"
          ]
        }
      ]
    },
    {
      "cell_type": "markdown",
      "source": [
        "#Q5. Explain the concept of typecasting in Python with examples."
      ],
      "metadata": {
        "id": "Kownc6t15NSZ"
      }
    },
    {
      "cell_type": "markdown",
      "source": [
        "**Answer.** Type casting in Python refers to converting one data type to another.In Python we can perform type casting using built-in functions like int(), float(), str(), and bool(). Here we will see the various techniques used for typecasting.\n",
        "\n",
        "There are mainly two types of Type Casting in Python:\n",
        "1. **Implicit Type Casting** (also called automatic type conversion)\n",
        "2. **Explicit Type Casting** (also called manual type conversion)"
      ],
      "metadata": {
        "id": "hrMYkLHj5QDt"
      }
    },
    {
      "cell_type": "markdown",
      "source": [
        "In **Implicit type casting**, the programming language automatically converts data from one type to another if needed. For example, if you have an integer variable and you try to assign it to a float variable, the programming language will automatically convert the integer to a float without you having to do anything."
      ],
      "metadata": {
        "id": "sumF0kT35pYQ"
      }
    },
    {
      "cell_type": "code",
      "source": [
        "#Example\n",
        "a = 7  # Integer type\n",
        "b = 4.5  # Float type\n",
        "result = (a - b)\n",
        "print(result)\n",
        "print(type(result))"
      ],
      "metadata": {
        "colab": {
          "base_uri": "https://localhost:8080/"
        },
        "id": "82D5rhrr5uHi",
        "outputId": "e47aa191-5307-4a55-b9b8-fd35b77ccc29"
      },
      "execution_count": 40,
      "outputs": [
        {
          "output_type": "stream",
          "name": "stdout",
          "text": [
            "2.5\n",
            "<class 'float'>\n"
          ]
        }
      ]
    },
    {
      "cell_type": "markdown",
      "source": [
        "In **explicit type casting**, we manually convert a value from one type to another using Python's built-in functions. This is necessary when you want to convert data to a specific type for some operation, such as converting a float to an integer or string to an integer."
      ],
      "metadata": {
        "id": "qhrQctXC6GRN"
      }
    },
    {
      "cell_type": "code",
      "source": [
        "#example 1\n",
        "# float to integer\n",
        "a = 7.9 #float value\n",
        "b = int(a) #changing value of ‘a’ to integer\n",
        "print(b)\n",
        "print(type(b))"
      ],
      "metadata": {
        "colab": {
          "base_uri": "https://localhost:8080/"
        },
        "id": "lSS2VLxz6YJF",
        "outputId": "7b453386-aabf-410d-b7b4-ecd196dc7513"
      },
      "execution_count": 41,
      "outputs": [
        {
          "output_type": "stream",
          "name": "stdout",
          "text": [
            "7\n",
            "<class 'int'>\n"
          ]
        }
      ]
    },
    {
      "cell_type": "code",
      "source": [
        "#example 2\n",
        "#string to integer\n",
        "a = (\"132\") #string value\n",
        "a = int(a)  #changing value of ‘a’ to integer\n",
        "print(a)\n",
        "print(type(a))"
      ],
      "metadata": {
        "colab": {
          "base_uri": "https://localhost:8080/"
        },
        "id": "hyhBR54X6eNS",
        "outputId": "003449e3-35fc-4fd4-e2c4-b38958fdcda2"
      },
      "execution_count": 43,
      "outputs": [
        {
          "output_type": "stream",
          "name": "stdout",
          "text": [
            "132\n",
            "<class 'int'>\n"
          ]
        }
      ]
    },
    {
      "cell_type": "markdown",
      "source": [
        "#Q6. How do conditional statements work in Python? Illustrate with examples."
      ],
      "metadata": {
        "id": "8-udDRy76zxe"
      }
    },
    {
      "cell_type": "markdown",
      "source": [
        "**Answer.** Conditional statements in Python are used to execute certain blocks of code based on whether a condition is True or False.\n",
        "There are several types of conditional statements in python:\n",
        "\n",
        "1. If the simple code of block is to be performed if the condition holds then the **if statement** is used."
      ],
      "metadata": {
        "id": "MC9j1tH_619d"
      }
    },
    {
      "cell_type": "code",
      "source": [
        "#example\n",
        "weather = \"winter\"\n",
        "if weather == \"winter\":\n",
        "    print(\"christmas is coming\")"
      ],
      "metadata": {
        "colab": {
          "base_uri": "https://localhost:8080/"
        },
        "id": "ACpIvMJ-7RVI",
        "outputId": "3c056dff-4681-4d93-da89-e494b7cb7e08"
      },
      "execution_count": 44,
      "outputs": [
        {
          "output_type": "stream",
          "name": "stdout",
          "text": [
            "christmas is coming\n"
          ]
        }
      ]
    },
    {
      "cell_type": "markdown",
      "source": [
        "\n",
        "2. If statement provides an alternative code block to execute when the condition is False then the **If-else statement** is used.\n",
        "\n"
      ],
      "metadata": {
        "id": "ucy6FVQO7U77"
      }
    },
    {
      "cell_type": "code",
      "source": [
        "#example\n",
        "weather = \"winter\"\n",
        "if weather == \"autumn\":\n",
        "    print(\"christmas is coming\")\n",
        "else:\n",
        "    print(\"no christmas\")"
      ],
      "metadata": {
        "colab": {
          "base_uri": "https://localhost:8080/"
        },
        "id": "pwnoeOHA8BpD",
        "outputId": "2826c64a-5361-4386-d9a9-301392ad1f7e"
      },
      "execution_count": 45,
      "outputs": [
        {
          "output_type": "stream",
          "name": "stdout",
          "text": [
            "no christmas\n"
          ]
        }
      ]
    },
    {
      "cell_type": "markdown",
      "source": [
        "3. **If-elif-else statement** allows you to check multiple conditions sequentially. Once a condition is True, it will execute the corresponding block and skip the remaining conditions."
      ],
      "metadata": {
        "id": "vQGFpmDI8Kop"
      }
    },
    {
      "cell_type": "code",
      "source": [
        "#example\n",
        "age = 45\n",
        "if age < 18:\n",
        "    print(\"you are a minor and not eligible to vote\")\n",
        "elif 18 <age < 65:\n",
        "    print(\"you are an adult and eligible to vote\")\n",
        "else:\n",
        "    print(\"you are a senior citizen, Thank you for participating\")"
      ],
      "metadata": {
        "colab": {
          "base_uri": "https://localhost:8080/"
        },
        "id": "fTEb7-BU8Xm7",
        "outputId": "2186d1dc-d2f0-4a8e-ed53-762f2ac0de5f"
      },
      "execution_count": 46,
      "outputs": [
        {
          "output_type": "stream",
          "name": "stdout",
          "text": [
            "you are an adult and eligible to vote\n"
          ]
        }
      ]
    },
    {
      "cell_type": "markdown",
      "source": [
        "4. **Nested if-else statement** means we can use an if-else statement inside another if statement. Or in simple words first, there is an outer if statement, and inside it another if – else statement is present."
      ],
      "metadata": {
        "id": "3Ke2bxlJ8wQr"
      }
    },
    {
      "cell_type": "code",
      "source": [
        "#example\n",
        "membership = True\n",
        "total_purchase = 1200\n",
        "\n",
        "\n",
        "if membership:\n",
        "    if total_purchase > 800:\n",
        "        print(\"You get a 20% discount.\")\n",
        "    elif total_purchase > 500:\n",
        "        print(\"You get a 10% discount.\")\n",
        "    else:\n",
        "        print(\"You get a 5% discount.\")\n",
        "else:\n",
        "    if total_purchase > 800:\n",
        "        print(\"You get a 10% discount.\")\n",
        "    else:\n",
        "        print(\"No discount available.\")"
      ],
      "metadata": {
        "colab": {
          "base_uri": "https://localhost:8080/"
        },
        "id": "aOK-7ZJq8Yh6",
        "outputId": "d0108423-1dd7-4870-b98d-178c50fcbaef"
      },
      "execution_count": 47,
      "outputs": [
        {
          "output_type": "stream",
          "name": "stdout",
          "text": [
            "You get a 20% discount.\n"
          ]
        }
      ]
    },
    {
      "cell_type": "markdown",
      "source": [
        "#Q7. Describe the different types of loops in Python and their use cases with examples."
      ],
      "metadata": {
        "id": "J-HJuJGo9Sjk"
      }
    },
    {
      "cell_type": "markdown",
      "source": [
        "**Answer:** The different types of loops in Python are For loop, while loop and nested loop.\n",
        "\n",
        "1. The **For loop** in Python is used to iterate over a sequence (such as a list, tuple, dictionary, string, or range) and executes a block of code for each item in the sequence."
      ],
      "metadata": {
        "id": "3jV7n-ca9Ucw"
      }
    },
    {
      "cell_type": "code",
      "source": [
        "#Example\n",
        "#Iterate through a list\n",
        "Name_list = ['ashar', 'kumar','singh', 'kapoor']\n",
        "for name in Name_list:\n",
        " print(name)\n",
        "#Iterate through a range of number\n",
        "for x in range(5):\n",
        "    print(x)"
      ],
      "metadata": {
        "colab": {
          "base_uri": "https://localhost:8080/"
        },
        "id": "6eRmTCw-9cFE",
        "outputId": "d42a7bd9-6dc0-47b5-9211-212c8169137e"
      },
      "execution_count": 48,
      "outputs": [
        {
          "output_type": "stream",
          "name": "stdout",
          "text": [
            "ashar\n",
            "kumar\n",
            "singh\n",
            "kapoor\n",
            "0\n",
            "1\n",
            "2\n",
            "3\n",
            "4\n"
          ]
        }
      ]
    },
    {
      "cell_type": "markdown",
      "source": [
        "The **while loop** in python repeatedly executes a block of code as long as the given condition is true. It’s especially useful when you don’t know how many times you need to loop, but you know the condition that will stop the loop."
      ],
      "metadata": {
        "id": "fx33xPDB9us8"
      }
    },
    {
      "cell_type": "code",
      "source": [
        "#Example\n",
        "count = 5\n",
        "while count < 10:\n",
        "    print(count)\n",
        "    count += 1  # Increment the count by 1 each time"
      ],
      "metadata": {
        "colab": {
          "base_uri": "https://localhost:8080/"
        },
        "id": "SdY45h-i9m10",
        "outputId": "1781b97d-0811-4e66-c5dd-cdcc322c834d"
      },
      "execution_count": 49,
      "outputs": [
        {
          "output_type": "stream",
          "name": "stdout",
          "text": [
            "5\n",
            "6\n",
            "7\n",
            "8\n",
            "9\n"
          ]
        }
      ]
    },
    {
      "cell_type": "markdown",
      "source": [
        "A **nested loop** is a loop inside another loop. In Python, you can have a for loop or while loop inside another for or while loop. Nested loops are often used to process multidimensional data structures (like matrices) or when you need to perform a series of operations in a series of iterations.\n"
      ],
      "metadata": {
        "id": "_0a6fTFe-Aba"
      }
    },
    {
      "cell_type": "code",
      "source": [
        "#Example\n",
        "x = [\"pwskills\", \"python\"]\n",
        "num = [1,2]\n",
        "for i in x:\n",
        "    for j in num:\n",
        "        print(i,j)"
      ],
      "metadata": {
        "colab": {
          "base_uri": "https://localhost:8080/"
        },
        "id": "56z1hezJ-Hmn",
        "outputId": "2eb04b69-628a-44ae-bfc6-7109ca993628"
      },
      "execution_count": 50,
      "outputs": [
        {
          "output_type": "stream",
          "name": "stdout",
          "text": [
            "pwskills 1\n",
            "pwskills 2\n",
            "python 1\n",
            "python 2\n"
          ]
        }
      ]
    }
  ]
}