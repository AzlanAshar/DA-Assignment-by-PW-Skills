{
  "nbformat": 4,
  "nbformat_minor": 0,
  "metadata": {
    "colab": {
      "provenance": [],
      "authorship_tag": "ABX9TyMsLld7mJP1ZYEWns545aKc",
      "include_colab_link": true
    },
    "kernelspec": {
      "name": "python3",
      "display_name": "Python 3"
    },
    "language_info": {
      "name": "python"
    }
  },
  "cells": [
    {
      "cell_type": "markdown",
      "metadata": {
        "id": "view-in-github",
        "colab_type": "text"
      },
      "source": [
        "<a href=\"https://colab.research.google.com/github/AzlanAshar/DA-Assignment-by-PW-Skills/blob/main/Assignment_Functions_Practical.ipynb\" target=\"_parent\"><img src=\"https://colab.research.google.com/assets/colab-badge.svg\" alt=\"Open In Colab\"/></a>"
      ]
    },
    {
      "cell_type": "markdown",
      "source": [
        "# **Assignment_Functions_Practical**"
      ],
      "metadata": {
        "id": "HdfQn43r9wpm"
      }
    },
    {
      "cell_type": "markdown",
      "source": [
        "## **Part 2. Practical Questions**"
      ],
      "metadata": {
        "id": "7Kw_o2xJ-RB5"
      }
    },
    {
      "cell_type": "markdown",
      "source": [
        "**Question 1.  Write a Python function that takes a list of numbers as input and returns the sum of all even numbers in\n",
        "the list.**"
      ],
      "metadata": {
        "id": "AfL0P8kh5rYD"
      }
    },
    {
      "cell_type": "code",
      "execution_count": 8,
      "metadata": {
        "id": "VNxKT2ja3eJC"
      },
      "outputs": [],
      "source": [
        "def sum_even_numbers(numbers):\n",
        "    total_sum = 0    #Initializing the sum to 0\n",
        "    for number in numbers:\n",
        "        if number % 2 == 0:   #Checking if the number is even\n",
        "            total_sum += number\n",
        "    return total_sum  # Returning the sum of all even numbers"
      ]
    },
    {
      "cell_type": "code",
      "source": [
        "numbers = [10, 11, 12, 13, 14, 15, 16, 17, 18, 19, 20]\n",
        "result = sum_even_numbers(numbers)\n",
        "print()\n",
        "print(result)"
      ],
      "metadata": {
        "colab": {
          "base_uri": "https://localhost:8080/"
        },
        "id": "gREB0iAo4FcP",
        "outputId": "bba41628-66bc-4801-d5dc-73e2d22b7076"
      },
      "execution_count": 9,
      "outputs": [
        {
          "output_type": "stream",
          "name": "stdout",
          "text": [
            "\n",
            "90\n"
          ]
        }
      ]
    },
    {
      "cell_type": "markdown",
      "source": [
        " **Question 2. Create a Python function that accepts a string and returns the reverse of that string.**"
      ],
      "metadata": {
        "id": "RUgBPpA-6Ce-"
      }
    },
    {
      "cell_type": "code",
      "source": [
        "Song = \"Let me love you\"\n",
        "reversed_string = Song[::-1]\n",
        "print(reversed_string)"
      ],
      "metadata": {
        "colab": {
          "base_uri": "https://localhost:8080/"
        },
        "id": "QhQkZhoYB0mt",
        "outputId": "2d1d13c1-da00-4fe1-ebd7-9b2682d5ff35"
      },
      "execution_count": 15,
      "outputs": [
        {
          "output_type": "stream",
          "name": "stdout",
          "text": [
            "uoy evol em teL\n"
          ]
        }
      ]
    },
    {
      "cell_type": "markdown",
      "source": [
        "**Question 3. Implement a Python function that takes a list of integers and returns a new list containing the squares of each number.**"
      ],
      "metadata": {
        "id": "yTH5R9lhCtGk"
      }
    },
    {
      "cell_type": "code",
      "source": [
        "def square_even_numbers():\n",
        "    even_numbers_list = [0, 2, 4, 6, 8, 10] #taking list of even numbers.\n",
        "    squared_numbers = [num ** 2 for num in even_numbers_list]\n",
        "    return squared_numbers"
      ],
      "metadata": {
        "id": "9lCjYFtRXyz6"
      },
      "execution_count": 1,
      "outputs": []
    },
    {
      "cell_type": "code",
      "source": [
        "New_squared_list = square_even_numbers()\n",
        "print(New_squared_list)"
      ],
      "metadata": {
        "colab": {
          "base_uri": "https://localhost:8080/"
        },
        "id": "v8FeeN5jYFJF",
        "outputId": "2c548ec1-e12c-4d6c-b586-d2844056b182"
      },
      "execution_count": 2,
      "outputs": [
        {
          "output_type": "stream",
          "name": "stdout",
          "text": [
            "[0, 4, 16, 36, 64, 100]\n"
          ]
        }
      ]
    },
    {
      "cell_type": "markdown",
      "source": [
        "**Question 4. Write a Python function that checks if a given number is prime or not from 1 to 200.**"
      ],
      "metadata": {
        "id": "g2JKllb1YrLW"
      }
    },
    {
      "cell_type": "code",
      "source": [
        "def is_prime(number):\n",
        "  if number < 2:\n",
        "        return False  #Numbers less than 2 are not prime numbers.\n",
        "  for i in range(2, number):\n",
        "        if number % i == 0:\n",
        "            return False  #If the number is divisible by any number other than 1 and itself are not prime.\n",
        "\n",
        "  return True   #If no divisors are found, the number is prime."
      ],
      "metadata": {
        "id": "2HqEz02QYb72"
      },
      "execution_count": 5,
      "outputs": []
    },
    {
      "cell_type": "code",
      "source": [
        "number = 17 #checking the number is prime or not.\n",
        "if is_prime(number):\n",
        "    print(f\"{number} is a prime number.\")\n",
        "else:\n",
        "    print(f\"{number} is not a prime number.\")"
      ],
      "metadata": {
        "colab": {
          "base_uri": "https://localhost:8080/"
        },
        "id": "aVycOU__aaP9",
        "outputId": "ddd24fc7-602d-4cc4-dcb0-8d3e297222f4"
      },
      "execution_count": 6,
      "outputs": [
        {
          "output_type": "stream",
          "name": "stdout",
          "text": [
            "17 is a prime number.\n"
          ]
        }
      ]
    },
    {
      "cell_type": "code",
      "source": [
        "number = 24 #checking the number is prime or not.\n",
        "if is_prime(number):\n",
        "    print(f\"{number} is a prime number.\")\n",
        "else:\n",
        "    print(f\"{number} is not a prime number.\")"
      ],
      "metadata": {
        "colab": {
          "base_uri": "https://localhost:8080/"
        },
        "id": "wjR2cUR1ay3m",
        "outputId": "a545e6b8-b970-430c-96dd-fb0a621e75e1"
      },
      "execution_count": 8,
      "outputs": [
        {
          "output_type": "stream",
          "name": "stdout",
          "text": [
            "24 is not a prime number.\n"
          ]
        }
      ]
    },
    {
      "cell_type": "code",
      "source": [
        "number = 100 #checking the number is prime or not.\n",
        "if is_prime(number):\n",
        "    print(f\"{number} is a prime number.\")\n",
        "else:\n",
        "    print(f\"{number} is not a prime number.\")"
      ],
      "metadata": {
        "colab": {
          "base_uri": "https://localhost:8080/"
        },
        "id": "Ps_YjuCJa4bP",
        "outputId": "e479b8f1-8d8e-4ad7-8dcf-0ee53a1a5cfb"
      },
      "execution_count": 10,
      "outputs": [
        {
          "output_type": "stream",
          "name": "stdout",
          "text": [
            "100 is not a prime number.\n"
          ]
        }
      ]
    },
    {
      "cell_type": "code",
      "source": [
        "number = 157 #checking the number is prime or not.\n",
        "if is_prime(number):\n",
        "    print(f\"{number} is a prime number.\")\n",
        "else:\n",
        "    print(f\"{number} is not a prime number.\")"
      ],
      "metadata": {
        "colab": {
          "base_uri": "https://localhost:8080/"
        },
        "id": "GijzdJgGbBys",
        "outputId": "7b590ea6-61fd-4a05-fcd1-74143f7e96e4"
      },
      "execution_count": 17,
      "outputs": [
        {
          "output_type": "stream",
          "name": "stdout",
          "text": [
            "157 is a prime number.\n"
          ]
        }
      ]
    },
    {
      "cell_type": "code",
      "source": [
        "number = 200 #checking the number is prime or not.\n",
        "if is_prime(number):\n",
        "    print(f\"{number} is a prime number.\")\n",
        "else:\n",
        "    print(f\"{number} is not a prime number.\")"
      ],
      "metadata": {
        "colab": {
          "base_uri": "https://localhost:8080/"
        },
        "id": "c8u1kSRhbHLA",
        "outputId": "a6e0cfd1-1619-45a7-9d62-35232128c650"
      },
      "execution_count": 12,
      "outputs": [
        {
          "output_type": "stream",
          "name": "stdout",
          "text": [
            "200 is not a prime number.\n"
          ]
        }
      ]
    },
    {
      "cell_type": "markdown",
      "source": [
        "**Question 5. Create an iterator class in Python that generates the Fibonacci sequence up to a specified number of\n",
        "terms.**"
      ],
      "metadata": {
        "id": "_kzsxVpwbfGp"
      }
    },
    {
      "cell_type": "code",
      "source": [
        "class FibonacciIterator:\n",
        "    def __init__(self, num_terms):\n",
        "      self.num_terms = num_terms    #The total number of terms to generate\n",
        "      self.a, self.b = 0, 1         #Initial Fibonacci values\n",
        "      self.count = 0                #Counter to track the number of terms generated\n",
        "    def __iter__(self):\n",
        "        return self\n",
        "\n",
        "    def __next__(self):\n",
        "      if self.count >= self.num_terms:\n",
        "            raise StopIteration                 #Stoping iteration if we reach the specified number of terms\n",
        "      fibonacci_number = self.a\n",
        "      self.a, self.b = self.b, self.a + self.b  #Updating Fibonacci values\n",
        "      self.count += 1\n",
        "\n",
        "      return fibonacci_number"
      ],
      "metadata": {
        "id": "G39fgq4Rh80Q"
      },
      "execution_count": 58,
      "outputs": []
    },
    {
      "cell_type": "code",
      "source": [
        "fib_iter = FibonacciIterator(7)  #Creating an iterator for the first 7 Fibonacci numbers\n",
        "print(\"The first 7 Fibonacci numbers are:\")\n",
        "for num in fib_iter:\n",
        "  print(num)"
      ],
      "metadata": {
        "colab": {
          "base_uri": "https://localhost:8080/"
        },
        "id": "4eGEVNsJia99",
        "outputId": "bd47d92c-30f9-42ee-a625-98f4f1b49d15"
      },
      "execution_count": 60,
      "outputs": [
        {
          "output_type": "stream",
          "name": "stdout",
          "text": [
            "The first 10 Fibonacci numbers are:\n",
            "0\n",
            "1\n",
            "1\n",
            "2\n",
            "3\n",
            "5\n",
            "8\n"
          ]
        }
      ]
    },
    {
      "cell_type": "markdown",
      "source": [
        "**Question 6. Write a generator function in Python that yields the powers of 2 up to a given exponent.**"
      ],
      "metadata": {
        "id": "DLovTkevkSm2"
      }
    },
    {
      "cell_type": "code",
      "source": [
        "def powers_of_2():\n",
        "    for i in range(5, 11):\n",
        "        yield 2 ** i"
      ],
      "metadata": {
        "id": "iry6EE4Ji0Ct"
      },
      "execution_count": 69,
      "outputs": []
    },
    {
      "cell_type": "code",
      "source": [
        "gen = powers_of_2()   #creating the generator\n",
        "for power in gen:     #printing the powers of 2 from 5 to 10\n",
        "  print(power)"
      ],
      "metadata": {
        "colab": {
          "base_uri": "https://localhost:8080/"
        },
        "id": "sfVPMQL9llya",
        "outputId": "d66a3f1d-ea39-4615-ecfc-c056fb8dffde"
      },
      "execution_count": 70,
      "outputs": [
        {
          "output_type": "stream",
          "name": "stdout",
          "text": [
            "32\n",
            "64\n",
            "128\n",
            "256\n",
            "512\n",
            "1024\n"
          ]
        }
      ]
    },
    {
      "cell_type": "markdown",
      "source": [
        "**Question 7. Implement a generator function that reads a file line by line and yields each line as a string.**"
      ],
      "metadata": {
        "id": "SJknz-GTocOP"
      }
    },
    {
      "cell_type": "code",
      "source": [
        "file_content = \"\"\"My name is khan.\n",
        "I am studying Data Analytics.\n",
        "PW Skills is a good platform to learn.\"\"\"    #Writing the string content into a file.\n",
        "\n",
        "file_name = 'example.txt'\n",
        "with open(file_name, 'w') as f:\n",
        "    f.write(file_content)\n",
        "def read_file_line_by_line(file_name):       #Implementing the generator function to read the file line by line.\n",
        "    with open(file_name, 'r') as f:\n",
        "        for line in f:                       #Iterating over each line in the file.\n",
        "            yield line\n",
        "gen = read_file_line_by_line(file_name)      #Using the generator to read the lines from the file\n",
        "for line in gen:\n",
        "    print(line)                              #Printing the lines yielded by the generator"
      ],
      "metadata": {
        "colab": {
          "base_uri": "https://localhost:8080/"
        },
        "id": "HgxkIWx2l-va",
        "outputId": "1b06807d-3de1-4012-d172-b24707a6df1c"
      },
      "execution_count": 106,
      "outputs": [
        {
          "output_type": "stream",
          "name": "stdout",
          "text": [
            "My name is khan.\n",
            "\n",
            "I am studying Data Analytics.\n",
            "\n",
            "PW Skills is a good platform to learn.\n"
          ]
        }
      ]
    },
    {
      "cell_type": "markdown",
      "source": [
        "**Question 8.  Use a lambda function in Python to sort a list of tuples based on the second element of each tuple.**"
      ],
      "metadata": {
        "id": "O9G_qD9cuv-I"
      }
    },
    {
      "cell_type": "code",
      "source": [
        "My_list = [(1, 9), (2, 6), (4, 3), (2, 1)]\n",
        "My_list.sort(key=lambda x: x[1])    #Sorting the list of tuples based on the second element using lambda function\n",
        "print(My_list)        #Printing the sorted list"
      ],
      "metadata": {
        "colab": {
          "base_uri": "https://localhost:8080/"
        },
        "id": "2ofXkTzatwXr",
        "outputId": "06e81043-d6f8-41ba-a27d-465f407a0e55"
      },
      "execution_count": 105,
      "outputs": [
        {
          "output_type": "stream",
          "name": "stdout",
          "text": [
            "[(2, 1), (4, 3), (2, 6), (1, 9)]\n"
          ]
        }
      ]
    },
    {
      "cell_type": "markdown",
      "source": [
        "**Question 9. Write a Python program that uses `map()` to convert a list of temperatures from Celsius to Fahrenheit.**"
      ],
      "metadata": {
        "id": "o5sTKllrv4VA"
      }
    },
    {
      "cell_type": "code",
      "source": [
        "celsius_temperature = [35]\n",
        "def celsius_to_fahrenheit(celsius): #Function used to convert Celsius to Fahrenheit.\n",
        "    return (9/5) * celsius + 32\n",
        "fahrenheit_temperature = list(map(celsius_to_fahrenheit, celsius_temperature)) #uising map() to apply the conversion.\n",
        "print(fahrenheit_temperature)"
      ],
      "metadata": {
        "colab": {
          "base_uri": "https://localhost:8080/"
        },
        "id": "Fu3yPfRJuK4o",
        "outputId": "22c49a6b-749f-4e6a-bc7b-92a28a302d7d"
      },
      "execution_count": 104,
      "outputs": [
        {
          "output_type": "stream",
          "name": "stdout",
          "text": [
            "[95.0]\n"
          ]
        }
      ]
    },
    {
      "cell_type": "markdown",
      "source": [
        "**Question 10.  Create a Python program that uses `filter()` to remove all the vowels from a given string.**"
      ],
      "metadata": {
        "id": "lKbEDXY9yQWH"
      }
    },
    {
      "cell_type": "code",
      "source": [
        "input_string = \"Alive is awesome\"\n",
        "vowels = 'AEIOUaeiou'\n",
        "def is_vowel(character):\n",
        "    return character in vowels\n",
        "removed_vowels = filter(is_vowel, input_string)\n",
        "filtered_string = ''.join(filter(lambda character: character not in vowels, input_string))\n",
        "\n",
        "print(\"Filtered String:\", filtered_string)\n",
        "print(\"Removed Vowels:\", ''.join(removed_vowels))"
      ],
      "metadata": {
        "colab": {
          "base_uri": "https://localhost:8080/"
        },
        "id": "BM2vhu4GweMF",
        "outputId": "2254ee8e-9edc-45e9-9a4a-d432fa2a84fd"
      },
      "execution_count": 103,
      "outputs": [
        {
          "output_type": "stream",
          "name": "stdout",
          "text": [
            "Filtered String: lv s wsm\n",
            "Removed Vowels: Aieiaeoe\n"
          ]
        }
      ]
    },
    {
      "cell_type": "markdown",
      "source": [
        "### **Solution of Question 11**"
      ],
      "metadata": {
        "id": "2pzzI_041PW3"
      }
    },
    {
      "cell_type": "code",
      "source": [
        "# Data: Order number, book title and author, quantity, price per item\n",
        "order_numbers = [34587, 98762, 77226, 88112]\n",
        "book_titles = [\"Learning Python, Mark Lutz\",\"Programming Python, Mark Lutz\", \"Head First Python, Paul Barry\", \"Einführung in Python 3, Bernd Klein\"]\n",
        "quantities = [4, 5, 3, 3]\n",
        "prices = [40.95, 56.80, 32.95, 24.99]\n",
        "def calculate_price(order):   #using lambda function to calculate the total price, apply the 10€ adjustment if needed.\n",
        "    order_number, quantity, price_per_item = order\n",
        "    total_price = quantity * price_per_item\n",
        "    if total_price < 100:\n",
        "        total_price += 10              #adding 10€ if the total price is less than 100€\n",
        "    return (order_number, total_price)\n",
        "\n",
        "orders = zip(order_numbers, quantities, prices)\n",
        "result = list(map(calculate_price, orders)) #Using map to apply the calculate_price function to each order.\n",
        "print(result)\n"
      ],
      "metadata": {
        "colab": {
          "base_uri": "https://localhost:8080/"
        },
        "id": "eEpjmboP7djd",
        "outputId": "32240337-83f3-4832-e2dd-8be02ea09ae2"
      },
      "execution_count": 102,
      "outputs": [
        {
          "output_type": "stream",
          "name": "stdout",
          "text": [
            "[(34587, 163.8), (98762, 284.0), (77226, 108.85000000000001), (88112, 84.97)]\n"
          ]
        }
      ]
    },
    {
      "cell_type": "code",
      "source": [],
      "metadata": {
        "id": "-mJUNIrS-pb3"
      },
      "execution_count": null,
      "outputs": []
    }
  ]
}