{
  "nbformat": 4,
  "nbformat_minor": 0,
  "metadata": {
    "colab": {
      "provenance": [],
      "authorship_tag": "ABX9TyNLtUuLN4suasokXB8eu45B",
      "include_colab_link": true
    },
    "kernelspec": {
      "name": "python3",
      "display_name": "Python 3"
    },
    "language_info": {
      "name": "python"
    }
  },
  "cells": [
    {
      "cell_type": "markdown",
      "metadata": {
        "id": "view-in-github",
        "colab_type": "text"
      },
      "source": [
        "<a href=\"https://colab.research.google.com/github/AzlanAshar/DA-Assignment-by-PW-Skills/blob/main/Assignment_of_Data_Structure.ipynb\" target=\"_parent\"><img src=\"https://colab.research.google.com/assets/colab-badge.svg\" alt=\"Open In Colab\"/></a>"
      ]
    },
    {
      "cell_type": "markdown",
      "source": [
        "# **Assignment of Data Structure**"
      ],
      "metadata": {
        "id": "f_0TZZp5x3R0"
      }
    },
    {
      "cell_type": "markdown",
      "source": [
        "## **Question 1: Discuss string slicing and provide examples.**"
      ],
      "metadata": {
        "id": "juyQ4E_wx8G5"
      }
    },
    {
      "cell_type": "markdown",
      "source": [
        "**Answer:** String slicing is a fundamental operation in Python that allows you to extract a portion of a string, It allows you to specify a range of indices to obtain a substring from a given string."
      ],
      "metadata": {
        "id": "GO5gKnH_yIw9"
      }
    },
    {
      "cell_type": "code",
      "source": [
        "#example 1 (positive slicing)\n",
        "name = \"My name is khan.\"\n",
        "out_1 = name[0:7]  #Extracts from index 0 to 6(exclusive of index 7).\n",
        "print(out_1)"
      ],
      "metadata": {
        "colab": {
          "base_uri": "https://localhost:8080/"
        },
        "id": "2bv02-2iyUsj",
        "outputId": "45760686-d24a-4f6e-b3e4-97516c886a9b"
      },
      "execution_count": 1,
      "outputs": [
        {
          "output_type": "stream",
          "name": "stdout",
          "text": [
            "My name\n"
          ]
        }
      ]
    },
    {
      "cell_type": "code",
      "source": [
        "#Example 2(negative slicing)\n",
        "name = \"My name is khan.\"\n",
        "out_1 = name[-8:-1] #Extracts from index -1 to -7(exclusive of index -1).\n",
        "print(out_1)"
      ],
      "metadata": {
        "colab": {
          "base_uri": "https://localhost:8080/"
        },
        "id": "IHDnmNRwyXxl",
        "outputId": "4d613e67-f492-4bb5-808a-88c7475fda31"
      },
      "execution_count": 2,
      "outputs": [
        {
          "output_type": "stream",
          "name": "stdout",
          "text": [
            "is khan\n"
          ]
        }
      ]
    },
    {
      "cell_type": "code",
      "source": [
        "#example 3(slicing using steps)\n",
        "name = \"My name is khan.\"\n",
        "out_1 = name[::2]  #Extracts every second character from start to end.\n",
        "print(out_1)"
      ],
      "metadata": {
        "colab": {
          "base_uri": "https://localhost:8080/"
        },
        "id": "q6YtaHNiydx0",
        "outputId": "eb32bc14-7bf8-4b0c-bc3f-1e558cb373c5"
      },
      "execution_count": 3,
      "outputs": [
        {
          "output_type": "stream",
          "name": "stdout",
          "text": [
            "M aei hn\n"
          ]
        }
      ]
    },
    {
      "cell_type": "code",
      "source": [
        "#example 4 (reversing a string)\n",
        "name = \"My name is khan.\"\n",
        "out_1 = name[::-1]  #Start from the end and will go backward.\n",
        "print(out_1)"
      ],
      "metadata": {
        "colab": {
          "base_uri": "https://localhost:8080/"
        },
        "id": "Vss0J3GhyhXE",
        "outputId": "20d966b9-72c1-47d2-b61e-3e24e6ca253b"
      },
      "execution_count": 4,
      "outputs": [
        {
          "output_type": "stream",
          "name": "stdout",
          "text": [
            ".nahk si eman yM\n"
          ]
        }
      ]
    },
    {
      "cell_type": "markdown",
      "source": [
        "# **Question 2: Explain the key features of lists in Python.**"
      ],
      "metadata": {
        "id": "M1ub42OKy03v"
      }
    },
    {
      "cell_type": "markdown",
      "source": [
        "**Answer:** list is a built-in data structure that is used to store an ordered collection of items that can be of any data type. List is heterogeneous in nature, versatile and is commonly used in Python programs.\n",
        "\n",
        "**Some key features of lists are as follows:**\n",
        "\n",
        "**Ordered collection:** Lists preserve the order of elements, which means that the order in which elements are added is preserved.\n"
      ],
      "metadata": {
        "id": "HZp8fvwgzQ4D"
      }
    },
    {
      "cell_type": "code",
      "source": [
        "#example:\n",
        "number = [10, 17, 24, 9, 74, 104]\n",
        "print(number[0])\n",
        "print(number[3])\n",
        "print(number[-1])"
      ],
      "metadata": {
        "colab": {
          "base_uri": "https://localhost:8080/"
        },
        "id": "1hake-ntzQh-",
        "outputId": "e10ab419-c1de-402c-9433-da560772d6b0"
      },
      "execution_count": 5,
      "outputs": [
        {
          "output_type": "stream",
          "name": "stdout",
          "text": [
            "10\n",
            "9\n",
            "104\n"
          ]
        }
      ]
    },
    {
      "cell_type": "markdown",
      "source": [
        "**Mutable:** You can modify the list after it is created, which means you can modify a list after it is created. You can add, remove, or change elements in a list."
      ],
      "metadata": {
        "id": "TzJID1Oj0Noh"
      }
    },
    {
      "cell_type": "code",
      "source": [
        "#example:\n",
        "number = [10, 17, 24, 9, 74, 104]\n",
        "number[2] = 37  #changing the value of the 3rd element.\n",
        "print(number)\n",
        "\n",
        "\n",
        "number.remove(9)  #removing an element from the list.\n",
        "print(number)\n",
        "\n",
        "\n",
        "number.append(66)  #adding an element to the end of the list.\n",
        "print(number)"
      ],
      "metadata": {
        "colab": {
          "base_uri": "https://localhost:8080/"
        },
        "id": "UoH5VhZ00CsX",
        "outputId": "d4e2092d-6598-4528-9134-ef942cfb43e9"
      },
      "execution_count": 6,
      "outputs": [
        {
          "output_type": "stream",
          "name": "stdout",
          "text": [
            "[10, 17, 37, 9, 74, 104]\n",
            "[10, 17, 37, 74, 104]\n",
            "[10, 17, 37, 74, 104, 66]\n"
          ]
        }
      ]
    },
    {
      "cell_type": "markdown",
      "source": [
        "**Mixed data types:** Lists can store different data types which means lists can contain elements of different data types, such as integers, strings, floats, and even other lists."
      ],
      "metadata": {
        "id": "wD410PuI0kv-"
      }
    },
    {
      "cell_type": "code",
      "source": [
        "#example:\n",
        "xyz = [20, 75, 2.5, \"azlan\", False, 3+2j, [3,14,7]]\n",
        "print(xyz[2])\n",
        "print(xyz[3])\n",
        "print(xyz[6])"
      ],
      "metadata": {
        "colab": {
          "base_uri": "https://localhost:8080/"
        },
        "id": "x8euNaYy0j_x",
        "outputId": "90081682-2d3f-47ed-97c6-26baa35d855d"
      },
      "execution_count": 8,
      "outputs": [
        {
          "output_type": "stream",
          "name": "stdout",
          "text": [
            "2.5\n",
            "azlan\n",
            "[3, 14, 7]\n"
          ]
        }
      ]
    },
    {
      "cell_type": "markdown",
      "source": [
        "**Indexing & slicing:** Access and modify list elements via indices and slicing which means Lists support indexing to access individual elements, and slicing to access a portion of the list.\n"
      ],
      "metadata": {
        "id": "zRyTbDnV1auH"
      }
    },
    {
      "cell_type": "code",
      "source": [
        "#example of indexing\n",
        "list_1 = [20, 75, 2.5, \"azlan\", False, 3+2j, [3,14,7]]\n",
        "print(list_1[2])\n",
        "\n",
        "\n",
        "print(list_1[-2])"
      ],
      "metadata": {
        "colab": {
          "base_uri": "https://localhost:8080/"
        },
        "id": "1yaArm0l0aj4",
        "outputId": "f8cbd6c6-3849-473e-ee76-17e2744f97c0"
      },
      "execution_count": 9,
      "outputs": [
        {
          "output_type": "stream",
          "name": "stdout",
          "text": [
            "2.5\n",
            "(3+2j)\n"
          ]
        }
      ]
    },
    {
      "cell_type": "code",
      "source": [
        "#example of slicing\n",
        "list_1 = [20, 75, 2.5, \"azlan\", False, 3+2j, [3,14,7]]\n",
        "print(list_1[0:4]) #slicing from zero to 3rd index"
      ],
      "metadata": {
        "colab": {
          "base_uri": "https://localhost:8080/"
        },
        "id": "URv1H7Eu1iH_",
        "outputId": "a4cb22f0-16e7-409b-dc17-36d2f78f19ff"
      },
      "execution_count": 10,
      "outputs": [
        {
          "output_type": "stream",
          "name": "stdout",
          "text": [
            "[20, 75, 2.5, 'azlan']\n"
          ]
        }
      ]
    },
    {
      "cell_type": "markdown",
      "source": [
        "**Support for nested lists:** Lists can contain other lists as elements, which allows us to create multi-dimensional structures."
      ],
      "metadata": {
        "id": "uQAaGKyX2ATW"
      }
    },
    {
      "cell_type": "code",
      "source": [
        "#example\n",
        "time_duration = [[9, 10, 11], [12, 13, 14], [15, 16, 17], [18, 19, 20]]\n",
        "print(time_duration[2][1]) #extracting the 2nd element of the 3rd sub list."
      ],
      "metadata": {
        "colab": {
          "base_uri": "https://localhost:8080/"
        },
        "id": "4mUObo391_4a",
        "outputId": "4e6d4c91-3106-4218-a2ee-803ee01983b8"
      },
      "execution_count": 11,
      "outputs": [
        {
          "output_type": "stream",
          "name": "stdout",
          "text": [
            "16\n"
          ]
        }
      ]
    },
    {
      "cell_type": "markdown",
      "source": [
        "**Built-in methods:** Python provides many methods for managing lists like built-in methods that allow us to perform various operations, such as adding, removing, and modifying elements.\n",
        "\n",
        "1. append(): Adds an item to the end of the list.\n",
        "2. insert(): Inserts an item at a specific index.\n",
        "3. remove(): Removes the first occurrence of a specified item.\n",
        "4. pop(): Removes and returns an element at a specified index.\n",
        "5. extend(): Adds all elements from another iterable to the list.\n",
        "6. sort(): Sorts the list in place.\n",
        "7. reverse(): Reverses the list in place.\n"
      ],
      "metadata": {
        "id": "tfZcH5u52ZdB"
      }
    },
    {
      "cell_type": "markdown",
      "source": [
        "**Iterable:** Lists are iterable which means we can loop through a list using iteration techniques."
      ],
      "metadata": {
        "id": "dY2WwqcP2uyq"
      }
    },
    {
      "cell_type": "code",
      "source": [
        "#example:\n",
        "list_1 = [20, 75, 2.5, \"azlan\", False, 3+2j, [3,14,7]]\n",
        "for item in list_1:\n",
        "    print(item)"
      ],
      "metadata": {
        "colab": {
          "base_uri": "https://localhost:8080/"
        },
        "id": "KawGyVaR11Km",
        "outputId": "29a2e882-31d5-4ba8-d526-6a3d07c00615"
      },
      "execution_count": 12,
      "outputs": [
        {
          "output_type": "stream",
          "name": "stdout",
          "text": [
            "20\n",
            "75\n",
            "2.5\n",
            "azlan\n",
            "False\n",
            "(3+2j)\n",
            "[3, 14, 7]\n"
          ]
        }
      ]
    },
    {
      "cell_type": "markdown",
      "source": [
        "# **Question 3. Describe how to access, modify, and delete elements in a list with examples.**"
      ],
      "metadata": {
        "id": "XKh9Q_Ea3BdH"
      }
    },
    {
      "cell_type": "markdown",
      "source": [
        "**Answer:**\n",
        "Accessing elements in a list using Indexing: Python list elements are ordered by index, a number referring to their placement in the list. List indices start at 0 and increment by one. we can also use negative indexing to access elements from the end of the list, where -1 refers to the last element. To access a list element by index, using square brackets [index]."
      ],
      "metadata": {
        "id": "2YsHwZ863K79"
      }
    },
    {
      "cell_type": "code",
      "source": [
        "#example:\n",
        "list_1 = [20, 75, 2.5, \"azlan\", False, 3+2j, [3,14,7]]\n",
        "print(list_1[0])\n",
        "print(list_1[3])\n",
        "print(list_1[-1])"
      ],
      "metadata": {
        "colab": {
          "base_uri": "https://localhost:8080/"
        },
        "id": "aynDizmy269s",
        "outputId": "8daa5a89-0c75-4aae-fdf4-d4df4164e005"
      },
      "execution_count": 13,
      "outputs": [
        {
          "output_type": "stream",
          "name": "stdout",
          "text": [
            "20\n",
            "azlan\n",
            "[3, 14, 7]\n"
          ]
        }
      ]
    },
    {
      "cell_type": "markdown",
      "source": [
        "**Accessing elements in a list using slicing:** we can extract a sublist by using the slicing operator that is colon(:). With this operator, we can define where to begin slicing, and where to terminate slicing, and also the step.\n"
      ],
      "metadata": {
        "id": "N9BDTx0R3esC"
      }
    },
    {
      "cell_type": "code",
      "source": [
        "#example\n",
        "list_1 = [20, 75, 2.5, \"azlan\", False, 3+2j, [3,14,7]]\n",
        "print(list_1[0:5]) #slicing from zero to 4rd index\n",
        "\n",
        "\n",
        "print(list_1[1:4]) #slicing from 1st to 3rd index\n",
        "\n",
        "\n",
        "print(list_1[4:]) #slicing from 4nd index to last index"
      ],
      "metadata": {
        "colab": {
          "base_uri": "https://localhost:8080/"
        },
        "id": "aI7uWG5N3ZmB",
        "outputId": "7482df5d-bd6b-4af5-9364-4eaa00477d1b"
      },
      "execution_count": 14,
      "outputs": [
        {
          "output_type": "stream",
          "name": "stdout",
          "text": [
            "[20, 75, 2.5, 'azlan', False]\n",
            "[75, 2.5, 'azlan']\n",
            "[False, (3+2j), [3, 14, 7]]\n"
          ]
        }
      ]
    },
    {
      "cell_type": "markdown",
      "source": [
        "**Modifying lists:** Since lists are mutable, we can change elements in a list by assigning a new value to a specific index. Here are a few common ways to modify lists:"
      ],
      "metadata": {
        "id": "zGMqlCHn3p04"
      }
    },
    {
      "cell_type": "code",
      "source": [
        "#example 1: (assigning the value of any specific index)\n",
        "list_1 = [20, 75, 2.5, \"azlan\", False, 3+2j, [3,14,7]]\n",
        "list_1[3] = \"pw skills\" #modifying the 4th element(3rd index)\n",
        "print(list_1)"
      ],
      "metadata": {
        "colab": {
          "base_uri": "https://localhost:8080/"
        },
        "id": "8CuOOcoE3nQP",
        "outputId": "7ed61392-431b-4b25-ec9e-361c4892bf42"
      },
      "execution_count": 15,
      "outputs": [
        {
          "output_type": "stream",
          "name": "stdout",
          "text": [
            "[20, 75, 2.5, 'pw skills', False, (3+2j), [3, 14, 7]]\n"
          ]
        }
      ]
    },
    {
      "cell_type": "code",
      "source": [
        "#example 2: (Adding, extending, and inserting elements)\n",
        "#Adding element >>.append() : Adds an element to the end of the list.\n",
        "list_1 = [20, 75, 2.5, \"azlan\", False, 3+2j, [3,14,7]]\n",
        "list_1.append(\"pw skills\")\n",
        "print(list_1)\n",
        "\n",
        "\n",
        "#Inserting an element >>.insert(): Inserts an element at any specific index.\n",
        "list_1 = [20, 75, 2.5, \"azlan\", False, 3+2j, [3,14,7]]\n",
        "list_1.insert(3, \"data analytics\")\n",
        "print(list_1)\n",
        "\n",
        "\n",
        "#extending an element >>.extend(): Appends elements from another list to the end of the list.\n",
        "list_1 = [20, 75, 2.5, \"azlan\", False, 3+2j, [3,14,7]]\n",
        "list_1.extend([45,78,\"python\"])\n",
        "print(list_1)"
      ],
      "metadata": {
        "colab": {
          "base_uri": "https://localhost:8080/"
        },
        "id": "mUvIxxnw35oC",
        "outputId": "fb29b276-6a75-415f-fda7-fc2870979ae6"
      },
      "execution_count": 17,
      "outputs": [
        {
          "output_type": "stream",
          "name": "stdout",
          "text": [
            "[20, 75, 2.5, 'azlan', False, (3+2j), [3, 14, 7], 'pw skills']\n",
            "[20, 75, 2.5, 'data analytics', 'azlan', False, (3+2j), [3, 14, 7]]\n",
            "[20, 75, 2.5, 'azlan', False, (3+2j), [3, 14, 7], 45, 78, 'python']\n"
          ]
        }
      ]
    },
    {
      "cell_type": "markdown",
      "source": [
        "**Deleting elements from a list:** We can delete elements by using >> del, remove(), or pop()"
      ],
      "metadata": {
        "id": "JAoiu1j14N-d"
      }
    },
    {
      "cell_type": "code",
      "source": [
        "#example\n",
        "#Deleting element\n",
        "#remove() : Removes the first occurrence of a specified value.\n",
        "list_1 = [20, 75, 2.5, \"azlan\", False, 3+2j, [3,14,7]]\n",
        "list_1.remove(\"azlan\")\n",
        "print(list_1)\n",
        "\n",
        "\n",
        "#Using del to delete the 5th element (index 4)\n",
        "list_1 = [20, 75, 2.5, \"azlan\", False, 3+2j, [3,14,7]]\n",
        "del list_1[4]\n",
        "print(list_1)\n",
        "\n",
        "\n",
        "#using pop to remove and return the element at a specific index (last element if no index is specified).\n",
        "list_1 = [20, 75, 2.5, \"azlan\", False, 3+2j, [3,14,7]]\n",
        "list_2 = list_1.pop(2)\n",
        "print(list_1)\n",
        "print(list_2)"
      ],
      "metadata": {
        "colab": {
          "base_uri": "https://localhost:8080/"
        },
        "id": "OYG057aQ4CqG",
        "outputId": "c56546d1-6765-46fb-b511-40b1ac72f8c0"
      },
      "execution_count": 18,
      "outputs": [
        {
          "output_type": "stream",
          "name": "stdout",
          "text": [
            "[20, 75, 2.5, False, (3+2j), [3, 14, 7]]\n",
            "[20, 75, 2.5, 'azlan', (3+2j), [3, 14, 7]]\n",
            "[20, 75, 'azlan', False, (3+2j), [3, 14, 7]]\n",
            "2.5\n"
          ]
        }
      ]
    },
    {
      "cell_type": "markdown",
      "source": [
        "# **Question 4. Compare and contrast tuples and lists with examples.**"
      ],
      "metadata": {
        "id": "wO4HQ63p43qa"
      }
    },
    {
      "cell_type": "markdown",
      "source": [
        "**Answer:** List is a type of container in data structures of python, which is used to store multiple data types at the same time. Lists are mutable in nature and a useful tool for preserving a sequence of data and further iterating over it. They are made by enclosing a list of objects inside of square brackets[]. Example: number = [1, 7, 9, 4, 65]\n",
        "A tuple is an immutable collection of Python objects separated by commas i.e a tuple can’t be changed or modified after its creation. They are a useful tool for managing and protecting data in Python programmes since their immutability offers a measure of safety by avoiding unintentional changes. Tuples are arranged groups of components denoted by parentheses(). Example: number = (1, 7, 9, 4, 65)\n",
        "\n",
        "1. Lists are mutable (we can change elements)\n"
      ],
      "metadata": {
        "id": "z-owvaux49oB"
      }
    },
    {
      "cell_type": "code",
      "source": [
        "#example:\n",
        "number_list = [10, 17, 24, 9, 74, 104]\n",
        "number_list[1] = 3\n",
        "print(number_list)"
      ],
      "metadata": {
        "colab": {
          "base_uri": "https://localhost:8080/"
        },
        "id": "GRtflm8q4ito",
        "outputId": "1ce90a8c-5af6-4825-8f2c-fb4062719f35"
      },
      "execution_count": 19,
      "outputs": [
        {
          "output_type": "stream",
          "name": "stdout",
          "text": [
            "[10, 3, 24, 9, 74, 104]\n"
          ]
        }
      ]
    },
    {
      "cell_type": "markdown",
      "source": [
        "2. Tuples are immutable in nature that's why when we try to modify or change the value of any elements it throws an error."
      ],
      "metadata": {
        "id": "IKiHd-IG5VL0"
      }
    },
    {
      "cell_type": "code",
      "source": [
        "#example:\n",
        "my_list = (10, 17, 24, 9, 74, 104)\n",
        "my_list[1] = 3 #it will throw an error\n",
        "print(my_list)"
      ],
      "metadata": {
        "colab": {
          "base_uri": "https://localhost:8080/",
          "height": 193
        },
        "id": "3ozv1gNX5OLo",
        "outputId": "f6193e74-b7e0-4186-cb35-4a74a9ee12c2"
      },
      "execution_count": 20,
      "outputs": [
        {
          "output_type": "error",
          "ename": "TypeError",
          "evalue": "'tuple' object does not support item assignment",
          "traceback": [
            "\u001b[0;31m---------------------------------------------------------------------------\u001b[0m",
            "\u001b[0;31mTypeError\u001b[0m                                 Traceback (most recent call last)",
            "\u001b[0;32m<ipython-input-20-546b36036759>\u001b[0m in \u001b[0;36m<cell line: 3>\u001b[0;34m()\u001b[0m\n\u001b[1;32m      1\u001b[0m \u001b[0;31m#example:\u001b[0m\u001b[0;34m\u001b[0m\u001b[0;34m\u001b[0m\u001b[0m\n\u001b[1;32m      2\u001b[0m \u001b[0mmy_list\u001b[0m \u001b[0;34m=\u001b[0m \u001b[0;34m(\u001b[0m\u001b[0;36m10\u001b[0m\u001b[0;34m,\u001b[0m \u001b[0;36m17\u001b[0m\u001b[0;34m,\u001b[0m \u001b[0;36m24\u001b[0m\u001b[0;34m,\u001b[0m \u001b[0;36m9\u001b[0m\u001b[0;34m,\u001b[0m \u001b[0;36m74\u001b[0m\u001b[0;34m,\u001b[0m \u001b[0;36m104\u001b[0m\u001b[0;34m)\u001b[0m\u001b[0;34m\u001b[0m\u001b[0;34m\u001b[0m\u001b[0m\n\u001b[0;32m----> 3\u001b[0;31m \u001b[0mmy_list\u001b[0m\u001b[0;34m[\u001b[0m\u001b[0;36m1\u001b[0m\u001b[0;34m]\u001b[0m \u001b[0;34m=\u001b[0m \u001b[0;36m3\u001b[0m \u001b[0;31m#it will throw an error\u001b[0m\u001b[0;34m\u001b[0m\u001b[0;34m\u001b[0m\u001b[0m\n\u001b[0m\u001b[1;32m      4\u001b[0m \u001b[0mprint\u001b[0m\u001b[0;34m(\u001b[0m\u001b[0mmy_list\u001b[0m\u001b[0;34m)\u001b[0m\u001b[0;34m\u001b[0m\u001b[0;34m\u001b[0m\u001b[0m\n",
            "\u001b[0;31mTypeError\u001b[0m: 'tuple' object does not support item assignment"
          ]
        }
      ]
    },
    {
      "cell_type": "markdown",
      "source": [
        "1. Lists have more methods available because they can be modified. For example: append(), remove(), pop(), sort(), etc."
      ],
      "metadata": {
        "id": "7C2ThCUT5gRF"
      }
    },
    {
      "cell_type": "code",
      "source": [
        "list_1 = [20, 75, 2.5, \"azlan\", [3,14,7]]\n",
        "list_1.append(104)\n",
        "print(list_1)\n",
        "\n",
        "\n",
        "list_1.remove([3,14,7])\n",
        "print(list_1)\n",
        "\n",
        "\n",
        "list_1.pop(3)\n",
        "print(list_1)"
      ],
      "metadata": {
        "colab": {
          "base_uri": "https://localhost:8080/"
        },
        "id": "3qvF_1a95bI9",
        "outputId": "e0af2d5a-bcee-443e-853d-570535ad3318"
      },
      "execution_count": 21,
      "outputs": [
        {
          "output_type": "stream",
          "name": "stdout",
          "text": [
            "[20, 75, 2.5, 'azlan', [3, 14, 7], 104]\n",
            "[20, 75, 2.5, 'azlan', 104]\n",
            "[20, 75, 2.5, 104]\n"
          ]
        }
      ]
    },
    {
      "cell_type": "markdown",
      "source": [
        "2. Tuples have less methods available because of immutability in nature. For example: count(), len(), index(), sorted()"
      ],
      "metadata": {
        "id": "wRA4xoCv6jDk"
      }
    },
    {
      "cell_type": "code",
      "source": [
        "#example:\n",
        "rank = (6, 4, 2, 1, 3, 5)\n",
        "sorted(rank) #print a new tuple with the elements sorted in ascending order\n",
        "print(rank)\n",
        "\n",
        "\n",
        "len(rank) #print the number of elements in a tuple"
      ],
      "metadata": {
        "colab": {
          "base_uri": "https://localhost:8080/"
        },
        "id": "TbmGvUrD5wtH",
        "outputId": "88ae9645-2b91-4607-88bc-93692c2bd737"
      },
      "execution_count": 22,
      "outputs": [
        {
          "output_type": "stream",
          "name": "stdout",
          "text": [
            "(6, 4, 2, 1, 3, 5)\n"
          ]
        },
        {
          "output_type": "execute_result",
          "data": {
            "text/plain": [
              "6"
            ]
          },
          "metadata": {},
          "execution_count": 22
        }
      ]
    },
    {
      "cell_type": "markdown",
      "source": [
        "1. Lists are used when you need a collection of items that might change over time (e.g., adding, removing, or updating items). Lists are great for dynamic data.\n",
        "\n",
        "2. Tuples are used when you need a collection of items that should remain unchanged. Tuples are useful when the data should not be modified and we want to ensure data integrity and security.\n"
      ],
      "metadata": {
        "id": "tYCK7TMp6x0I"
      }
    },
    {
      "cell_type": "markdown",
      "source": [
        "# **Question 5. Describe the key features of sets and provide examples of their use.**"
      ],
      "metadata": {
        "id": "qREgUmh37D_C"
      }
    },
    {
      "cell_type": "markdown",
      "source": [
        "**Answer:** A Python set is an unordered, mutable collection that doesn't allow duplicates, making it ideal for membership checks and supporting various mathematical operations like union and intersection, and it's commonly used to handle unique data and manage element relationships in real-world applications.\n",
        "\n",
        "**Here are the key features of sets in Python:**\n",
        "\n",
        "1. A set is an unordered collection of items that lack a specific order, meaning they cannot be indexed, sliced, or treated like other sequences."
      ],
      "metadata": {
        "id": "UObEZddz7NBL"
      }
    },
    {
      "cell_type": "code",
      "source": [
        "#example:\n",
        "my_set =  {1, 5, 3, 2, 4}\n",
        "print(my_set)"
      ],
      "metadata": {
        "colab": {
          "base_uri": "https://localhost:8080/"
        },
        "id": "p7TCvP717Dyh",
        "outputId": "b5a955ad-1607-4734-ebe4-d11a2434feed"
      },
      "execution_count": 23,
      "outputs": [
        {
          "output_type": "stream",
          "name": "stdout",
          "text": [
            "{1, 2, 3, 4, 5}\n"
          ]
        }
      ]
    },
    {
      "cell_type": "markdown",
      "source": [
        "2. A set exclusively contains unique elements, meaning any duplicate added will be disregarded, making it perfect for ensuring data uniqueness and eliminating duplicates from a collection."
      ],
      "metadata": {
        "id": "VmS8r6107irm"
      }
    },
    {
      "cell_type": "code",
      "source": [
        "#example:\n",
        "abc = {1,5,6,4,1,5,6,7,4,1,6}\n",
        "print(abc)"
      ],
      "metadata": {
        "colab": {
          "base_uri": "https://localhost:8080/"
        },
        "id": "QhMD3KAT6umb",
        "outputId": "be2958d3-5928-492a-e46d-cf2afee67ed8"
      },
      "execution_count": 24,
      "outputs": [
        {
          "output_type": "stream",
          "name": "stdout",
          "text": [
            "{1, 4, 5, 6, 7}\n"
          ]
        }
      ]
    },
    {
      "cell_type": "markdown",
      "source": [
        "3. Sets can change after they're created, allowing you to add or remove elements using methods like add(), remove(), discard(), and pop()."
      ],
      "metadata": {
        "id": "ssEckr4j7DTJ"
      }
    },
    {
      "cell_type": "code",
      "source": [
        "#example:\n",
        "my_set = {1, 2, 5, 3}\n",
        "my_set.add(4)     # Adding an element\n",
        "my_set.remove(2)  # Removing an element\n",
        "print(my_set)"
      ],
      "metadata": {
        "colab": {
          "base_uri": "https://localhost:8080/"
        },
        "id": "iU1J78Sx7yba",
        "outputId": "5e84f810-a6d0-4112-9691-bfb8430a4022"
      },
      "execution_count": 25,
      "outputs": [
        {
          "output_type": "stream",
          "name": "stdout",
          "text": [
            "{1, 3, 4, 5}\n"
          ]
        }
      ]
    },
    {
      "cell_type": "markdown",
      "source": [
        "4. Sets support various mathematical operations, including Union (|) for combining elements, Intersection (&) for identifying common elements, Difference (-) for elements unique to one set, and Symmetric Difference (^) for elements in either set but not both."
      ],
      "metadata": {
        "id": "FwYJxxSu73Rj"
      }
    },
    {
      "cell_type": "code",
      "source": [
        "#example:\n",
        "# Customers who bought from store abc\n",
        "store_abc_customers = {'Azlan', 'Singh', 'Chandan', 'Abdul'}\n",
        "\n",
        "\n",
        "# Customers who bought from Store xyz\n",
        "store_xyz_customers = {'Singh', 'Abdul', 'Khan', 'Kumar'}\n",
        "\n",
        "\n",
        "# 1. Union - All customers who bought from either Store abc or Store xyz (or both)\n",
        "union_customers = store_abc_customers | store_xyz_customers\n",
        "print(\"Union (customers from either store abc or store xyz):\", union_customers)\n",
        "\n",
        "\n",
        "# 2. Intersection - Customers who bought from both Store abc and Store xyz\n",
        "intersection_customers = store_abc_customers & store_xyz_customers\n",
        "print(\"Intersection (customers who bought from both stores):\", intersection_customers)\n",
        "\n",
        "\n",
        "# 3. Difference - Customers who bought from Store abc but not Store xyz\n",
        "difference_customers = store_abc_customers - store_xyz_customers\n",
        "print(\"Difference (customers who bought only from Store abc):\", difference_customers)\n",
        "\n",
        "\n",
        "# 4. Symmetric Difference - Customers who bought from either Store abc or Store xyz but not both\n",
        "symmetric_difference_customers = store_abc_customers ^ store_xyz_customers\n",
        "print(\"Symmetric Difference (customers who bought from one store but not both):\", symmetric_difference_customers)"
      ],
      "metadata": {
        "colab": {
          "base_uri": "https://localhost:8080/"
        },
        "id": "ecZ4-5L170iw",
        "outputId": "13c18df0-9f0a-460a-f3bb-b3602b3bf80b"
      },
      "execution_count": 26,
      "outputs": [
        {
          "output_type": "stream",
          "name": "stdout",
          "text": [
            "Union (customers from either store abc or store xyz): {'Chandan', 'Singh', 'Kumar', 'Azlan', 'Abdul', 'Khan'}\n",
            "Intersection (customers who bought from both stores): {'Singh', 'Abdul'}\n",
            "Difference (customers who bought only from Store abc): {'Azlan', 'Chandan'}\n",
            "Symmetric Difference (customers who bought from one store but not both): {'Chandan', 'Kumar', 'Azlan', 'Khan'}\n"
          ]
        }
      ]
    },
    {
      "cell_type": "markdown",
      "source": [
        "5. Sets provide fast membership testing. This means checking whether an item exists in a set is generally faster than in a list, especially when we are using large datasets."
      ],
      "metadata": {
        "id": "wgzgLfrm8QiF"
      }
    },
    {
      "cell_type": "code",
      "source": [
        "#example:\n",
        "name_list = {\"azlan\", \"khan\", \"singh\", \"kumar\"}\n",
        "print(\"azlan\" in name_list)"
      ],
      "metadata": {
        "colab": {
          "base_uri": "https://localhost:8080/"
        },
        "id": "r-hUAUCA8Ax2",
        "outputId": "180ea6cc-c2ff-455a-e9e9-004ca9d27521"
      },
      "execution_count": 27,
      "outputs": [
        {
          "output_type": "stream",
          "name": "stdout",
          "text": [
            "True\n"
          ]
        }
      ]
    },
    {
      "cell_type": "markdown",
      "source": [
        "6. Sets have important methods for managing elements. You can use **add()** to include an element, while **remove()** deletes a specified element and raises an error if it’s not found. The **discard()** method also removes an element but does nothing if it’s absent. Use **pop()** to remove and return a random element. To clear out all elements, apply **clear()**, and for a duplicate, **copy()** creates a shallow copy of the set. These methods make working with sets straightforward and efficient."
      ],
      "metadata": {
        "id": "sFDc6Nhi8b3f"
      }
    },
    {
      "cell_type": "code",
      "source": [
        "#example:\n",
        "fruit_bucket = {\"guava\", \"orange\", \"apple\", \"litchi\", \"watermelon\"}\n",
        "\n",
        "\n",
        "# add() #Adding a new fruit to the bucket.\n",
        "fruit_bucket.add(\"banana\")\n",
        "print(fruit_bucket)\n",
        "\n",
        "\n",
        "# remove() #Removes a specific fruit from the bucket >>raises KeyError if fruit is not found.\n",
        "fruit_bucket.remove(\"watermelon\")  #Removes 'watermelon' from the set\n",
        "print(fruit_bucket)\n",
        "\n",
        "\n",
        "# discard() #Removes a specific fruit from the bucket >>doesn't raise error if fruit is not found in the set.\n",
        "fruit_bucket.discard(\"pear\")  #The pear is not in the set, so nothing will change.\n",
        "print(fruit_bucket)\n",
        "\n",
        "\n",
        "# pop() #Removes and returns any random fruit from the bucket >>because sets are unordered.\n",
        "popped_fruit = fruit_bucket.pop()  # Removes any random element from the set\n",
        "print(\"Removed fruit is:\", popped_fruit)\n",
        "print(fruit_bucket)\n",
        "\n",
        "\n",
        "# clear() #Remove all fruits from the bucket >>leaving it blank.\n",
        "fruit_bucket.clear()\n",
        "print(\"Empty:\", fruit_bucket)\n",
        "type(fruit_bucket)"
      ],
      "metadata": {
        "colab": {
          "base_uri": "https://localhost:8080/"
        },
        "id": "RbK98krO8Wel",
        "outputId": "0018cfed-c490-4c47-f4df-b62d4f70c90e"
      },
      "execution_count": 28,
      "outputs": [
        {
          "output_type": "stream",
          "name": "stdout",
          "text": [
            "{'banana', 'apple', 'watermelon', 'orange', 'guava', 'litchi'}\n",
            "{'banana', 'apple', 'orange', 'guava', 'litchi'}\n",
            "{'banana', 'apple', 'orange', 'guava', 'litchi'}\n",
            "Removed fruit is: banana\n",
            "{'apple', 'orange', 'guava', 'litchi'}\n",
            "Empty: set()\n"
          ]
        },
        {
          "output_type": "execute_result",
          "data": {
            "text/plain": [
              "set"
            ]
          },
          "metadata": {},
          "execution_count": 28
        }
      ]
    },
    {
      "cell_type": "markdown",
      "source": [
        "# ***Question 6. Discuss the use cases of tuples and sets in Python programming ?***"
      ],
      "metadata": {
        "id": "Rlnh96KPEpow"
      }
    },
    {
      "cell_type": "markdown",
      "source": [
        "**Answer :**In Python programming, tuples and sets are both types of collections, but they are used in different situations.\n",
        "\n",
        "\n",
        "**TUPLES**\n",
        "\n",
        "A Tuple is an ordered collection of items. Once you create a tuple, you cannot change its values. It’s like a list, but immutable (cannot be changed)\n",
        "\n",
        "\n",
        "\n",
        "\n",
        "**Use cases for tuples:**\n",
        "\n",
        "1. Storing data that shouldn’t change: If you have a fixed set of values that shouldn’t be modified, you can use a tuple. For example, coordinates (latitude, longitude) or days of the week.\n",
        "\n",
        "\n",
        "2. Faster than lists: Because tuples cannot be changed, they are usually faster than lists when it comes to accessing data.\n",
        "\n",
        "\n",
        "3. Multiple return values: When a function needs to return multiple values, using a tuple is a good idea. You can return several values at once in the form of a tuple.\n"
      ],
      "metadata": {
        "id": "XiRqskXM_NaW"
      }
    },
    {
      "cell_type": "code",
      "source": [
        "#Example\n",
        "coordinates = (10.0, 20.0)  # Tuple of coordinates (fixed values)"
      ],
      "metadata": {
        "id": "63f2oDo9_Pdg"
      },
      "execution_count": 29,
      "outputs": []
    },
    {
      "cell_type": "markdown",
      "source": [
        "**Sets**\n",
        "\n",
        "A **set** is an unordered collection of unique items. It doesn’t allow duplicate values and doesn’t guarantee the order of items.\n",
        "\n",
        "\n",
        "\n",
        "**Use cases for sets:**\n",
        "\n",
        "\n",
        "\n",
        "\n",
        "\n",
        "1. Removing duplicates: If you have a collection of items and want to get rid of duplicates, a set is perfect.\n",
        "\n",
        "\n",
        "2. Membership checking: Sets are useful when you need to check if an item is present in a collection because checking membership in a set is faster than in lists or tuples.\n",
        "\n",
        "\n",
        "3. Mathematical operations: Sets support operations like union, intersection, and difference, which are useful in problems related to set theory."
      ],
      "metadata": {
        "id": "zhqMMKx-_wlj"
      }
    },
    {
      "cell_type": "code",
      "source": [
        "#Example\n",
        "numbers = {1, 2, 3, 4}  # Set of unique numbers"
      ],
      "metadata": {
        "id": "xY08KijD_4XF"
      },
      "execution_count": 31,
      "outputs": []
    },
    {
      "cell_type": "markdown",
      "source": [
        "### **Key Points for Special Use Cases:**\n",
        "\n",
        "\n",
        "*   **Tuples** are great for creating immutable data structures, for returning multiple values from a function, and for serving as dictionary keys.\n",
        "\n",
        "*   **Sets** shine in removing duplicates, performing mathematical set operations, and working with unique tags or combinations in large datasets.\n",
        "\n",
        "\n",
        "\n",
        "Both tuples and sets bring unique properties to the table that can be very useful in specific scenarios!"
      ],
      "metadata": {
        "id": "YgQWEQs9AAPk"
      }
    },
    {
      "cell_type": "markdown",
      "source": [
        "## **Question 7. Describe how to add, modify, and delete items in a dictionary with examples.**"
      ],
      "metadata": {
        "id": "Jv9pWGw3GirJ"
      }
    },
    {
      "cell_type": "markdown",
      "source": [
        "**Answer:** In Python, a dictionary is like a collection of \"labels\" (keys) and \"values\" (the data associated with each label). You can easily add, change, or remove things in it. Let’s go through each operation with some relatable examples.\n",
        "\n",
        "**1. Adding Items to a Dictionary**\n",
        "Adding an item to a dictionary is as simple as creating a new \"label\" and giving it a \"value.\"\n",
        "\n",
        "**Example 1: Adding a New Key-Value Pair:**\n",
        "\n",
        "Imagine you're storing details about a book. You start with a dictionary that has the book’s title and author, but you want to add the year it was published.\n",
        "\n"
      ],
      "metadata": {
        "id": "9p6fxLDdAEcV"
      }
    },
    {
      "cell_type": "code",
      "source": [
        "#Starting with a dictionary about the book\n",
        "book = {\"title\": \"To Kill a Mockingbird\", \"author\": \"Harper Lee\"}\n",
        "\n",
        "# Add the year the book was published\n",
        "book[\"year\"] = 1960\n",
        "\n",
        "print(book)"
      ],
      "metadata": {
        "colab": {
          "base_uri": "https://localhost:8080/"
        },
        "id": "tJxr4BlX_7zJ",
        "outputId": "e5f27440-67d1-4851-f5d3-85030b451580"
      },
      "execution_count": 32,
      "outputs": [
        {
          "output_type": "stream",
          "name": "stdout",
          "text": [
            "{'title': 'To Kill a Mockingbird', 'author': 'Harper Lee', 'year': 1960}\n"
          ]
        }
      ]
    },
    {
      "cell_type": "markdown",
      "source": [
        "\n",
        "\n",
        "Here, the key \"year\" is new, and its value is 1960. Now the book dictionary contains this additional information.\n",
        "\n",
        "**Example 2: Adding or Modifying with Existing Keys:**\n",
        "\n",
        "If you want to change the \"year\" to another value or add something new like the genre of the book, you just assign a new value.\n"
      ],
      "metadata": {
        "id": "CLOF5V74ALcJ"
      }
    },
    {
      "cell_type": "code",
      "source": [
        "#Modify the year or add a genre\n",
        "book[\"year\"] = 1961  # Changing the year\n",
        "book[\"genre\"] = \"Fiction\"  # Adding genre\n",
        "\n",
        "print(book)"
      ],
      "metadata": {
        "colab": {
          "base_uri": "https://localhost:8080/"
        },
        "id": "5l6zLptlAY1f",
        "outputId": "940b6cd4-eb7e-47d5-e242-c769221c2a94"
      },
      "execution_count": 33,
      "outputs": [
        {
          "output_type": "stream",
          "name": "stdout",
          "text": [
            "{'title': 'To Kill a Mockingbird', 'author': 'Harper Lee', 'year': 1961, 'genre': 'Fiction'}\n"
          ]
        }
      ]
    },
    {
      "cell_type": "markdown",
      "source": [
        "Notice that if \"year\" already existed, we updated it to 1961. If \"genre\" was new, we added it as a new key-value pair."
      ],
      "metadata": {
        "id": "K1sQ4347AhAd"
      }
    },
    {
      "cell_type": "markdown",
      "source": [
        "**2. Modifying Items in a Dictionary**\n",
        "If the key already exists in the dictionary, modifying the value is super easy. Just treat it like you're updating something on a to-do list.\n",
        "\n",
        "**Example: Changing the Value for an Existing Key:**\n",
        "\n",
        "Let’s say you want to update the author's name in your book dictionary, but only because you made a small correction.[link text](https://)"
      ],
      "metadata": {
        "id": "XizKuTobA-BL"
      }
    },
    {
      "cell_type": "code",
      "source": [
        "#Correcting the author's name\n",
        "book[\"author\"] = \"Harper Lee (Revised)\"\n",
        "\n",
        "print(book)"
      ],
      "metadata": {
        "colab": {
          "base_uri": "https://localhost:8080/"
        },
        "id": "TbqXFmHWA_yy",
        "outputId": "04362c96-64b3-47f8-8128-8f44c1036042"
      },
      "execution_count": 34,
      "outputs": [
        {
          "output_type": "stream",
          "name": "stdout",
          "text": [
            "{'title': 'To Kill a Mockingbird', 'author': 'Harper Lee (Revised)', 'year': 1961, 'genre': 'Fiction'}\n"
          ]
        }
      ]
    },
    {
      "cell_type": "markdown",
      "source": [
        "Here, the **\"author\"** value is updated, and the rest of the dictionary remains unchanged."
      ],
      "metadata": {
        "id": "2FdNaCOkBVfS"
      }
    },
    {
      "cell_type": "markdown",
      "source": [
        "**3. Deleting Items from a Dictionary**\n",
        "\n",
        "Sometimes, you need to remove a key-value pair from a dictionary. Python offers a couple of simple ways to do this, depending on how you want to handle the removal.\n",
        "\n",
        "**Example 1: Using del to Remove an Item:**\n",
        "\n",
        "Imagine the book was later adapted into a movie, and now you no longer care about the year it was published. You can delete that entry with **del**"
      ],
      "metadata": {
        "id": "KkMOel02BdvA"
      }
    },
    {
      "cell_type": "code",
      "source": [
        "#Remove the 'year' key from the dictionary\n",
        "del book[\"year\"]\n",
        "\n",
        "print(book)"
      ],
      "metadata": {
        "colab": {
          "base_uri": "https://localhost:8080/"
        },
        "id": "1YKVagkdBlNJ",
        "outputId": "7fba2bf5-bd19-4d7c-e589-5e14d17d4197"
      },
      "execution_count": 35,
      "outputs": [
        {
          "output_type": "stream",
          "name": "stdout",
          "text": [
            "{'title': 'To Kill a Mockingbird', 'author': 'Harper Lee (Revised)', 'genre': 'Fiction'}\n"
          ]
        }
      ]
    },
    {
      "cell_type": "markdown",
      "source": [
        "Here, the \"year\" key is completely removed from the dictionary. The del command is simple, and it's useful when you know exactly which item to remove.\n",
        "\n",
        "\n",
        "\n",
        "**Example 2: Using pop() to Remove and Retrieve the Value:**\n",
        "\n",
        "If you want to remove a key and also use its value later, pop() is the way to go. Let's say you want to delete the \"genre\" but need the genre name for a different purpose."
      ],
      "metadata": {
        "id": "znsuI8_0B9J-"
      }
    },
    {
      "cell_type": "code",
      "source": [
        "#Remove and capture the value of 'genre'\n",
        "removed_genre = book.pop(\"genre\")\n",
        "\n",
        "print(removed_genre)  # Output: Fiction\n",
        "print(book)"
      ],
      "metadata": {
        "colab": {
          "base_uri": "https://localhost:8080/"
        },
        "id": "3_nyCqL6BnZ5",
        "outputId": "af7a21c2-3779-4fc7-d45f-c91043b8fbb4"
      },
      "execution_count": 36,
      "outputs": [
        {
          "output_type": "stream",
          "name": "stdout",
          "text": [
            "Fiction\n",
            "{'title': 'To Kill a Mockingbird', 'author': 'Harper Lee (Revised)'}\n"
          ]
        }
      ]
    },
    {
      "cell_type": "markdown",
      "source": [
        "The pop() method removes the \"genre\" key and gives you the value \"Fiction\" that you can store or use later. It’s helpful when you want to handle the removed value.\n",
        "\n",
        "**Example 3: Using popitem() to Remove the Last Item:**\n",
        "\n",
        "If you want to remove the last item you added, popitem() is a quick way to do it. This is useful when you're dealing with dictionaries that maintain insertion order"
      ],
      "metadata": {
        "id": "T570J-lACIqN"
      }
    },
    {
      "cell_type": "code",
      "source": [
        "#Remove and return the last item\n",
        "last_item = book.popitem()\n",
        "\n",
        "print(last_item)  # Output: ('author', 'Harper Lee (Revised)')\n",
        "print(book)"
      ],
      "metadata": {
        "colab": {
          "base_uri": "https://localhost:8080/"
        },
        "id": "OgNNmvqhCCoc",
        "outputId": "c9a9e53a-edea-4679-ebf7-a5548d677867"
      },
      "execution_count": 37,
      "outputs": [
        {
          "output_type": "stream",
          "name": "stdout",
          "text": [
            "('author', 'Harper Lee (Revised)')\n",
            "{'title': 'To Kill a Mockingbird'}\n"
          ]
        }
      ]
    },
    {
      "cell_type": "markdown",
      "source": [
        "popitem() removes and returns the last key-value pair. It’s a good way to get rid of the most recent addition to the dictionary.\n",
        "\n",
        "### **SUMMARY**\n",
        "\n",
        "\n",
        "\n",
        "* **Add:** Use dict[key] = value to insert new items or update existing ones.\n",
        "\n",
        "* **Modify:** Directly reassign a new value to an existing key with dict[key] = new_value.\n",
        "\n",
        "* **Delete:** Remove items with del dict[key], dict.pop(key) (which also returns the value), or dict.popitem() for the last item.\n",
        "\n",
        "\n",
        "Dictionaries are super flexible and allow for easy updates, removals, and additions, making them ideal for managing collections of related data!\n",
        "\n"
      ],
      "metadata": {
        "id": "PArjLrKoCYPq"
      }
    },
    {
      "cell_type": "markdown",
      "source": [
        "## **Question 8. Discuss the importance of dictionary keys being immutable and provide examples.**"
      ],
      "metadata": {
        "id": "d5eH6RCEH1ox"
      }
    },
    {
      "cell_type": "markdown",
      "source": [
        "**Answer:** In Python, dictionary keys must be immutable, meaning they can't be changed after they're created. This immutability is essential because dictionaries are designed for fast lookups, and each key is mapped to a unique location in memory based on its content. If dictionary keys were mutable and could change, the entire structure would become unreliable, as keys would no longer consistently point to the same values. Here’s a breakdown of why this matters and some unique examples to illustrate it.\n",
        "\n",
        "### **Why Immutability is Important**\n",
        "\n",
        "1. **Reliability in Lookups:** When we use a dictionary, we rely on each key to reliably map to its corresponding value. If a key could change, it could \"lose\" its place in the dictionary, creating bugs and making data retrieval unpredictable.\n",
        "\n",
        "2. **Memory Efficiency:** Immutability allows Python to calculate a \"hash\" for each key when the dictionary is created or updated. A hash is a unique identifier generated based on the key's content. Because immutable objects like strings or numbers can’t change, their hash values remain consistent. If a mutable object (like a list) were used as a key and its contents changed, Python wouldn’t know where to find it because the hash would change too.\n",
        "\n",
        "3. **Data Integrity**: Immutable keys ensure that data remains stable over time. If keys could be modified, the dictionary's structure could get messed up, breaking the program’s logic.\n",
        "\n",
        "### **Examples to Illustrate This**\n",
        "  Imagine you’re managing different customer accounts in a digital bank, and you want to store each customer's information by a unique identifier.\n",
        "\n",
        "**Example 1: Using Customer Name as a Key**\n",
        "\n",
        "Let's say you think of using the customer’s name as a dictionary key\n",
        "\n"
      ],
      "metadata": {
        "id": "fsFv3wjJCpng"
      }
    },
    {
      "cell_type": "code",
      "source": [
        "customers = {\n",
        "    \"AliceGreen\": {\"balance\": 1500, \"account_type\": \"savings\"},\n",
        "    \"BobSmith\": {\"balance\": 5000, \"account_type\": \"checking\"}\n",
        "    }"
      ],
      "metadata": {
        "id": "w1nwfEu1Cx7D"
      },
      "execution_count": 45,
      "outputs": []
    },
    {
      "cell_type": "markdown",
      "source": [
        "Now, let’s say Alice gets married and changes her name from \"AliceGreen\" to \"AliceBrown.\" If you could directly modify the key to reflect her new name, it would break the dictionary’s internal structure. You’d lose the link to Alice’s account because changing the key is essentially like deleting it and creating a new one, resulting in data inconsistency.\n",
        "\n",
        "**Example 2: Using a List as a Key**\n",
        "\n",
        "Imagine you’re storing products and their details in an e-commerce platform. You might consider a list containing product attributes as a key:"
      ],
      "metadata": {
        "id": "0Bj6FcSwC4TX"
      }
    },
    {
      "cell_type": "code",
      "source": [
        "products = {\n",
        "    [\"Laptop\", \"Dell\", \"XPS 13\"]: {\"price\": 1200, \"stock\": 20}\n",
        "}"
      ],
      "metadata": {
        "colab": {
          "base_uri": "https://localhost:8080/",
          "height": 176
        },
        "id": "GYQzEtp2C-V_",
        "outputId": "d60aa6aa-0d22-4524-e071-c5a6a61f25e7"
      },
      "execution_count": 44,
      "outputs": [
        {
          "output_type": "error",
          "ename": "TypeError",
          "evalue": "unhashable type: 'list'",
          "traceback": [
            "\u001b[0;31m---------------------------------------------------------------------------\u001b[0m",
            "\u001b[0;31mTypeError\u001b[0m                                 Traceback (most recent call last)",
            "\u001b[0;32m<ipython-input-44-ae2f3132a918>\u001b[0m in \u001b[0;36m<cell line: 2>\u001b[0;34m()\u001b[0m\n\u001b[0;32m----> 1\u001b[0;31m products = {\n\u001b[0m\u001b[1;32m      2\u001b[0m     \u001b[0;34m[\u001b[0m\u001b[0;34m\"Laptop\"\u001b[0m\u001b[0;34m,\u001b[0m \u001b[0;34m\"Dell\"\u001b[0m\u001b[0;34m,\u001b[0m \u001b[0;34m\"XPS 13\"\u001b[0m\u001b[0;34m]\u001b[0m\u001b[0;34m:\u001b[0m \u001b[0;34m{\u001b[0m\u001b[0;34m\"price\"\u001b[0m\u001b[0;34m:\u001b[0m \u001b[0;36m1200\u001b[0m\u001b[0;34m,\u001b[0m \u001b[0;34m\"stock\"\u001b[0m\u001b[0;34m:\u001b[0m \u001b[0;36m20\u001b[0m\u001b[0;34m}\u001b[0m\u001b[0;34m\u001b[0m\u001b[0;34m\u001b[0m\u001b[0m\n\u001b[1;32m      3\u001b[0m }\n",
            "\u001b[0;31mTypeError\u001b[0m: unhashable type: 'list'"
          ]
        }
      ]
    },
    {
      "cell_type": "markdown",
      "source": [
        "If this were allowed and you later wanted to update the list (for instance, adding a new attribute like color), changing the list would alter its memory location. The dictionary would lose track of the \"Laptop, Dell, XPS 13\" entry because the key has changed. Instead, you must use immutable types, like a tuple, to ensure that your product entry remains consistent.\n",
        "\n",
        "**Example 3: Tracking Vehicle Location:**\n",
        "\n",
        "Let’s say you’re building a system to track vehicles, and you want to store each vehicle’s data using its license plate number as the key:"
      ],
      "metadata": {
        "id": "xhaELs0UELyH"
      }
    },
    {
      "cell_type": "code",
      "source": [
        "vehicles = {\n",
        "    \"AB1234\": {\"location\": \"Downtown\", \"speed\": 60}\n",
        "}"
      ],
      "metadata": {
        "id": "Ptq-pLreEQZS"
      },
      "execution_count": 46,
      "outputs": []
    },
    {
      "cell_type": "markdown",
      "source": [
        "If license plate numbers could change, say by users deciding to modify the plate to a custom one (like \"MYCAR01\"), allowing this mutable change in the key would be disastrous. The dictionary would have no way of knowing how to retrieve the vehicle’s information when its key changes. Using an immutable license plate string ensures that each vehicle's data remains reliably accessible.\n",
        "\n",
        "### **Conclusion**\n",
        "\n",
        "By requiring dictionary keys to be immutable, Python ensures that dictionaries remain efficient, predictable, and error-free. This design choice allows programmers to trust that once a key is set, it will always map to the same value. It might seem limiting at first, but immutability in dictionary keys is what makes Python dictionaries powerful and reliable for storing and retrieving data."
      ],
      "metadata": {
        "id": "VbS9JTb2EYHU"
      }
    },
    {
      "cell_type": "code",
      "source": [],
      "metadata": {
        "id": "1a3pkFUrEU_W"
      },
      "execution_count": null,
      "outputs": []
    }
  ]
}